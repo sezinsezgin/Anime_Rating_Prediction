{
 "cells": [
  {
   "cell_type": "markdown",
   "metadata": {},
   "source": [
    "### libraries"
   ]
  },
  {
   "cell_type": "code",
   "execution_count": 1,
   "metadata": {},
   "outputs": [],
   "source": [
    "import pandas as pd\n",
    "import numpy as np\n",
    "import csv"
   ]
  },
  {
   "cell_type": "markdown",
   "metadata": {},
   "source": [
    "### Anime Tupe Rules"
   ]
  },
  {
   "cell_type": "code",
   "execution_count": 2,
   "metadata": {},
   "outputs": [],
   "source": [
    "class AnimeRules:\n",
    "  def __init__(self, dirty_dataset, cleaned_dataset):\n",
    "    self.dirty_dataset = dirty_dataset\n",
    "    self.cleaned_dataset = cleaned_dataset\n",
    "    self.df_d = pd.read_csv(dirty_dataset)\n",
    "    self.df_d['type'].fillna('',  inplace=True)\n",
    "    \n",
    "  def movie_rule(self):\n",
    "        cnt = 0\n",
    "        for index, row in self.df_d.iterrows():\n",
    "            if (float(row['episodes']) == 1.0) and (\"movie\" not in row['type'] or row['type'] is \"\"):\n",
    "                    cnt+=1\n",
    "                            \n",
    "        print(\"Number of Detected Tuples are {}\".format(cnt))\n",
    "\n",
    "  def series_rule(self):\n",
    "        cnt = 0\n",
    "        for index, row in self.df_d.iterrows():\n",
    "            if (float(row['episodes']) != 1.0) and (\"movie\" in row['type'] or row['type'] is \"\"):\n",
    "                    cnt+=1\n",
    "                            \n",
    "        print(\"Number of Detected Tuples are {}\".format(cnt))\n",
    "        \n",
    "  def repairing(self):\n",
    "        print(self.df_d['type'].count())\n",
    "        for index, row in self.df_d.iterrows():\n",
    "            if float(row['episodes']) != 1.0 and (\"movie\" in row['type'] or row['type'] is \"\"):\n",
    "                    self.df_d.at[index,'type'] = \"tv series\"\n",
    "            elif (float(row['episodes']) == 1.0) and (\"movie\" not in row['type'] or row['type'] is \"\"):\n",
    "                    self.df_d.at[index,'type'] = \"movie\"\n",
    "           \n",
    "        print(self.df_d['type'].count())\n",
    "        self.df_d.to_csv(self.cleaned_dataset, index = False)"
   ]
  },
  {
   "cell_type": "markdown",
   "metadata": {},
   "source": [
    "### Error Detection & Repair"
   ]
  },
  {
   "cell_type": "code",
   "execution_count": 3,
   "metadata": {},
   "outputs": [
    {
     "name": "stdout",
     "output_type": "stream",
     "text": [
      "Error detection of anime series\n",
      "Number of Detected Tuples are 446\n",
      "Error detection of anime movies\n",
      "Number of Detected Tuples are 400\n",
      "repairing.....! check please data directory\n",
      "1600\n",
      "1600\n"
     ]
    }
   ],
   "source": [
    "dirty_anime_data = \"data/dirtyTrainDataset.csv\"\n",
    "cleaned_anime_data = \"data/CleanedData.csv\"\n",
    "\n",
    "FixData = AnimeRules(dirty_anime_data, cleaned_anime_data)\n",
    "\n",
    "print(\"Error detection of anime series\")\n",
    "FixData.series_rule()\n",
    "\n",
    "print(\"Error detection of anime movies\")\n",
    "FixData.movie_rule()\n",
    "\n",
    "print(\"repairing.....! check please data directory\")\n",
    "FixData.repairing()"
   ]
  },
  {
   "cell_type": "markdown",
   "metadata": {},
   "source": [
    "### Precision and Recall"
   ]
  },
  {
   "cell_type": "code",
   "execution_count": 4,
   "metadata": {},
   "outputs": [
    {
     "name": "stdout",
     "output_type": "stream",
     "text": [
      "   anime_id                       name                       genre       type  \\\n",
      "0     12429    Anata ga Furikaeru Toki       Romance,School,Shoujo  tv series   \n",
      "1     33888                    Jubilee  Comedy,Drama,Fantasy,Music      movie   \n",
      "2      1860      Eiyuu Gaiden Mozaicka                   Animation      movie   \n",
      "3      2848              Sky Girls OVA      Animation,Short,Sci-Fi      movie   \n",
      "4     22625  Gakuen de Jikan yo Tomare                      Hentai      movie   \n",
      "\n",
      "   episodes  rating  members  \\\n",
      "0         2    6.56     4621   \n",
      "1         3    4.67       35   \n",
      "2        14    7.31    43632   \n",
      "3         1    7.65     6953   \n",
      "4         1    6.00       75   \n",
      "\n",
      "                                            overview  \n",
      "0  'Kiteretsu Daihyakka is the story of Eichii Ki...  \n",
      "1  'Queen Elisabeth I travels 400 years into the ...  \n",
      "2                                                NaN  \n",
      "3  'Earth is at war with aliens. The war has left...  \n",
      "4  \"In order to wish for immortality and avenge h...  \n",
      "   anime_id                       name                       genre   type  \\\n",
      "0     12429    Anata ga Furikaeru Toki       Romance,School,Shoujo    NaN   \n",
      "1     33888                    Jubilee  Comedy,Drama,Fantasy,Music  movie   \n",
      "2      1860      Eiyuu Gaiden Mozaicka                   Animation  movie   \n",
      "3      2848              Sky Girls OVA      Animation,Short,Sci-Fi  movie   \n",
      "4     22625  Gakuen de Jikan yo Tomare                      Hentai  movie   \n",
      "\n",
      "   episodes  rating  members  \\\n",
      "0         2    6.56     4621   \n",
      "1         3    4.67       35   \n",
      "2        14    7.31    43632   \n",
      "3         1    7.65     6953   \n",
      "4         1    6.00       75   \n",
      "\n",
      "                                            overview  \n",
      "0  'Kiteretsu Daihyakka is the story of Eichii Ki...  \n",
      "1  'Queen Elisabeth I travels 400 years into the ...  \n",
      "2                                                NaN  \n",
      "3  'Earth is at war with aliens. The war has left...  \n",
      "4  \"In order to wish for immortality and avenge h...  \n",
      "   anime_id                       name                       genre       type  \\\n",
      "0     12429    Anata ga Furikaeru Toki       Romance,School,Shoujo  tv series   \n",
      "1     33888                    Jubilee  Comedy,Drama,Fantasy,Music  tv series   \n",
      "2      1860      Eiyuu Gaiden Mozaicka                   Animation  tv series   \n",
      "3      2848              Sky Girls OVA      Animation,Short,Sci-Fi      movie   \n",
      "4     22625  Gakuen de Jikan yo Tomare                      Hentai      movie   \n",
      "\n",
      "   episodes  rating  members  \\\n",
      "0         2    6.56     4621   \n",
      "1         3    4.67       35   \n",
      "2        14    7.31    43632   \n",
      "3         1    7.65     6953   \n",
      "4         1    6.00       75   \n",
      "\n",
      "                                            overview  \n",
      "0  'Kiteretsu Daihyakka is the story of Eichii Ki...  \n",
      "1  'Queen Elisabeth I travels 400 years into the ...  \n",
      "2                                                NaN  \n",
      "3  'Earth is at war with aliens. The war has left...  \n",
      "4  \"In order to wish for immortality and avenge h...  \n",
      "Detected error and fixed 108\n",
      "Did not find error 92\n",
      "No error implemnted - nothing fixed 702\n",
      "No error implemented - fixed wrong 698\n"
     ]
    }
   ],
   "source": [
    "original_data = pd.read_csv(\"data/TrainDataset.csv\")\n",
    "dirty_data = pd.read_csv(\"data/dirtyTrainDataset.csv\")\n",
    "cleaned_data = pd.read_csv(\"data/CleanedData.csv\")\n",
    "\n",
    "matrix = pd.DataFrame(columns=[\"predicted True\", \"predicted False\"], index=[\"actual True\", \"actual False\"], data=[[0,0],[0,0]])\n",
    "\n",
    "print(original_data.head())\n",
    "print(dirty_data.head())\n",
    "print(cleaned_data.head())\n",
    "\n",
    "for column in [\"type\"]:\n",
    "    for i in range(0, len(cleaned_data[column])):\n",
    "        \n",
    "        # 1 - Cleaned in correct way \n",
    "        if cleaned_data[column][i] == original_data[column][i] and original_data[column][i] != dirty_data[column][i]:\n",
    "            matrix[\"predicted True\"][\"actual True\"] = matrix[\"predicted True\"][\"actual True\"]+1\n",
    "            #print(\"Detected error and fixed\")\n",
    "            \n",
    "        # 2 - Cleaned in wrong way: Detected error and replaced wrong\n",
    "        elif cleaned_data[column][i] != original_data[column][i] and original_data[column][i] != dirty_data[column][i]:\n",
    "            matrix[\"predicted False\"][\"actual True\"] = matrix[\"predicted False\"][\"actual True\"]+1\n",
    "            #print(\"Did not find error\")\n",
    "            \n",
    "        # No cleaning necessary - no cleaning done\n",
    "        elif cleaned_data[column][i] == original_data[column][i] and original_data[column][i] == dirty_data[column][i]:\n",
    "            matrix[\"predicted False\"][\"actual False\"] = matrix[\"predicted False\"][\"actual False\"]+1\n",
    "            #print(\"No error implemnted - nothing fixed\")\n",
    "            \n",
    "        # Cleaned - no cleaning necessary\n",
    "        elif cleaned_data[column][i] != original_data[column][i] and original_data[column][i] == dirty_data[column][i]:\n",
    "            matrix[\"predicted True\"][\"actual False\"] = matrix[\"predicted True\"][\"actual False\"]+1\n",
    "            #print(\"No error implemented - fixed wrong\")\n",
    "            \n",
    "print(\"Detected error and fixed\",matrix[\"predicted True\"][\"actual True\"])\n",
    "print(\"Did not find error\",matrix[\"predicted False\"][\"actual True\"])\n",
    "print(\"No error implemnted - nothing fixed\",matrix[\"predicted False\"][\"actual False\"])\n",
    "print(\"No error implemented - fixed wrong\",matrix[\"predicted True\"][\"actual False\"])\n",
    "\n"
   ]
  },
  {
   "cell_type": "code",
   "execution_count": null,
   "metadata": {},
   "outputs": [],
   "source": []
  }
 ],
 "metadata": {
  "kernelspec": {
   "display_name": "Python 3",
   "language": "python",
   "name": "python3"
  },
  "language_info": {
   "codemirror_mode": {
    "name": "ipython",
    "version": 3
   },
   "file_extension": ".py",
   "mimetype": "text/x-python",
   "name": "python",
   "nbconvert_exporter": "python",
   "pygments_lexer": "ipython3",
   "version": "3.7.1"
  }
 },
 "nbformat": 4,
 "nbformat_minor": 2
}

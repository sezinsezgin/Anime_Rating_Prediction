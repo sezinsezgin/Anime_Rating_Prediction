{
 "cells": [
  {
   "cell_type": "markdown",
   "metadata": {},
   "source": [
    "### libraries"
   ]
  },
  {
   "cell_type": "code",
   "execution_count": 5,
   "metadata": {},
   "outputs": [],
   "source": [
    "import pandas as pd\n",
    "import numpy as np\n",
    "import csv"
   ]
  },
  {
   "cell_type": "markdown",
   "metadata": {},
   "source": [
    "### Anime Tupe Rules"
   ]
  },
  {
   "cell_type": "code",
   "execution_count": 10,
   "metadata": {},
   "outputs": [],
   "source": [
    "class AnimeRules:\n",
    "  def __init__(self, dirty_dataset, cleaned_dataset):\n",
    "    self.dirty_dataset = dirty_dataset\n",
    "    self.cleaned_dataset = cleaned_dataset\n",
    "    self.df_d = pd.read_csv(dirty_dataset)\n",
    "    \n",
    "  def movie_rule(self):\n",
    "    \n",
    "        cnt = 0\n",
    "        for index, row in self.df_d.iterrows():\n",
    "            if float(row['episodes']) == 1.0 and (\"movie\" not in row['type'] or pd.isnull(row['type'])):\n",
    "                    cnt+=1\n",
    "                            \n",
    "        print(\"Number of Detected Tuples are {}\".format(cnt))\n",
    "\n",
    "  def series_rule(self):\n",
    "        cnt = 0\n",
    "        for index, row in self.df_d.iterrows():\n",
    "            if float(row['episodes']) != 1.0 and (\"movie\" in row['type'] or pd.isnull(row['type'])):\n",
    "                    cnt+=1\n",
    "                            \n",
    "        print(\"Number of Detected Tuples are {}\".format(cnt))\n",
    "        \n",
    "  def repairing(self):\n",
    "        l = []\n",
    "        for index, row in self.df_d.iterrows():\n",
    "            if   float(row['episodes']) != 1.0 and (\"movie\" in row['type'] or pd.isnull(row['type'])):\n",
    "                    row['type']=\"tv series\"\n",
    "            else:\n",
    "                if float(row['episodes']) == 1.0 and (\"movie\" not in row['type'] or pd.isnull(row['type'])):\n",
    "                    row['type']=\"movie\"\n",
    "                \n",
    "            l.append(row)  \n",
    "\n",
    "        df=pd.DataFrame(l)\n",
    "        df.to_csv(self.cleaned_dataset, index = False)"
   ]
  },
  {
   "cell_type": "markdown",
   "metadata": {},
   "source": [
    "### Error Detection & Repair"
   ]
  },
  {
   "cell_type": "code",
   "execution_count": 11,
   "metadata": {},
   "outputs": [
    {
     "name": "stdout",
     "output_type": "stream",
     "text": [
      "Error detection of anime series\n",
      "Number of Detected Tuples are 460\n",
      "Error detection of anime movies\n",
      "Number of Detected Tuples are 365\n",
      "repairing.....! check please data directory\n"
     ]
    }
   ],
   "source": [
    "dirty_anime_data = \"data/dirtyTrainDataset.csv\"\n",
    "cleaned_anime_data = \"data/CleanedData.csv\"\n",
    "\n",
    "FixData = AnimeRules(dirty_anime_data, cleaned_anime_data)\n",
    "\n",
    "print(\"Error detection of anime series\")\n",
    "FixData.series_rule()\n",
    "\n",
    "print(\"Error detection of anime movies\")\n",
    "FixData.movie_rule()\n",
    "\n",
    "print(\"repairing.....! check please data directory\")\n",
    "FixData.repairing()"
   ]
  },
  {
   "cell_type": "markdown",
   "metadata": {},
   "source": [
    "### Precision and Recall"
   ]
  },
  {
   "cell_type": "code",
   "execution_count": 4,
   "metadata": {},
   "outputs": [
    {
     "name": "stdout",
     "output_type": "stream",
     "text": [
      "   anime_id                               name  \\\n",
      "0      9274            Tiger &amp  Bunny Pilot   \n",
      "1      5089                      Stay the Same   \n",
      "2     33546        Rennyuu Tales The Animation   \n",
      "3     24071                    High School DxD   \n",
      "4     17707  Huang Feihong Yong Chuang Tianxia   \n",
      "\n",
      "                                     genre       type  episodes  rating  \\\n",
      "0                 Action,Comedy,SuperPower      movie       1.0    6.05   \n",
      "1              Documentary,Short,Biography  tv series      13.0    6.48   \n",
      "2                                   Hentai      movie       1.0    7.00   \n",
      "3  Animation,Action,Comedy,Fantasy,Romance      movie       1.0    6.71   \n",
      "4               Action,MartialArts,Shounen  tv series       3.0    5.74   \n",
      "\n",
      "   members                                           overview  \n",
      "0      389                                                NaN  \n",
      "1      156  'Recorded every day for a year at exactly the ...  \n",
      "2      854  \"Lupin comes into the possession of half a dia...  \n",
      "3      293  \"The story follows Issei Hyodo, a dim-witted, ...  \n",
      "4      773                                                NaN  \n",
      "   anime_id                               name  \\\n",
      "0      9274            Tiger &amp  Bunny Pilot   \n",
      "1      5089                      Stay the Same   \n",
      "2     33546        Rennyuu Tales The Animation   \n",
      "3     24071                    High School DxD   \n",
      "4     17707  Huang Feihong Yong Chuang Tianxia   \n",
      "\n",
      "                                     genre       type  episodes  rating  \\\n",
      "0                 Action,Comedy,SuperPower      movie       1.0    6.05   \n",
      "1              Documentary,Short,Biography  tv series      13.0    6.48   \n",
      "2                                   Hentai  tv series       1.0    7.00   \n",
      "3  Animation,Action,Comedy,Fantasy,Romance      movie       1.0    6.71   \n",
      "4               Action,MartialArts,Shounen  tv series       3.0    5.74   \n",
      "\n",
      "   members                                           overview  \n",
      "0      389                                                NaN  \n",
      "1      156  'Recorded every day for a year at exactly the ...  \n",
      "2      854  \"Lupin comes into the possession of half a dia...  \n",
      "3      293  \"The story follows Issei Hyodo, a dim-witted, ...  \n",
      "4      773                                                NaN  \n",
      "   anime_id                               name  \\\n",
      "0      9274            Tiger &amp  Bunny Pilot   \n",
      "1      5089                      Stay the Same   \n",
      "2     33546        Rennyuu Tales The Animation   \n",
      "3     24071                    High School DxD   \n",
      "4     17707  Huang Feihong Yong Chuang Tianxia   \n",
      "\n",
      "                                     genre       type  episodes  rating  \\\n",
      "0                 Action,Comedy,SuperPower      movie       1.0    6.05   \n",
      "1              Documentary,Short,Biography  tv series      13.0    6.48   \n",
      "2                                   Hentai      movie       1.0    7.00   \n",
      "3  Animation,Action,Comedy,Fantasy,Romance      movie       1.0    6.71   \n",
      "4               Action,MartialArts,Shounen  tv series       3.0    5.74   \n",
      "\n",
      "   members                                           overview  \n",
      "0      389                                                NaN  \n",
      "1      156  'Recorded every day for a year at exactly the ...  \n",
      "2      854  \"Lupin comes into the possession of half a dia...  \n",
      "3      293  \"The story follows Issei Hyodo, a dim-witted, ...  \n",
      "4      773                                                NaN  \n",
      "Detected error and fixed 387\n",
      "Did not find error 0\n",
      "No error implemnted - nothing fixed 1213\n",
      "No error implemented - fixed wrong 0\n"
     ]
    }
   ],
   "source": [
    "original_data = pd.read_csv(\"/Users/sezin/PycharmProjects/dsa-DC4ML/Error Detection & Repair/Random Active Domain/TrainDataset.csv\")\n",
    "dirty_data = pd.read_csv(\"/Users/sezin/PycharmProjects/dsa-DC4ML/Error Detection & Repair/Random Active Domain/dirtyTrainDataset.csv\")\n",
    "cleaned_data = pd.read_csv(\"/Users/sezin/PycharmProjects/dsa-DC4ML/Error Detection & Repair/Random Active Domain/CleanedData.csv\")\n",
    "\n",
    "matrix = pd.DataFrame(columns=[\"predicted True\", \"predicted False\"], index=[\"actual True\", \"actual False\"], data=[[0,0],[0,0]])\n",
    "\n",
    "print(original_data.head())\n",
    "print(dirty_data.head())\n",
    "print(cleaned_data.head())\n",
    "\n",
    "for column in [\"type\"]:\n",
    "    for i in range(0, len(cleaned_data[column])):\n",
    "        \n",
    "        # 1 - Cleaned in correct way \n",
    "        if cleaned_data[column][i] == original_data[column][i] and original_data[column][i] != dirty_data[column][i]:\n",
    "            matrix[\"predicted True\"][\"actual True\"] = matrix[\"predicted True\"][\"actual True\"]+1\n",
    "            #print(\"Detected error and fixed\")\n",
    "            \n",
    "        # 2 - Cleaned in wrong way: Detected error and replaced wrong\n",
    "        elif cleaned_data[column][i] != original_data[column][i] and original_data[column][i] != dirty_data[column][i]:\n",
    "            matrix[\"predicted False\"][\"actual True\"] = matrix[\"predicted False\"][\"actual True\"]+1\n",
    "            #print(\"Did not find error\")\n",
    "            \n",
    "        # No cleaning necessary - no cleaning done\n",
    "        elif cleaned_data[column][i] == original_data[column][i] and original_data[column][i] == dirty_data[column][i]:\n",
    "            matrix[\"predicted False\"][\"actual False\"] = matrix[\"predicted False\"][\"actual False\"]+1\n",
    "            #print(\"No error implemnted - nothing fixed\")\n",
    "            \n",
    "        # Cleaned - no cleaning necessary\n",
    "        elif cleaned_data[column][i] != original_data[column][i] and original_data[column][i] == dirty_data[column][i]:\n",
    "            matrix[\"predicted True\"][\"actual False\"] = matrix[\"predicted True\"][\"actual False\"]+1\n",
    "            #print(\"No error implemented - fixed wrong\")\n",
    "            \n",
    "print(\"Detected error and fixed\",matrix[\"predicted True\"][\"actual True\"])\n",
    "print(\"Did not find error\",matrix[\"predicted False\"][\"actual True\"])\n",
    "print(\"No error implemnted - nothing fixed\",matrix[\"predicted False\"][\"actual False\"])\n",
    "print(\"No error implemented - fixed wrong\",matrix[\"predicted True\"][\"actual False\"])\n",
    "\n"
   ]
  },
  {
   "cell_type": "code",
   "execution_count": null,
   "metadata": {},
   "outputs": [],
   "source": []
  }
 ],
 "metadata": {
  "kernelspec": {
   "display_name": "Python 3",
   "language": "python",
   "name": "python3"
  },
  "language_info": {
   "codemirror_mode": {
    "name": "ipython",
    "version": 3
   },
   "file_extension": ".py",
   "mimetype": "text/x-python",
   "name": "python",
   "nbconvert_exporter": "python",
   "pygments_lexer": "ipython3",
   "version": "3.7.1"
  }
 },
 "nbformat": 4,
 "nbformat_minor": 2
}

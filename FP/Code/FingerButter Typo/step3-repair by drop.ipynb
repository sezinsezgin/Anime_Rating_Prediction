{
 "cells": [
  {
   "cell_type": "code",
   "execution_count": 1,
   "metadata": {},
   "outputs": [],
   "source": [
    "from autocorrect import spell\n",
    "import pandas as pd\n",
    "from pattern.en import suggest\n",
    "import re\n",
    "from difflib import get_close_matches\n",
    "from difflib import SequenceMatcher\n",
    "pd.options.display.max_rows = 1500"
   ]
  },
  {
   "cell_type": "markdown",
   "metadata": {},
   "source": [
    "### Most Popular Movies Genre List  "
   ]
  },
  {
   "cell_type": "code",
   "execution_count": 2,
   "metadata": {},
   "outputs": [],
   "source": [
    "genre = {\"Action\", \"Adventure\", \"Comedy\", \"Crime\", \"Drama\", \"History\", \n",
    "          \"Animation\", \"Short\", \"Kids\", \"Sci-Fi\", \"Fantasy\", \"Sport\",\n",
    "         \"Music\", \"school\", \"Romance\", \"Game\", \"Mecha\", \"Military\",\n",
    "         \"space\", \"Magic\", \"Ecchi\", \"Family\", \"war\", \"Mystery\", \"Police\", \"Supernatural\",\n",
    "         \"news\", \"Parody\", \"SuperPower\", \"Shounen\",\"Vampire\", \"Horror\",\n",
    "         \"Parody\", \"Hentai\", \"SliceofLife\", \"Documentary\", \"biography\",\n",
    "         \"Psychological\",\"Seinen\",\"Thriller\", \"Historical\", \"Reality-TV\",\n",
    "         \"Hentai\", \"Talk-Show\", \"Harem\",\"Game-Show\"}"
   ]
  },
  {
   "cell_type": "code",
   "execution_count": 3,
   "metadata": {
    "scrolled": false
   },
   "outputs": [],
   "source": [
    "df = pd.read_csv(\"data/dirtyTrainDataset.csv\")\n",
    "\n",
    "row_list = []\n",
    "corrected_list = []\n",
    "correct_word = \"\"\n",
    "dirty_row_cnt = 0\n",
    "dirty_cnt = 0\n",
    "max = 0\n",
    "for index, row in df.iterrows():\n",
    "    item = row['genre']\n",
    "    if(pd.isnull(item)):\n",
    "            item =\"\"\n",
    "    row_list = item.split(',')\n",
    "    corrected_row =\"\"\n",
    "    if row_list:\n",
    "        for word in row_list:\n",
    "            if word in genre:\n",
    "                correct_word = word\n",
    "            else:\n",
    "                correct_word = \"\"    \n",
    "            if corrected_row is not \"\" and correct_word is not \"\":\n",
    "                    corrected_row = corrected_row + \",\" + correct_word\n",
    "                    dirty_row_cnt += 1 \n",
    "    \n",
    "            else:  \n",
    "                corrected_row = correct_word\n",
    "                dirty_row_cnt += 1 \n",
    "        corrected_list.append(corrected_row)\n",
    "        \n",
    "print(\"Number of Detected Tuples are {} which is {}% of the whole dataset \".format(dirty_row_cnt))"
   ]
  },
  {
   "cell_type": "markdown",
   "metadata": {},
   "source": [
    "### Repairing"
   ]
  },
  {
   "cell_type": "code",
   "execution_count": 4,
   "metadata": {},
   "outputs": [],
   "source": [
    "df['genre'] = corrected_list\n",
    "\n",
    "df.to_csv(\"CleanedDataset.csv\", index = False)\n",
    "    "
   ]
  },
  {
   "cell_type": "code",
   "execution_count": null,
   "metadata": {},
   "outputs": [],
   "source": []
  }
 ],
 "metadata": {
  "kernelspec": {
   "display_name": "Python 3",
   "language": "python",
   "name": "python3"
  },
  "language_info": {
   "codemirror_mode": {
    "name": "ipython",
    "version": 3
   },
   "file_extension": ".py",
   "mimetype": "text/x-python",
   "name": "python",
   "nbconvert_exporter": "python",
   "pygments_lexer": "ipython3",
   "version": "3.7.1"
  }
 },
 "nbformat": 4,
 "nbformat_minor": 2
}

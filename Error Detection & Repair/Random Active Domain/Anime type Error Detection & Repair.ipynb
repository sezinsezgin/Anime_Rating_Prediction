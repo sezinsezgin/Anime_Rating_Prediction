{
 "cells": [
  {
   "cell_type": "markdown",
   "metadata": {},
   "source": [
    "### libraries"
   ]
  },
  {
   "cell_type": "code",
   "execution_count": 1,
   "metadata": {},
   "outputs": [],
   "source": [
    "import pandas as pd\n",
    "import csv"
   ]
  },
  {
   "cell_type": "markdown",
   "metadata": {},
   "source": [
    "### Anime Tupe Rules"
   ]
  },
  {
   "cell_type": "code",
   "execution_count": 2,
   "metadata": {},
   "outputs": [],
   "source": [
    "class AnimeRules:\n",
    "  def __init__(self, dirty_dataset, cleaned_dataset):\n",
    "    self.dirty_dataset = dirty_dataset\n",
    "    self.cleaned_dataset = cleaned_dataset\n",
    "    self.df_d = pd.read_csv(dirty_dataset)\n",
    "    \n",
    "  def movie_rule(self):\n",
    "    \n",
    "        cnt = 0\n",
    "        for index, row in self.df_d.iterrows():\n",
    "            if float(row['episodes']) == 1 and \"movie\" not in row['type']:\n",
    "                    cnt+=1\n",
    "                            \n",
    "        detected_tuples_pcg = (cnt/int(self.df_d.shape[0]))*100\n",
    "        print(\"Number of Detected Tuples are {} which is {}% of the whole dataset \".format(cnt, detected_tuples_pcg))\n",
    "\n",
    "  def series_rule(self):\n",
    "        cnt = 0\n",
    "        for index, row in self.df_d.iterrows():\n",
    "            if float(row['episodes']) != 1 and \"movie\" in row['type']:\n",
    "                    cnt+=1\n",
    "                            \n",
    "        detected_tuples_pcg = (cnt/int(self.df_d.shape[0]))*100\n",
    "        print(\"Number of Detected Tuples are {} which is {}% of the whole dataset \".format(cnt, detected_tuples_pcg))\n",
    "        \n",
    "  def repairing(self):\n",
    "        l = []\n",
    "        for index, row in self.df_d.iterrows():\n",
    "            if float(row['episodes']) != 1 and \"movie\" in row['type']:\n",
    "                    row.type = \"tv series\"\n",
    "            elif float(row['episodes']) == 1 and \"movie\" not in row['type']:\n",
    "                        row.type = \"movie\"\n",
    "            l.append(row)  \n",
    "\n",
    "        df=pd.DataFrame(l)\n",
    "        df.to_csv(self.cleaned_dataset, index = False)\n",
    "        \n",
    "    "
   ]
  },
  {
   "cell_type": "markdown",
   "metadata": {},
   "source": [
    "### Error Detection & Repair"
   ]
  },
  {
   "cell_type": "code",
   "execution_count": 3,
   "metadata": {},
   "outputs": [
    {
     "name": "stdout",
     "output_type": "stream",
     "text": [
      "Error detection of anime series\n",
      "Number of Detected Tuples are 196 which is 12.25% of the whole dataset \n",
      "Error detection of anime movies\n",
      "Number of Detected Tuples are 194 which is 12.125% of the whole dataset \n",
      "repairing.....! check please your diretory to fince the cleaed data\n"
     ]
    }
   ],
   "source": [
    "dirty_anime_data = \"dirtyTrainDataset.csv\"\n",
    "cleaned_anime_data = \"CleanedData.csv\"\n",
    "\n",
    "FixData = AnimeRules(dirty_anime_data, cleaned_anime_data)\n",
    "\n",
    "print(\"Error detection of anime series\")\n",
    "FixData.series_rule()\n",
    "\n",
    "print(\"Error detection of anime movies\")\n",
    "FixData.movie_rule()\n",
    "\n",
    "print(\"repairing.....! check please your diretory to fince the cleaed data\")\n",
    "FixData.repairing()"
   ]
  },
  {
   "cell_type": "code",
   "execution_count": null,
   "metadata": {},
   "outputs": [],
   "source": []
  }
 ],
 "metadata": {
  "kernelspec": {
   "display_name": "Python 3",
   "language": "python",
   "name": "python3"
  },
  "language_info": {
   "codemirror_mode": {
    "name": "ipython",
    "version": 3
   },
   "file_extension": ".py",
   "mimetype": "text/x-python",
   "name": "python",
   "nbconvert_exporter": "python",
   "pygments_lexer": "ipython3",
   "version": "3.7.1"
  }
 },
 "nbformat": 4,
 "nbformat_minor": 2
}

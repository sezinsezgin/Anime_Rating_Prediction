{
 "cells": [
  {
   "cell_type": "markdown",
   "metadata": {},
   "source": [
    "## Import Data"
   ]
  },
  {
   "cell_type": "code",
   "execution_count": 160,
   "metadata": {
    "scrolled": true
   },
   "outputs": [],
   "source": [
    "import numpy as np\n",
    "#import imdb \n",
    "import pandas as pd\n",
    "#from error_generator import Explicit_Missing_Value\n",
    "#from error_generator import Implicit_Missing_Value\n",
    "#from error_generator import White_Noise\n",
    "#from error_generator import Gaussian_Noise\n",
    "from error_generator import Random_Active_Domain\n",
    "from error_generator import Similar_Based_Active_Domain\n",
    "from error_generator import Typo_Keyboard\n",
    "from error_generator import Typo_Butterfingers\n",
    "from error_generator import Word2vec_Nearest_Neighbor\n",
    "from error_generator import Value_Selector\n",
    "from error_generator import List_selected\n",
    "from error_generator import Read_Write\n",
    "from error_generator import Error_Generator\n",
    "from sklearn import preprocessing\n",
    "from sklearn.model_selection import train_test_split\n",
    "from sklearn.preprocessing import LabelBinarizer\n",
    "from sklearn.linear_model import LassoCV\n",
    "from yellowbrick.regressor import AlphaSelection\n",
    "from sklearn.model_selection import GridSearchCV\n",
    "from sklearn.model_selection import cross_val_score\n",
    "from sklearn import linear_model\n",
    "from sklearn.metrics import mean_squared_error, r2_score, mean_absolute_error\n",
    "\n",
    "anime_data = pd.read_csv(\"../../new_anime_data1.csv\", index_col=0)\n",
    "\n",
    "anime_data['episodes'] = anime_data['episodes'].replace('Unknown', np.nan)\n"
   ]
  },
  {
   "cell_type": "markdown",
   "metadata": {},
   "source": [
    "## Cleaning"
   ]
  },
  {
   "cell_type": "code",
   "execution_count": 161,
   "metadata": {},
   "outputs": [],
   "source": [
    "l1 = []\n",
    "l2 = []\n",
    "l3 = []\n",
    "\n",
    "\n",
    "anime_data['genre'].fillna('',  inplace=True)\n",
    "anime_data['overview'].fillna('',  inplace=True)\n",
    "anime_data['type'].fillna('',  inplace=True)\n",
    "for index, row in anime_data.iterrows():\n",
    "    item = row['genre']\n",
    "    if(pd.isnull(item)):\n",
    "            item =\"\"\n",
    "    else:\n",
    "        if isinstance(item, (list, tuple)):\n",
    "            item = ','.join(item)\n",
    "        else:\n",
    "            item = item.replace(\" \",\"\")\n",
    "            item = item.replace(\"[\",\"\")\n",
    "            item = item.replace(\"]\",\"\")\n",
    "            item = item.replace(\"'\",\"\")\n",
    "    l1.append(item) \n",
    "      \n",
    "\n",
    "for index, row in anime_data.iterrows():\n",
    "    item = row['overview']\n",
    "    if(pd.isnull(row['overview'])):\n",
    "            item = \"\"\n",
    "    else:\n",
    "       # for item in anime_data['overview']:\n",
    "            if isinstance(item, (list, tuple)):\n",
    "                item = ','.join(item)\n",
    "            else:\n",
    "                item = item.replace(\"[\",\"\")\n",
    "                item = item.replace(\"]\",\"\")\n",
    "    l2.append(item) \n",
    "\n",
    "for index, row in anime_data.iterrows():\n",
    "    item = row['type']\n",
    "    if(pd.isnull(row['type'])):\n",
    "        item = np.nan\n",
    "    else:    \n",
    "        if \"movie\" in item:\n",
    "            item = \"movie\"\n",
    "        else:\n",
    "            item = \"tv series\"\n",
    "    l3.append(item)   \n",
    "    \n",
    "    \n",
    "anime_data['genre'] = l1   \n",
    "anime_data['overview'] = l2\n",
    "anime_data['type'] = l3\n",
    "\n",
    "#drop dublicate\n",
    "anime_data.drop_duplicates(inplace = True)\n",
    "\n"
   ]
  },
  {
   "cell_type": "markdown",
   "metadata": {},
   "source": [
    "## Sampling"
   ]
  },
  {
   "cell_type": "code",
   "execution_count": 162,
   "metadata": {},
   "outputs": [
    {
     "name": "stdout",
     "output_type": "stream",
     "text": [
      "(1600, 8)\n",
      "(400, 8)\n"
     ]
    }
   ],
   "source": [
    "anime_train, anime_test = train_test_split(anime_data, test_size=0.2)\n",
    "anime_test.to_csv(\"testDataset.csv\", index = False,\n",
    "                  columns = ['anime_id', 'name','genre','type', 'episodes','rating', 'members', 'overview'])\n",
    "print(anime_train.shape)\n",
    "print(anime_test.shape)"
   ]
  },
  {
   "cell_type": "markdown",
   "metadata": {},
   "source": [
    "## Generating Errors"
   ]
  },
  {
   "cell_type": "code",
   "execution_count": 163,
   "metadata": {},
   "outputs": [],
   "source": [
    "def error_generater(dataset, method, n, ignored_columns):\n",
    "\n",
    "    myselector=List_selected()\n",
    "\n",
    "    mygen=Error_Generator()\n",
    "\n",
    "    new_dataset=mygen.error_generator(method_gen=method,selector=myselector,percentage=n,dataset=dataset,mute_column = ignored_columns)\n",
    "    \n",
    "    return new_dataset"
   ]
  },
  {
   "cell_type": "code",
   "execution_count": 164,
   "metadata": {},
   "outputs": [
    {
     "name": "stdout",
     "output_type": "stream",
     "text": [
      "---------Change according to random_active_domain method ---------------\n",
      "\n",
      "row: 42 col: 3 : 'movie' changed to 'movie'  \n",
      "row: 338 col: 3 : 'movie' changed to 'tv series'  \n",
      "row: 362 col: 3 : 'tv series' changed to 'movie'  \n",
      "row: 207 col: 2 : 'Adventure,Comedy,Drama' changed to 'Animation,Comedy,Romance'  \n",
      "row: 231 col: 3 : 'tv series' changed to 'tv series'  \n",
      "row: 64 col: 7 : ''In a post-apocalyptic future where humans live in domed cities surrounded by wasteland, wolves are assumed to be two hundred years extinct.::Anonymous', 'In a post-apocalyptic future where humans live in domed cities surrounded by wasteland, wolves are assumed to be two hundred years extinct. Yet wolves do walk among them, disguising themselves as humans in order to survive in the human world. Now four young wolves will follow the scent of Lunar Flowers on a dangerous quest to find that which legend promises them: Paradise.::Anonymous'' changed to ''High school student Junichi Tachibana attempts to find love once again after having his heart broken last Christmas. This series follows his romantic endeavors in a sequence of six separate arcs, each involving a different heroine.''  \n",
      "row: 90 col: 7 : ''Nobita with Doraemon and others fight a robot army to save earth for alien invasion.::mahade047'' changed to ''  \n",
      "row: 34 col: 7 : '\"The DigiDestined go to a nearby hot springs theme park and everyone has a good time, but Joe doesn't show up because he wants to study for his exams. Another infected Digimon, Ogremon, attacks Odaiba. Gomamon runs away from home while Mimi faces problems with the other DigiDestined and her classmates because of her selfish ideas. Would Joe accept his responsibilities as a DigiDestined before it's too late?::Rahspot\"' changed to ''  \n",
      "row: 205 col: 3 : 'tv series' changed to 'movie'  \n",
      "row: 346 col: 3 : 'tv series' changed to 'movie'  \n",
      "row: 238 col: 7 : ''20 young entrepreneurs compete in several business tasks, and must survive the weekly firings in order to become the business partner of one of the most successful businessmen.', \"Sir Alan Sugar - the £700m owner of AMSTRAD, is presented with 14 candidates, he must split the candidates up into two teams each week, and set them a business task. At the end of the each task, Sir Alan will fire one member of the losing team. Until Week 12 when one of the candidates will get a £100,000 with Sir Alan and become 'The Apprentice.'::Tim Reynard\"' changed to ''A monkey participates in a tournament of sumo fighting a pelican, a rabbit, a goat, a pig and a bear.''  \n",
      "row: 328 col: 2 : 'Animation,Short' changed to 'Animation,Short,Music'  \n",
      "row: 306 col: 7 : ''Pikachu and friends play peek-a-boo.'' changed to ''Earth has been attacked by the Black Nebula Empire and is threatening to blow up the planet if they are counterattacked, The Yamato crew try to defuse the bomb.''  \n",
      "row: 217 col: 2 : 'Animation,Short' changed to 'Action,Hentai,Supernatural'  \n",
      "row: 162 col: 3 : 'tv series' changed to 'tv series'  \n",
      "row: 349 col: 2 : 'Animation,Comedy' changed to 'Hentai'  \n",
      "row: 159 col: 7 : '\"While serving time in a brutal women's detention center. Eva wishes away her troubles to a set of tiny Worry Dolls. The dolls crawl in her ear at night and soon Eva becomes possessed.::Zoe Ferguson\"' changed to ''  \n",
      "row: 359 col: 7 : '\"Akira is beautiful-so much so that he can have any girl...or guy that he lays eyes on. Unfortunately, the only woman he has ever wanted is the one woman he could never have-his own sister. When he first met Kaname-innocent to the ways of the world-his own world slowly began to change. The realization of the reality that his sister can never be his and that he can never find true comfort in her arms devastates him. There, from the depths of his despair, he finds salvation in Kaname's loving embrace.::animenewsnetwork.com\"' changed to ''A TV interviewer and his cameraman meet a former actress and travel through her memories and career.::rgoes', \"A movie studio is being torn down. TV interviewer Genya Tachibana has tracked down its most famous star, Chiyoko Fujiwara, who has been a recluse since she left acting some 30 years ago. Tachibana delivers a key to her, and it causes her to reflect on her career; as she's telling the story, Tachibana and his long-suffering cameraman are drawn in. The key was given to her as a teenager by a painter and revolutionary that she helped to escape the police. She becomes an actress because it will make it possible to track him down, and she spends the next several decades acting out that search in various genres and eras.::Jon Reeves <jreeves@imdb.com>\"'  \n",
      "row: 290 col: 2 : 'Animation,Comedy,Drama' changed to 'SliceofLife,Supernatural'  \n",
      "row: 222 col: 7 : '\"Universal Century 0079: The Principality of Zeon and the Earth Federation are fighting each other during the infancy of the One Year War. Zeon's Jotunheim (once a civilian space cargo ship) has been commissioned to test various weapon prototypes against the Earth Federation, in tests to be conducted by the crew of the Jotunheim, the 603 . Oliver May is the engineering lieutenant in charge of reporting the outcome of the prototype tests, to determine what weapons should be mass-manufactured for Zeon usage during the upcoming months of war. These prototype weapons include the Jormungand cannon, the Hidolfr tank, and the EMS-10 Zudah Mobile Suit. The Hidden One Year War also includes events pivotal in the Universal Century timeline, such as Operation British, the Battle of Loum, and the aftermath of Operation Odessa.\"' changed to ''Out bid by a buck!::J LeGault', 'In New York City, an auction is being held, where numerous valuables are being bidded. One of the items was an ordinary ring which is more valuable than it looks. Lupin tries to bid on it, but was out bid by a dollar. So he steals it instead and makes a getaway. but only to find himself greeted by a group of mercenaries who are working for the person who out bid Lupin. Lupin gave them the ring as he was told, and got away from their firing guns. Lupin decides to gather up his friends to check out who outbid him at the auction. The one who outbid Lupin, is Cynthia, head of \"Bank of the World\" one of the largest and recently new banks. She has plans of her own on the ring, as it has the secrets of the location of a broach, that\\'s said to give those who hold it, world domination.::J LeGault''  \n",
      "row: 288 col: 7 : ''Kiteretsu Daihyakka is the story of Eichii Kiteretsu, descendant of a great inventor named D. Kiteretsu which the authors say is the cousin of Nobita, Doraemon anime just that much smarter.::Frederico Figueiredo'' changed to ''Seventeen-year-old girl out of Iwate in Northern japan is not just any high school girl coming to Tokyo for her summer break. She is an apprentice witch travelling to learn and improve her skills and magic. It was never going to be easy, however, and along the way there are problems, illness, labour, clashes and a boy.::aghaemi''  \n",
      "row: 102 col: 2 : 'SliceofLife,Supernatural' changed to 'Animation,Short'  \n",
      "row: 92 col: 3 : 'tv series' changed to 'movie'  \n",
      "row: 195 col: 3 : 'movie' changed to 'tv series'  \n",
      "row: 116 col: 7 : '\"Lambert joins the Dragon Slayers' League to save Altera from the Black Dragon.\", \"The land of Altera has observed an uneasy peace for years among Humans, Elves and Evil beasts who are loyal to the legendary Black Dragon. But the Black Dragon begins to stir from its hibernation, sending the Beasts marching across Altera. With a beast conquest perilously close, a small group of Humans and Elves unite to try to find a secret hidden road to the Black Dragon's cave and destroy it. But the fate of all of them may be in the hands of the young warrior Lambert, who must summon the confidence and skill to face the Black Dragon himself just when all may be lost.::Mili Pictures\"' changed to ''  \n",
      "row: 168 col: 2 : 'Action,Hentai,Supernatural' changed to 'Action,Adventure,Comedy,Drama,Romance,Sci-Fi'  \n",
      "row: 220 col: 3 : 'tv series' changed to 'tv series'  \n",
      "row: 120 col: 7 : '\"The Future Foundation is in shambles after the Final Killing Game and the revelation of the true culprit. As a desperate plot arises from one of the survivors to rid the world of despair once and for all, the remaining Future Foundation members must band together to stop this atrocity from taking place. Fortunately, they find themselves with help from a group of unlikely allies as they race against the clock to stop their world from being changed. In this finale to the Hope's Peak storyline of the Danganronpa series, the players in this never-ending death game begin to understand the true meaning behind despair, hope, and atonement.\"' changed to ''  \n",
      "row: 327 col: 7 : ''Set in the world of Korean entertainment production, the drama series depicts the hopes and dreams of a group of young Korean, Japanese and Thai women as they embark on a career in the entertainment industry.'' changed to ''  \n",
      "row: 51 col: 2 : 'Comedy' changed to 'Hentai'  \n",
      "row: 143 col: 2 : 'Hentai' changed to 'Hentai'  \n",
      "row: 49 col: 2 : 'Drama,Fantasy,Sci-Fi,Thriller' changed to 'Romance,SliceofLife'  \n",
      "row: 265 col: 3 : 'tv series' changed to 'tv series'  \n",
      "row: 1 col: 2 : 'Animation' changed to 'Animation,Comedy'  \n",
      "row: 342 col: 7 : '\"The start of Hanae Ashiya's high school career has not been easy-he has spent all of the first week in the infirmary, and his inexplicable condition is only getting worse. The cause of his torment is the mysterious fuzzy creature that has attached itself to him ever since he stumbled upon it the day before school began. As his health continues to decline and the creature grows in size, Hanae comes across a flyer advertising an exorcist who expels youkai. Desperate and with nothing left to lose, he calls the number and is led to the Mononokean, a tea room which suddenly appears next to the infirmary. A morose-sounding man, Haruitsuki Abeno, reluctantly helps Hanae but demands payment afterward. Much to Hanae's dismay, he cannot afford the fee and must become an employee at the Mononokean to work off his debt. And to make things worse, his new boss is actually one of his classmates. If Hanae ever hopes to settle his debt, he must work together with Abeno to guide a variety of dangerous, strange, and interesting youkai back to the Underworld.::https://myanimelist.net/anime/32696/Fukigen_na_Mononokean?q=The%20Morose%20Mononokean%20%20\"' changed to ''  \n",
      "row: 380 col: 7 : '\"While home sick in bed, a young boy's grandfather reads him a story called The Princess Bride.::Movie Guy\", 'An elderly man reads the book \"The Princess Bride\" to his sick and thus currently bedridden adolescent grandson, the reading of the book which has been passed down within the family for generations. The grandson is sure he won\\'t like the story, with a romance at its core, he preferring something with lots of action and \"no kissing\". But the grandson is powerless to stop his grandfather, whose feelings he doesn\\'t want to hurt. The story centers on Buttercup, a former farm girl who has been chosen as the princess bride to Prince Humperdinck of Florian. Buttercup does not love him, she who still laments the death of her one true love, Westley, five years ago. Westley was a hired hand on the farm, his stock answer of \"as you wish\" to any request she made of him which she came to understand was his way of saying that he loved her. But Westley went away to sea, only to be killed by the Dread Pirate Roberts. On a horse ride to clear her mind of her upcoming predicament of marriage, Buttercup is kidnapped by a band of bandits: Vizzini who works on his wits, and his two associates, a giant named Fezzik who works on his brawn, and a Spaniard named Inigo Montoya, who has trained himself his entire life to be an expert swordsman. They in turn are chased by the Dread Pirate Roberts himself. But chasing them all is the Prince, and his men led by Count Tyrone Rugen. What happens to these collectives is dependent partly on Buttercup, who does not want to marry the Prince, and may see other options as lesser evils, and partly on the other motives of individuals within the groups. But a larger question is what the grandson will think of the story as it proceeds and at its end, especially as he sees justice as high a priority as action.::Huggo', \"A kindly grandfather sits down with his ill grandson and reads him a story. The story is one that has been passed down from father to son for generations. As the grandfather reads the story, the action comes alive. The story is a classic tale of love and adventure as the beautiful Buttercup, engaged to the odious Prince Humperdinck, is kidnapped and held against her will in order to start a war, It is up to Westley (her childhood beau, now returned as the Dread Pirate Roberts) to save her. On the way he meets a thief and his hired helpers, an accomplished swordsman and a huge, super strong giant, both of whom become Westley's companions in his quest.::Afterburner <aburner@erols.com>\", 'When the lovely Buttercup is kidnapped by a ghastly gang intent on fermenting an international incident they find they are pursued by the Dread Pirate Roberts who just might be Westley, her one true love. Also after everyone is nasty Prince Humperdinck to whom Buttercup is now betrothed but who seems to care little for her continued survival. The stage is set for swordfights, monsters, and tortures - but will Grandpa be allowed to finish telling the story with all these kissy bits?::Jeremy Perkins {J-26}', \"Return to a time when men and swamps were swamps. Fire Swamps, that is. Full of quicksand and Rodents of Unusual Size. Lagoons were inhabited by shrieking eels. And the most beautiful woman in the world was named . . . Buttercup? Well, it's a bent fairy tale. Complete with all the fencing, chasing, escapes, and silly accents you'd expect. Including such unique folk as Inigo Montoya, who has dreamed his whole life of finding the six-fingered man who killed his father. Fezzik is his enormous sidekick. And Max is the kvetching miracle man. Blonde Buttercup loves Westley, a poor stable boy. But when he's captured by pirates, she's chosen by evil Prince Humperdinck to be his princess bride. Along the way, she gets kidnapped, he gets killed. But it all ends up okay.::Robert Lynch <docrlynch@yahoo.com>\", \"When a young boy falls ill, his grandfather pops round to visit him. To cheer his grandson up, Grandpa has brought a storybook; The Princess Bride, a tale of the love between the beautiful Buttercup and the besotted Westley, a love cruelly interrupted by Westley's tragic apparent death at sea when seeking his fortune. Heartbroken, Buttercup has sworn never to love again, but accepts the marriage proposal of the rich and handsome Prince Humperdinck, heir to the throne of Florin; but death is no barrier to true love, and in a story filled with exotically-accented swordsmen, big-hearted giants, genius kidnappers, sadistic torturers, vile swamps, Rodents of Unusual Size, the Dread Pirate Roberts and a somewhat embittered miracle worker, the love between Westley and Buttercup twists and turns on a path filled with adventure. Will the True Love of Westley and Buttercup win the day? Will Inigo Montaya find the six-fingered man who murdered his father? Will Humperdinck's evil plans come to fruition? And, more importantly, will Grandpa be able to tell the story without any of the yucky kissing?::Scott Nisbet\"' changed to ''A burned-out New York police detective teams up with a college psychoanalyst to track down a vicious serial killer randomly stalking and killing various young women around the city.::Matt Patay', 'Killer who talks like a duck wanders around New York City killing women by various means including slicing an eyeball with a razorblade. Detective Jack Headly is hot on his trail.::Humberto Amador''  \n",
      "row: 5 col: 7 : ''During the course of one day, a group of students at a school in Los Angeles find themselves caught up in a plot of sex, lies and dead bodies.::Anonymous'' changed to '\"Mistarcia is a magical world where humans, gods, and demons mingle together. In the past, the black-and-silver winged Bahamut has threatened to destroy the land, but humans, gods, and demons overcame their differences to fight together and seal its power. The key to that seal was split in two, one half given to the gods and the other to demons, so that they would never be united and Bahamut never released. Now, two thousand years later, the world is in an era of peace - until the day a woman steals the gods' half of the key.::Waqqas Mohsin\", 'The story first starts off around Favaro Leone who is a bounty hunter, collecting money off of bounties he collects (demons). Favaro Leone soon runs into Amira who has no clue what is really going on besides the fact that she must go to \"Hellheim\", a place where she can go meet her mother. Favaro Leone is then dragged onto this whole quest with her because she had cast a \"contract spell\" where he now has a demon tail and the only way to get it off is by completing his side of the deal.::Cypher', 'Favaro Leone, a thief with absolutely no honor and no self-esteem is asked by a mysterious girl to take her to a place this one mentioned to have bent. Followed by a knight who wishes to fulfill his duty as a knight and avenge his hanged father, he imposes the girl one condition that will become his burden and his new aim.::Pel Par''  \n",
      "row: 398 col: 2 : 'Animation,Action,Comedy,Drama,Fantasy,Romance' changed to 'Adventure,Comedy,Fantasy,Shounen'  \n",
      "row: 55 col: 7 : ''Rob Haley (Dougray Scott), an up-and-coming chef and restaurateur in London, is grief-stricken when he loses his wife. With encouragement from his infamous friend and real life TV Chef Gordon Ramsay, Rob decides to spice up his life by turning a run-down country pub into a gourmet restaurant. His food catches the eye - and taste buds - of beautiful American food critic Kate Templeton (Claire Forlani) and they soon both write a recipe for love that leaves both their hearts - and their stomachs - in full.::madjanssen', 'Rob Haley (Dougray Scott), an up-and-coming chef and restaurateur in London, is grief-stricken when he loses his wife. With encouragement from his infamous friend and real life TV Chef Gordon Ramsay, Rob decides to spice up his life by turning a run-down country pub into a gourmet restaurant. His food catches the eye - and taste buds - of beautiful American food critic Kate Templeton (Claire Forlani) and they soon both write a recipe for love that leaves both their hearts - and their stomachs - full.::madjanssen', \"This is no popcorn movie but Michelin star film cuisine. The story is about a chef, Rob Hayley (Dougray Scott) who lost his creative touch when he lost his beloved wife in a car crash. He 'retires' with his young daughter to the countryside where he meets a comely critic Kate Templeton (Claire Forlani)who challenges his life expertise. He takes interest once again in creating dishes which are unique and scrumptious to impress her, and succeeds with great flair. Soon his local pub restaurant is attracting customers from far and wide. However, nasty rival lover and cranky locals then gang up against him, threatening him with closure of his business. His only hope is to win praise on national TV from a visiting critic (Simon Callow). A taste of English country fare, but not the usual Ploughman's lunch of cheese with pickles. Instead, we are served fresh lemon sole and salmon mousse followed by that quintessentially English dessert, fruit trifle. The trifle is made with the finest sherry and topped with irresistible cream laced with Cognac. The sweet film wins all hearts and is served with a dry sense of humor and much love. Everyone including the actors enjoys this culinary treat. Best tasted with quail's eggs and a bottle of chilled Chardonnay. Bon appetite.::Christine (Starfilms)\", \"Rob Haley (Dougray Scott, Desperate Housewives), a talented chef and restaurateur in London, is grief stricken after losing his wife in an auto accident. Then one bad review from a food critic, and the customers of his once -thriving restaurant start to dry up. But a chat with his old friend and world-famous chef Gordon Ramsay (Himself, Hells' Kitchen), inspires Rob to take control and reclaim the life he once had. Rob, his daughter and his loyal staff are now determined to turn a run-down countryside pub into a local gourmet eatery. On opening day, Kate Templeton (Claire Forlani, Meet Joe Black), an American food critic with a troubled love life, enters the pub. The last thing Rob needs is an uppity critic with a bad taste for men. Attitudes clash until finally Rob's charm and magical dessert trifle wins over her taste buds - and her heart. But not all the locals are happy with the fame and the traffic the up-and-coming restaurant brings to their neighborhood, and a few try to have it closed down for good. With the help of Kate, the pub receives a visit from the world famous food critic Guy Witherspoon (Simon Callow), Rob dishes up an incredible meal and his signature dessert. They receive a fantastic review, and Rob and Kate both discover that the recipe for true happiness is a pinch of teamwork and a whole lot of love.::Vision Films\"' changed to ''  \n",
      "row: 53 col: 3 : 'tv series' changed to 'movie'  \n",
      "row: 103 col: 3 : 'tv series' changed to 'movie'  \n",
      "row: 244 col: 7 : ''A modern day adaption of the classic horror novel Dracula.::Anonymous'' changed to ''After two-month-old kitten Chibi-neko is abandoned by her former owners, she is found by 18-year-old Tokio. Although his mother is allergic to cats and has a great fear of them, she agrees to let him keep the kitten because she fears he is becoming too withdrawn after failing his university entrance exams. Chibi-neko soon falls in love with Tokio. In her own mind, Chibi-neko is a small human who speaks in human words, although people only ever seem to hear her meow, and she believes that all humans were once kittens like her. A stray cat tells Chibi-neko of a paradise called Cottonland, where dreams can come true.''  \n",
      "row: 152 col: 7 : ''Kain Blueriver, the hero of this sci-fi comedy, is a Trouble Contractor: he handles cases too difficult and/or dangerous for the Universal Guardians. He always wears a blue cape - even with Gundam-type robot armor - and fights with a psi blade, a weapon similar to the light-sabres in \"Star Wars,\" powered by psychic energy. His partner in adventure is the energetic, green-haired Canal, the holographic embodiment of the control system of his ship, the Swordbreaker. In their first adventures, Kain and Canal acquire a third companion: Millie, a Jill-of-all-trades, mistress of none, who is determined to be the best in the universe... at something. Although she\\'s a crack shot, Millie is a typical, fussy anime heroine who complains and blames everyone and everything for her repeated failures. The Swordbreaker is a \"Lost Ship,\" a relic of the superior technology of a vanished civilization that can defy the laws of physics, motion, inertia, etc. Kain inherited it from his grandmother, whose wisdom he constantly invokes. This quarrelsome trio retrieves stolen property, rescues runaway ships, and protects sensitive witnesses, squabbling and bickering all the way.::Amazon.com'' changed to '\"In Japan, omusubi is a traditional handmade rice ball. Omusubi Kororin is the tale of an honest old man whose rice ball rolls into a hole; a hole that leads to a village of kind field mice. The mice welcome the honest man and offer him a box of gold coins. Learning what happened, the old man's greedy neighbor heads to the village with a handful of his own rice balls and very bad intentions. He attempts to steal a box by force, but the mice have their own plan. This popular folk tale is retold as a puppet play using 2D animation.::Anonymous\"'  \n",
      "row: 140 col: 3 : 'movie' changed to 'movie'  \n",
      "row: 173 col: 2 : 'Drama' changed to 'Animation,Comedy,Drama,Sci-Fi'  \n",
      "row: 337 col: 2 : 'Animation' changed to 'Animation,Action,Adventure,Comedy,Fantasy,Sci-Fi'  \n",
      "row: 393 col: 7 : '\"Based on the comic book by the creator of Ghost in the Shell, a young female soldier Deunan and her cyborg partner Briareos survive through the post World War 3 apocalyptic New York in search of human's future hope, the legendary city of Olympus.::SAI\"' changed to ''Animated version of the classic story of a young farmgirl who is transported to the magic land of Oz.::Anonymous''  \n",
      "row: 256 col: 2 : 'Drama,Romance,Sports' changed to 'Drama,Harem,Music,Romance'  \n",
      "row: 295 col: 3 : 'movie' changed to 'movie'  \n",
      "row: 229 col: 3 : 'movie' changed to 'movie'  \n",
      "row: 163 col: 2 : 'Animation,Comedy,Romance' changed to 'Animation,Comedy,Family,Fantasy'  \n",
      "row: 160 col: 2 : 'Animation,Short' changed to 'Comedy,Seinen,SliceofLife,SuperPower'  \n",
      "row: 236 col: 2 : 'Hentai' changed to 'Ecchi'  \n",
      "row: 228 col: 7 : ''Third Movie of the K-Seven Stories 6-Part Movies-Series.'' changed to ''It is the year 2030, and the stage is the capital of Japan, Chou-Tokyo. Through \"Buddyfight\", humans have started cultural interactions with residents from other worlds called \"Affinity Dimensions\". Buddyfight is a game with selected humans as the \"Buddyfighter\", and residents from the other world as the partner (known as \"Buddy Monster\"). These battles have high significance and sometimes it is even used to decide the fate of a nation, and naturally there are those who seek to use the Buddy Monsters for evil purposes.::Crunchyroll''  \n",
      "row: 284 col: 2 : 'Music' changed to 'Drama'  \n",
      "row: 22 col: 7 : ''Disguised as schoolgirls, 2 superheroines would rather goof off instead of saving the Earth from gigantic monsters.::softsofa'' changed to '\"The Straw Hat Pirates visit Mirrorball Island. Where a big dance carnival is being held. Jango the Hypnotist was there too, to show off his dance moves. Only when he was found by a group of Marines who were about to arrest him. But ended up chasing him throughout the island. Our heroes got involved when one of the Marines recognized Luffy from the wanted poster. And they end up getting chased as well. Soon Jango steals the spotlight of the dance carnival and uses his hypnosis on everyone on the island. And soon everyone including Jango, The StrawHat Pirates, and the marines are all dancing like there's no tomorrow.::J LeGault\"'  \n",
      "row: 202 col: 2 : 'Comedy,Drama,Romance' changed to 'Action,Sci-Fi,Thriller'  \n",
      "row: 254 col: 7 : ''A boy works hard to please his lord and gain advancement.'' changed to ''Out bid by a buck!::J LeGault', 'In New York City, an auction is being held, where numerous valuables are being bidded. One of the items was an ordinary ring which is more valuable than it looks. Lupin tries to bid on it, but was out bid by a dollar. So he steals it instead and makes a getaway. but only to find himself greeted by a group of mercenaries who are working for the person who out bid Lupin. Lupin gave them the ring as he was told, and got away from their firing guns. Lupin decides to gather up his friends to check out who outbid him at the auction. The one who outbid Lupin, is Cynthia, head of \"Bank of the World\" one of the largest and recently new banks. She has plans of her own on the ring, as it has the secrets of the location of a broach, that\\'s said to give those who hold it, world domination.::J LeGault''  \n",
      "row: 341 col: 7 : ''Seventeen-year-old girl out of Iwate in Northern japan is not just any high school girl coming to Tokyo for her summer break. She is an apprentice witch travelling to learn and improve her skills and magic. It was never going to be easy, however, and along the way there are problems, illness, labour, clashes and a boy.::aghaemi'' changed to ''  \n",
      "row: 320 col: 2 : 'Drama,Fantasy,Mystery' changed to 'Animation,Comedy,Drama'  \n",
      "row: 142 col: 2 : 'Action,Comedy,Ecchi,Romance,Sci-Fi' changed to 'Animation,Short,Action,Fantasy'  \n",
      "row: 60 col: 7 : '\"Three unlikely, unsuspecting souls who come face-to-face with that moment in their lives when they must stand and be counted. For Sheldon, it's difficult because he doesn't appear to be the brightest guy in the world (although he might be the funniest). For Colby, it's even more difficult because he's only 14 years old, and up against enormous odds. For Benji, it's almost impossible--because, after all, he's just a dog, lost and alone, with nothing but a belligerent bird and a bungling stray mutt to help. A band of unlikely comrades, brought together by the least likely of the bunch, for a common, courageous purpose. Things will change. Lives will be saved. Because Benji is off the leash!::Sujit R. Varma\", \"Benji is born. Is born from a black prized breeder owned by an abuser who cares only for money. Benji is taken away by the greedy man's son and two years later Benji finds out his mother is sick and tries to get 2 bumbling animal catchers that save pets that are on the streets to find his mother and bring the bad guy to justice with the help of a dog with an extremely long tongue and a parrot.::Anonymous\"' changed to ''The Adventures of Sindbad across the seven seas in a brand new version. Sindbad and his shipmates encounter a numerous strange and dangerous situations on their journey but they always find their way out. No mythical creature or black magic can stop them!', 'A new re-telling of the adventures of the famous character from The Arabian Nights stories. Sinbad, along with his elder brother and an assorted band of companions, sets sail from Baghdad in search of adventure and riches. Along the way the voyagers encounter strange tribes, evil wizards and giant sea monsters intent on making an appetizer of their ship.::Jean-Marc Rocher <rocher@fiberbit.net>', \"Two years after having been swept away in a storm and awakening to find a mysterious bracelet strapped to his wrist, the famous captain sets off on new voyages. Sinbad assembles a crew with his impulsive elder brother Doubar which includes the under appreciated inventor/man of sciene Firouz, the silent warrior Rongar, a Celtic woman named Maeve (the apprentice of Sinbad's magician mentor Dim Dim), and her beloved guardian hawk Dermott. Later to join the crew is an enigma of a woman known as Bryn. Dim Dim's disappearence and a constant battle with a witch named Rumina, who holds a connection to Maeve and Dermott, causes the crew to travel distant lands, fighting tyrants and monsters, all the while trying to keep magic and adventure alive in the world.::Max Vaughn\"'  \n",
      "row: 322 col: 7 : ''Earth is at war with aliens. The war has left the male population decimated. This leads to the creation of a mecha unit called the Sonic Divers, piloted by 3 young girls.'' changed to '\"Illyasviel von Einzbern is a normal schoolgirl in Japan. She lives with her overachieving nice guy older brother Shirou Emiya and her two maids, her parents are perpetually out of the country, and she has fanciful dreams of using magic to make her dreams of love with Shirou come true. Enter fierce rivals Rin Tohsaka and Luviagelita Edelfelt, two Magi who have been sent to Japan by Zelretch the Wizard Marshall, Master of Parallel Worlds, with the powerful sentient Kaleidosticks to collect the mysterious Class Cards and clean up their mess. After getting fed up with their constant infighting, one Kaleidostick, Magical Ruby, senses Illya's fleeting dream of magic and leaves Rin for her, tricking her into becoming a magical girl. Now Illya is being forced by Rin to collect the dangerous Class Cards in her place. But perhaps more dangerous still are Illya's own mysteries that may have unknowingly attracted Ruby to her.\"'  \n",
      "row: 105 col: 7 : ''In late-nineteenth century England, one year and three months after the dramatic conclusion of the original series, Kuroshitsuji II introduces a new butler and young master. The sadistic yet cheerful Alois Trancy has faced some harsh times. He was kidnapped as a baby, and was forced to work in a village as a slave. Gradually, he lost his parents, his best friend, and everyone he knew.Alois eventually returned home and became the head of his mansion, but seemed to exhibit some strange behavior ever since. Even more curiously, he returned with Claude Faustus, an enigmatic, emotionless butler with unfathomable talent.::Jessie Critchley'' changed to ''  \n",
      "row: 335 col: 2 : 'Animation,Comedy,Drama,Romance' changed to 'Action,Adventure,Comedy,Crime,Mystery,Thriller'  \n",
      "row: 146 col: 2 : 'Animation,Action,Comedy,Fantasy,Sci-Fi,Sport' changed to 'Animation,Short'  \n",
      "row: 250 col: 2 : 'Animation,Fantasy,Romance' changed to 'Hentai'  \n",
      "row: 379 col: 7 : '\"Follow Ryo Hazuki as he attempts to track down the man responsible for his father's death.::haseeb_1986\", 'The year is 1986, the place is Yokosuka, Japan. The life of Ryo Hazuki is suddenly and irrecoverably shattered by uninvited visitors. A man wearing dark green Chinese clothes appears at the Hazuki family home with two black-suited thugs. This man uses a powerful style of martial arts, the likes of which Ryo has never before seen, to engage his father Iwao in fierce battle. Ryo attempts to intervene and help his father, but the obvious disparity in power is too much. Ryo is beaten down and taken hostage as the man questions Iwao, \"Where is the mirror?\" Having no other recourse, Iwao reluctantly tells him. Once this mysterious object is in the man\\'s possession, he again attacks Iwao. \"Do you remember Zhao Sun Ming?\" From these words Ryo learns of a shocking truth from the past. His father was responsible for killing someone long ago. And then, Iwao is knocked down in defeat. Ryo pulls his father close and feels him take his last breath. \"Lan Di\" The man with the ominous embroidery of a glittering dragon on his clothing, the responsible. What of the stolen mirror? Who is this Lan Di? Vowing to seek revenge, Ryo embarks on a journey to unravel the mystery surrounding his father\\'s death and deliver justice to the man responsible....::ShenmueDojo'' changed to ''The Adventures of Sindbad across the seven seas in a brand new version. Sindbad and his shipmates encounter a numerous strange and dangerous situations on their journey but they always find their way out. No mythical creature or black magic can stop them!', 'A new re-telling of the adventures of the famous character from The Arabian Nights stories. Sinbad, along with his elder brother and an assorted band of companions, sets sail from Baghdad in search of adventure and riches. Along the way the voyagers encounter strange tribes, evil wizards and giant sea monsters intent on making an appetizer of their ship.::Jean-Marc Rocher <rocher@fiberbit.net>', \"Two years after having been swept away in a storm and awakening to find a mysterious bracelet strapped to his wrist, the famous captain sets off on new voyages. Sinbad assembles a crew with his impulsive elder brother Doubar which includes the under appreciated inventor/man of sciene Firouz, the silent warrior Rongar, a Celtic woman named Maeve (the apprentice of Sinbad's magician mentor Dim Dim), and her beloved guardian hawk Dermott. Later to join the crew is an enigma of a woman known as Bryn. Dim Dim's disappearence and a constant battle with a witch named Rumina, who holds a connection to Maeve and Dermott, causes the crew to travel distant lands, fighting tyrants and monsters, all the while trying to keep magic and adventure alive in the world.::Max Vaughn\"'  \n",
      "row: 257 col: 2 : 'Comedy' changed to 'Short,Drama'  \n",
      "row: 100 col: 3 : 'movie' changed to 'movie'  \n",
      "row: 344 col: 3 : 'movie' changed to 'movie'  \n",
      "row: 310 col: 2 : 'Drama' changed to 'Animation,Fantasy'  \n",
      "row: 291 col: 7 : ''High school student Junichi Tachibana attempts to find love once again after having his heart broken last Christmas. This series follows his romantic endeavors in a sequence of six separate arcs, each involving a different heroine.'' changed to ''High school student Junichi Tachibana attempts to find love once again after having his heart broken last Christmas. This series follows his romantic endeavors in a sequence of six separate arcs, each involving a different heroine.''  \n",
      "row: 91 col: 3 : 'movie' changed to 'movie'  \n",
      "row: 269 col: 3 : 'movie' changed to 'movie'  \n",
      "row: 147 col: 7 : ''Earth has been attacked by the Black Nebula Empire and is threatening to blow up the planet if they are counterattacked, The Yamato crew try to defuse the bomb.'' changed to ''  \n",
      "row: 276 col: 7 : ''About a witch hiding her identity', 'Honoka Takamiya is just an average student who just so happens to sit next to Ayaka Kagari, the \"Princess\" of the school, and has never said a word to her. However, one day when Takamiya\\'s life is put in danger, Kagari arrives to his rescue dressed as a witch.'' changed to '\"Destination is a state of mind. A tale of one girl and her bike and the road ahead. Kino wanders around the world on the back of Hermes, her unusual, anthropomorphic motorcycle, only staying in each country for three days. During their adventures, they find happiness, sadness, pain, decadence, violence, beauty, and wisdom. But through it all, they never lose their sense of freedom. They discover that because of the world's imperfections, it is actually a thing of beauty.\"'  \n",
      "row: 148 col: 7 : ''In this \"romantic comedy but sometimes serious magical school story,\" life as Arata Kasuga knows it is wiped out by a bizarre incident known as \"Collapse Phenomenon,\" which causes worldwide destruction and takes his cousin Hijiri Kasuga to the next world. To resolve the \"Collapse Phenomenon\" and bring back Hijiri, Arata enrolls in the Royal Biblia Academy. Waiting in the school are seven beautiful female magic users-The Trinity Seven.::Shakti Prasanna Mishra'' changed to ''  \n",
      "row: 11 col: 3 : 'movie' changed to 'tv series'  \n",
      "row: 149 col: 7 : '\"The everyday lives of the Minami sisters continue. Chiaki, the youngest, continues to call people idiots while worshipping her eldest sister. Kana, the middle, still can't figure out that Fujioka's feelings for her are a crush, not a grudge. Haruka, the eldest, still unknowingly avoids Hosaka's advances to invite her to the volleyball team, and after a long day of excitement, the sisters enjoy sitting at the table at their home.\"' changed to ''  \n",
      "row: 282 col: 2 : 'Action,Drama,Shounen' changed to 'Animation,Fantasy,Horror,Romance'  \n",
      "row: 350 col: 2 : 'Animation,Short' changed to 'Hentai'  \n",
      "row: 154 col: 3 : 'movie' changed to 'movie'  \n",
      "row: 145 col: 3 : 'movie' changed to 'tv series'  \n",
      "row: 366 col: 2 : 'Short' changed to 'Comedy'  \n",
      "row: 112 col: 3 : 'movie' changed to 'movie'  \n",
      "row: 386 col: 7 : '\"November 1998: A young man swears he committed a heinous crime, he looks in the news, but nobody talks about what happened, even when the police find the alleged victims ... alive and unharmed. He says that he has done it and wants the aid of Shiki. Behind this seemingly senseless event, there is a large apartment building in which is woven a very convoluted plot in which Touko's past is involved. Will Shiki and Mikiya discover the truth? Can all of them escape from the spiral?::Nolberto Roa\"' changed to ''\"6 Months Later...We haven\\'t changed at all - or it seems....\" Half a year after the turmoil that rocked the entire city of Ikebukuro- Peace has once again returned to the city and people are living each day normally. The high school students enjoy their days of youth as the strongest and most dangerous man of Ikebukuro works diligently. The informant plots a new scheme and the headless rider is pursued by the cops as she rides through the night...But soon this normal will be cut short by the abnormal. Slowly but surely, the unknown will seize the city and face an all new storm.::Ernesto Chacon''  \n",
      "row: 194 col: 3 : 'movie' changed to 'movie'  \n",
      "row: 376 col: 7 : ''Yukihira Soma is a teen with a great enthusiasm for cooking. He dreams of surpassing his father, a great chef and restaurant owner, and so attends Totsuki Culinary Academy, a legendary and formidable cooking school for the greatest teenage chefs in Japan.'' changed to '\"A demon girl's quest to become human, with the help of an unwitting boy named Yakumo.::Anonymous\", 'Pai, a demon in the form of a young, naive girl, is on a quest to become human with the Statue of Humanity. Yakumo, as a favor to his departed father, leaves his job as a waiter to help her. Along the way they must battle with mysterious forces who wish to use the Statue for their own purposes.::Anonymous''  \n",
      "row: 26 col: 7 : ''A couple going through a divorce must team up to find their son who has disappeared during one of their bitter arguments.::Janon', \"Still living under the same roof, the Moscow couple of Boris and Zhenya is in the terrible final stages of a bitter divorce. Under those circumstances, as both have already found new partners, the insults pour down like rain in this toxic familial battle zone, always pivoting around the irresolvable and urgent matter of Alyosha's custody, their 12-year-old only son. Unheard, unloved, and above all, unwanted, the introverted and unhappy boy feels that he is an intolerable burden, however, what his parents don't know is that he can hear every single word. As a result, when Boris and Zhenya finally realize that Alyosha has been missing for nearly two days, it is already too late. But is this a simple case of a runaway teenager?::Nick Riganas\"' changed to ''  \n",
      "row: 63 col: 3 : 'tv series' changed to 'tv series'  \n",
      "row: 357 col: 2 : 'Animation,Action,Drama' changed to 'Hentai'  \n",
      "row: 123 col: 2 : 'Comedy,Drama,Romance,Sci-Fi,SliceofLife' changed to 'Animation,Action,Comedy,Fantasy,Sci-Fi'  \n",
      "row: 383 col: 7 : ''In the special episode to season 1, the queen from Valhalla planet arrives on earth with a virtual-world-program, called \"bride training boot camp\". They built several pairs which have to take a random card with a special situation that might occur if you are married. For instance Kazuto and Valkyrie have to make dinner, Raine and Kazuto\\'s sister have to manage poverty or Akina and Hydra have to prepare a wedding ceremony as bride and groom (so everyone gets the most unlikely and unsuitable situation). The Queen from Valhalla Planet has been visiting Kazuto and the gang quite often. She tell them that she is was in Earth region for business purposes, in reality her main concern for coming around quite often is because she has concerns that Valkyrie wouldn\\'t make a good wife for Kazuto. So she comes up with to put the gang through wedding training.::animenewsnetwork.com'' changed to '\"When Natsumi's father dies she return to the forest which she had visited with him with his motorcycle. She meets and decides to stay with a family who also own a store nearby.::aghaemi\"'  \n",
      "row: 101 col: 3 : 'tv series' changed to 'movie'  \n",
      "row: 161 col: 3 : 'tv series' changed to 'tv series'  \n",
      "row: 352 col: 2 : 'Comedy,Drama,Romance' changed to 'Animation,Comedy,Drama'  \n",
      "row: 215 col: 2 : 'Animation,Comedy,Drama,Fantasy' changed to 'Adventure,Comedy,Fantasy'  \n",
      "row: 61 col: 7 : ''A raucous teen boy with a feminine face is teased everywhere, so his odd biker father dresses him as a girl and sends him to an all-girl school. The lad introduces himself as Sukeban, and a classmate, Michiko, takes him to after-school activities. Lessons on humility turn violent when a masked hatchet-wielding woman turns up. Jealousy, syringes of hormones, bare breasts, a blood bath, and more figure in the resolution.::<jhailey@hotmail.com>'' changed to ''An animated series retelling a different folk or fairy tale in each episode.::Nick J. Phillips''  \n",
      "row: 70 col: 7 : ''An animated series retelling a different folk or fairy tale in each episode.::Nick J. Phillips'' changed to ''  \n",
      "row: 89 col: 3 : 'movie' changed to 'movie'  \n",
      "row: 206 col: 7 : '\"A series of nine flipbook-like vignettes showcasing simple revelations of movement and color. Koji Yamamura's animation refers back to the phenakistoscope, one of the earliest mechanisms used to make drawings move.\"' changed to ''  \n",
      "row: 69 col: 3 : 'movie' changed to 'tv series'  \n",
      "row: 297 col: 3 : 'tv series' changed to 'movie'  \n",
      "row: 262 col: 7 : ''Over the course of one evening, an unsuspecting group of twenty-somethings find themselves bombarded by a series of natural disasters and catastrophic events.::IMDb Editors', 'Will, Lisa, and two of their friends attempt to flee man-made and natural disasters and encounter Batman, Hancock, The Hulk, Indiana Jones, Hannah Montana, Michael Jackson, Beowulf, the Love Guru, Iron Man, rabid chipmunks amongst others in their seemingly vain efforts to seek help and shelter from unknown threats.::rAjOo (gunwanti@hotmail.com)'' changed to ''  \n",
      "row: 232 col: 2 : 'Animation,Comedy' changed to 'Romance,School,Shoujo'  \n",
      "row: 274 col: 2 : 'Fantasy,Action,Adventure' changed to 'Drama,Romance'  \n",
      "row: 7 col: 7 : ''Biographical account of singer and composer Cornelis Vreeswijk including his breakthrough and his marital problems.::Mattias Thuresson', \"Cornelis is the unique chronicle about one of Sweden's greatest music legends - Cornelis Vreeswijk. An honest and gripping account of an exceptionally talented, but self-destructive artist's intense life both on and behind the stage. A man who during his whole life was searching for love and confirmation.::SF International\", \"In 1964, Cornelis Vreeswijk, a 27 year old mental care student, attends a party where he performs a song he has written. One of the guests is the artist Fred Åkerström who brings Cornelis with him to a record company, Metronome. The company is immediately attracted to his songs and soon after Cornelis' first album is released. He becomes a national sensation, frequently on tour and recording new albums. But his successful career with staying away from home, excessive drinking and his stint in prison puts a strain on his marriage.::Mattias Thuresson\"' changed to '\"In Japan, omusubi is a traditional handmade rice ball. Omusubi Kororin is the tale of an honest old man whose rice ball rolls into a hole; a hole that leads to a village of kind field mice. The mice welcome the honest man and offer him a box of gold coins. Learning what happened, the old man's greedy neighbor heads to the village with a handful of his own rice balls and very bad intentions. He attempts to steal a box by force, but the mice have their own plan. This popular folk tale is retold as a puppet play using 2D animation.::Anonymous\"'  \n",
      "row: 223 col: 7 : '\"A young woman is tricked into prostitution, thinking she's going to sell beverages at a village store. She soon learns about the dark world of Korea's red-light districts, where a prostitute is exploited by johns, their pimps and society. She befriends one of her johns, a country bumpkin, who keeps in touch with her over the years. The film is a look at Korea's prostitution from the 1970s to the 1990s told through her story.::peter07\"' changed to ''A monkey participates in a tournament of sumo fighting a pelican, a rabbit, a goat, a pig and a bear.''  \n",
      "row: 385 col: 2 : 'Comedy' changed to ''  \n",
      "row: 125 col: 7 : ''A drama that follows the emotional and spiritual growth of teenage girl as she wrestles with love, family, and other matters.::Anonymous'' changed to ''  \n",
      "row: 279 col: 7 : ''Animated version of the classic story of a young farmgirl who is transported to the magic land of Oz.::Anonymous'' changed to ''A burned-out New York police detective teams up with a college psychoanalyst to track down a vicious serial killer randomly stalking and killing various young women around the city.::Matt Patay', 'Killer who talks like a duck wanders around New York City killing women by various means including slicing an eyeball with a razorblade. Detective Jack Headly is hot on his trail.::Humberto Amador''  \n",
      "row: 171 col: 2 : 'Drama,Fantasy,Mystery,Romance,School' changed to 'Animation,Short'  \n",
      "row: 164 col: 7 : ''Dolph Lundgren plays Jack Devlin, a U.S Marshal who protects high-profile clients when it comes to a matter of security.::DropZone <peeri@actcom.co.il>', \"After saving Casey, a daughter of his friend, from hired assassins, Jack Devlin is hit with a strange phobia - fear of white color. But when his other friend, who works as a bodyguard for a supermodel, is wounded, Jack decides to step in for him. Now he must confront his fear and the assassin, who seems to be well aware of Jack's problem::Boris Shafir <shafir@hsi.com>\"' changed to ''  \n",
      "row: 31 col: 7 : ''A young biker stumbles onto a prototype motorcycle with a hidden function that has a link to the true nature of his world.::Kenneth Chisholm'' changed to ''The Four Horsemen resurface, and are forcibly recruited by a tech genius to pull off their most impossible heist yet.::Benjamin Rothrock', \"One year after outwitting the FBI and winning the public's adulation with their Robin Hood-style magic spectacles, The Four Horsemen resurface for a comeback performance in hopes of exposing the unethical practices of a tech magnate. The man behind their vanishing act is none other than Walter Mabry, a tech prodigy who threatens the Horsemen into pulling off their most impossible heist yet. Their only hope is to perform one last unprecedented stunt to clear their names and reveal the mastermind behind it all.::Production\", 'Follow the Four Horsemen in another crazy adventure as they take to the streets of Macau to pull off the craziest stunt yet in order to expose a new threat that tried to end them for good. Will they succeed again and expose this man or fail hopelessly and spend the rest of their years locked in jail?''  \n",
      "row: 334 col: 7 : '\"Illyasviel von Einzbern is a normal schoolgirl in Japan. She lives with her overachieving nice guy older brother Shirou Emiya and her two maids, her parents are perpetually out of the country, and she has fanciful dreams of using magic to make her dreams of love with Shirou come true. Enter fierce rivals Rin Tohsaka and Luviagelita Edelfelt, two Magi who have been sent to Japan by Zelretch the Wizard Marshall, Master of Parallel Worlds, with the powerful sentient Kaleidosticks to collect the mysterious Class Cards and clean up their mess. After getting fed up with their constant infighting, one Kaleidostick, Magical Ruby, senses Illya's fleeting dream of magic and leaves Rin for her, tricking her into becoming a magical girl. Now Illya is being forced by Rin to collect the dangerous Class Cards in her place. But perhaps more dangerous still are Illya's own mysteries that may have unknowingly attracted Ruby to her.\"' changed to ''  \n",
      "row: 251 col: 3 : 'tv series' changed to 'movie'  \n",
      "row: 94 col: 7 : ''The completely male musical group \\'Over The Rainbow\\' succeeds in its debut. Aiming to become the best boy band, more students enroll in Edel Rose (school). Hiro and the others begin practice for the Prism King Cup the ultimate test for music groups, an event that is held once every four years. However, a rival bands called \"Schwarz Rose\" appears... Who will become the Prism King, the one who can make girls\\' hearts throb the most!?'' changed to ''A follow up to the television series \"Kimagure Orange Road\" that wraps up loose ends. Kyosuke must deal with the fact that his, Hikaru and Madoka\\'s friendship is falling apart.::Anonymous''  \n",
      "row: 10 col: 7 : ''A TV interviewer and his cameraman meet a former actress and travel through her memories and career.::rgoes', \"A movie studio is being torn down. TV interviewer Genya Tachibana has tracked down its most famous star, Chiyoko Fujiwara, who has been a recluse since she left acting some 30 years ago. Tachibana delivers a key to her, and it causes her to reflect on her career; as she's telling the story, Tachibana and his long-suffering cameraman are drawn in. The key was given to her as a teenager by a painter and revolutionary that she helped to escape the police. She becomes an actress because it will make it possible to track him down, and she spends the next several decades acting out that search in various genres and eras.::Jon Reeves <jreeves@imdb.com>\"' changed to ''Yuuta suffered from \"chuunibyou\" while he was in middle school. When he graduated, he try to forgot about it but he accidentally got into a contract with Rikka and disrupts his desperately ordinary life.::anonymous''  \n",
      "row: 370 col: 7 : ''A modern fantasy based on Japanese Shinto legends. Suzuhara Izumiko is a 15-year-old girl, who has been raised and protected in a shrine deep in the Kumano mountains. She is quite shy and destroys all the electric devices she touches. When she begins to think about going out of the mountains and moving to the city, her guardian Sagara Yukimasa recommends her to enter a high school in Tokyo and forces his son Miyuki to serve Izumiko for life. Miyuki and Izumiko repel each other but their relationship begins to change when a terrifying accident occurs on the school excursion. Izumiko learns her fate as the last representative (yorishiro) of a Himegami goddess and Miyuki learns of his duty as a guardian Yamabushi of Izumiko. (Source: MAL News)'' changed to ''  \n",
      "row: 340 col: 3 : 'tv series' changed to 'movie'  \n",
      "row: 399 col: 7 : '\"A naïve young girl accidentally modifies her brother's secret superhero uniform and becomes the unwilling superheroine Moldiver.::Tenchi\", 'In the year 2045, top scientist Hiroshi Ozora invents the Mol Unit, a costume that gives its user superhuman abilities. He uses the Unit to become the hero Captain Tokyo, and earns himself fame and glory... then his younger sister Mirai comes across the suit. A simple ordinary girl interested in shopping and beauty products, she accidentally alters it to fit a feminine user. Now with the Mol Unit switching between a male and female costume, Hiroshi is forced to introduce Mirai to the world, as the new superheroine Moldiver! All Mirai wants to do is play around in the suit, but when things start to escalate with the arrival of the evil Dr Machinegal and his female android army, Mirai must step up to take on this threat.::Q. Leo Rahman'' changed to ''  \n",
      "row: 83 col: 2 : 'Animation,Action,Adventure,Comedy,Fantasy,Sci-Fi' changed to 'Hentai'  \n",
      "row: 172 col: 3 : 'tv series' changed to 'tv series'  \n",
      "row: 129 col: 3 : 'tv series' changed to 'movie'  \n",
      "row: 255 col: 3 : 'tv series' changed to 'movie'  \n",
      "row: 197 col: 7 : ''A look at the life of Jiro Horikoshi, the man who designed Japanese fighter planes during World War II.::Anonymous', \"Jiro dreams of flying and designing beautiful airplanes, inspired by the famous Italian aeronautical designer Caproni. Nearsighted from a young age and unable to be a pilot, Jiro joins a major Japanese engineering company in 1927 and becomes one of the world's most innovative and accomplished airplane designers. The film chronicles much of his life, depicting key historical events, including the Great Kanto Earthquake of 1923, the Great Depression, the tuberculosis epidemic and Japan's plunge into war. Jiro meets and falls in love with Nahoko, and grows and cherishes his friendship with his colleague Honjo.::Official site\", \"An aviation-obsessed engineer named Jirô Horikoshi (Hideaki Anno) has loved the aesthetics, spirit, and science of flight for as long as he can remember. For years he's been designing and building his dream plane, the Mitsubishi A6M Zero, and it's finally completed. But Jiro's dreams come crashing down when he learns, to his horror, that his creation will be used for combat in World War II..\"' changed to ''Commonly known as the \"Dungeon,\" the city of Orario possesses a huge labyrinth in the underground. Its strange name attracts excitement, illusions of honor, and hopes of romance with a pretty girl. In this city of dreams and desires, new adventurer Bell Cranel has his fateful encounter with the tiny Goddess Hestia. Thus begins the story of a boy striving to become the best adventurer and a lonely goddess searching for followers both hoping to reach their goals and perhaps have some romance on the side.''  \n",
      "row: 97 col: 2 : 'Adventure,Shounen' changed to 'Animation'  \n",
      "row: 354 col: 7 : ''The tale of Bardock, the father of Goku, and his rebellion against his master the mighty Frieza.', \"A prequel to the original Dragonball series, this TV movie tells the story of Son Goku's father Bardock and his futile attempt to stop Freeza from destroying his planet Vegeta. It also shows how little Kakarotto (Son Goku) ends up on earth!::Anonymous\"' changed to ''A monkey participates in a tournament of sumo fighting a pelican, a rabbit, a goat, a pig and a bear.''  \n",
      "row: 80 col: 7 : ''During a random night, the two brothers Mutta Nanba and Hibito witness what seems to be a UFO flying to the moon and they both vow to eventually become astronauts. 19 years later, Mutta has the opportunity to follow his brother and fulfill his promise.::Dielson Sales'' changed to ''Attending the private school Suzaku High Ryu Yamada is a student completely bored with his surroundings. One day while following the honor student Urara Shiraishi up the stairs falls down on her waking up to have switched bodies by accidentally kissing. Finding out their ability to to swap bodies Toranosuke Miyamura, the student councils president discovers their abilities to go into one and others bodies offering them the abandoned supernatural studies club and clubroom.''  \n",
      "row: 181 col: 3 : 'movie' changed to 'movie'  \n",
      "row: 234 col: 7 : ''One day Joey rescues and fixes a broken toy robot and lets it be on his room. In a stormy evening, the toy is hit by a thunder which gave it life and a reason to be, to fight for him in the dangerous ordeals that shall come.::Luis Fardilha'' changed to '\"Steven Gold is a stand-up comedian who is flat broke and has recently dropped out of medical school. He and several others work regularly at the Gas Station, a New York comedy club. The wages are lousy and everybody hopes for the big break. Lilah Krytsick is housewife with an ambition to be a stand-up comedian, however she doesnt seem to have the talent. Steven takes her under his wings and teaches her the art of comedy and humour. But when a TV station arranges a comedy evening at the club, Steve sees his opportunity for fame and stardom. Their friendship seems quickly forgotten and now it's every man and woman for him- or herself!::Mattias Pettersson <seaman@sbbs.se>\"'  \n",
      "row: 127 col: 2 : 'Action,Comedy,Harem,Mecha,Sci-Fi' changed to 'Sci-Fi'  \n",
      "row: 76 col: 3 : 'tv series' changed to 'tv series'  \n",
      "row: 261 col: 2 : 'Animation,Comedy,Drama,Sci-Fi' changed to 'Animation,Drama,History,Romance'  \n",
      "row: 4 col: 2 : 'Documentary,Short' changed to 'Short,Action'  \n",
      "row: 88 col: 7 : ''After being rejected by the girl he loves, Hazumu goes to the mountains to console himself. A crashing alien spaceship lands on him. The aliens regenerate his body. However, they could only make him into a girl.::ley-moon'' changed to '\"A young boy lives with his grandmother in a city where people use small airplanes to get from place to place. He drives a taxi plane, and during one of his travels he bumps into a bird that has been shot by the boy's latest customer. The bird, as well as a hungry bear he meets next, offer him a reward for his help. Men cause many problems for animals - is there a way to help them stay out of trouble?\"'  \n",
      "row: 247 col: 7 : ''A collection of short stories, made by different animators with \"robot\" as the working title.::Ask Liliequist Stølan', 'This is a Fantasia-like anthology of robots. The most noble are Presence, Deprive, and Nightmare. Nightmare is the story of an evil, cybernetic overlord that rises one night and unleashes its robotic servants. Deprive is a science fiction tale of a young girl who has been abducted by an invading army of robots, and only a mysterious cyborg can help her. Presence is about a young toy-maker who makes a beautiful, female cyborg. When she becomes \"a bit too real\", he destroys her, only to be haunted by her spirit for the rest of his life.::Chuck \"Dark-Side\" Williamson'' changed to ''  \n",
      "row: 286 col: 3 : 'tv series' changed to 'movie'  \n",
      "row: 109 col: 7 : ''Follow the life of Tadayasu Sawaki as he enrolls in an Agricultural University and learn about bacteria and viruses that he alone can see with the naked eye.::Alberto'' changed to ''Common people discover that they have super powers. Their lives intertwine as a devastating event must be prevented.', 'People all over the U.S start to realize they have special abilities, like telekinesis, healing abilities, flying powers, time travel, invisibility, and the ability to absorb other\\'s abilities. One man, known as Sylar, wants to gain all the power of these \"heroes\" so he can be the most powerful and evolved human of all, and stops at nothing to gruesomely kill these people. In order to protect themselves from him, these people must help one another before Sylar can destroy them all, while they each deal with problems of their own.::Patrick Ozzy Lauzier', 'It starts with \"Save the Cheerleader, Save the World,\" but soon spirals into a never ending battle for right and wrong, life and death. As people across the U.S. discover and use their special abilities in this NBC hit series, their world and lives are turned upside down as a serial killer named Sylar tries to hunt them all and make sure no one becomes as powerful as him. But it\\'s not so simple. Sylar isn\\'t in control of his hunger for power. Nobody knows when he will strike, or change, or strengthen. Unpredictable is this new world of heroes. And as time goes by, they each learn what the can do for the world. And it\\'s not always good.::cippy-cp''  \n",
      "row: 113 col: 2 : 'Adventure,Fantasy,Kids,Magic' changed to 'Sports'  \n",
      "row: 245 col: 2 : 'Animation,Comedy,Drama,Romance' changed to 'Animation,Action,Adventure,Comedy,Fantasy,Romance'  \n",
      "row: 305 col: 7 : '\"Once there was a prosperous kingdom, which was protected by a tower, where a mighty dragon was living. The people of the kingdom were secure with such a guardian. But one man wanted the dragon's power for something else, and this man was the king. He went to the tower and tried to kill the dragon, in order to rob his power. But the dragon's fury turned the king into a horrible creature, a demon, and his evil essence made his entire kingdom sink deep under the earth. Many years have passed, and now you take control of a traveler named Varik. A young woman accuses him of killing her teacher, and in a desperate fight they both fall underground, to where the lost kingdom was buried. You must guide Varik through underground mazes and help him to escape the wrath of his adversary and the demonic inhabitants of the lost kingdom.\"' changed to ''  \n",
      "row: 377 col: 7 : ''After passing her entrance exam, Yuno enrolls at Yamabuki High School as part of an art degree. She stays at the Hidamari Apartments along with best friend Miyako, and seniors Hiro and Sae.'' changed to ''After two-month-old kitten Chibi-neko is abandoned by her former owners, she is found by 18-year-old Tokio. Although his mother is allergic to cats and has a great fear of them, she agrees to let him keep the kitten because she fears he is becoming too withdrawn after failing his university entrance exams. Chibi-neko soon falls in love with Tokio. In her own mind, Chibi-neko is a small human who speaks in human words, although people only ever seem to hear her meow, and she believes that all humans were once kittens like her. A stray cat tells Chibi-neko of a paradise called Cottonland, where dreams can come true.''  \n",
      "row: 263 col: 7 : '\"In the year 20xx AD, insects have become resistant to every kind of insecticide. In order to create an effective pest control, the Japanese company Mars Pharmacy develops a small insect-terminating robot - the 11.5 cm tall maid type robot Hoihoi-san. Dewa Kimiko, who works for a pharmacy always loved dolls, and bought Hoi Hoi-san soon after release. Little did she expect her peaceful slumber at home to be disturbed by her robot's vehement bursts of gunfire - exterminating insects. So she tends to be annoyed by robot-fan customers. To top things off, another small robot type named Combat-san - belonging to a frequent pharmacy customer - fights a nightly all-out war against Kimiko's Hoi Hoi-san - loosing every time.\"' changed to ''Pikachu and his friends have gathered to listen to a song performed by Meloetta at the melody tree. Meloetta is soon interrupted by a Sandstorm attack which breaks the tree and causes the Melody Berries to scatter. Before the performance can continue the Pokémon must retrieve the lost berries.''  \n",
      "row: 186 col: 7 : ''It is the year 2030, and the stage is the capital of Japan, Chou-Tokyo. Through \"Buddyfight\", humans have started cultural interactions with residents from other worlds called \"Affinity Dimensions\". Buddyfight is a game with selected humans as the \"Buddyfighter\", and residents from the other world as the partner (known as \"Buddy Monster\"). These battles have high significance and sometimes it is even used to decide the fate of a nation, and naturally there are those who seek to use the Buddy Monsters for evil purposes.::Crunchyroll'' changed to ''  \n",
      "row: 72 col: 2 : 'Adventure,Drama,Sci-Fi' changed to 'Action,Sci-Fi,Thriller'  \n",
      "row: 187 col: 7 : ''Aliens from Planet X request the use of Godzilla and Rodan to fight off King Ghidorah, but have a better use for the three monsters.::Jon B.', 'Aliens from the mysterious Planet X, which resides on the dark side of of Jupiter, come to Earth asking its people to help them save their world from the dreaded King Ghidrah by letting them \"borrow\" Godzilla and Rodan. The aliens are actually planning to use the three monsters to take over our planet.::Todd A. Bobenrieth <TAB146@PSUVM.EDU>', 'Astronauts Glen and Fuji travel to Planet X, a newly discovered moon of Jupiter, which for some reason has been transmitting radio waves to Earth. While there the two astronauts are then ordered to go down to the the caverns where the people of the planet are forced to go, allegedly because they are now being attacked on a regular basis by Ghidorah, who moved there after being defeated by Godzilla, Rodan and Mothra several months earlier. The aliens then request that they be allowed to \"borrow\" Godzilla and Rodan (sans Mothra) as a means of repelling Ghidorah and that in exchange they would be given a formula for a \"miracle drug\" to combat all forms of cancer. In the meantime, Fuji\\'s sister Haruno is dating inventor Tetsuo Torii, who has just invented a high frequency transmitter to ward off muggers. A few weeks later the aliens take Godzilla and Rodan back to their planet and they seemingly defeat Ghidorah. The astronauts then get a tape recording supposedly containing the formula. The tape actually contains an ultimatum for the people of Earth to surrender or else face destruction from the combined strengths of Godzilla, Rodan and Ghidorah. Will the nations of the world give in to the demands of the aliens or will they be destroyed? And what role does Tetsuo\\'s invention play in the upcoming battle?::Brian Washington <Sargebri@att.net>'' changed to ''  \n",
      "row: 391 col: 2 : 'Comedy,Parody' changed to 'Comedy,Ecchi,Harem,Romance'  \n",
      "row: 339 col: 2 : 'Action,Fantasy,Seinen,Supernatural' changed to 'Action,Adventure,Sci-Fi'  \n",
      "row: 259 col: 3 : 'movie' changed to 'movie'  \n",
      "row: 77 col: 2 : 'Fantasy,Magic,Shoujo' changed to 'Kids,SliceofLife'  \n",
      "row: 298 col: 3 : 'tv series' changed to 'movie'  \n",
      "row: 211 col: 7 : ''Shingo is planning the film \"A Story of Two Worlds\" starring Megumi. Yuu\\'s transformation into Creamy Mami is happening without her wanting it. She is asked to star in the film too. But the magic doesn\\'t last...::Angel Creamy <angelcreamy@aol.com>'' changed to ''An animated series retelling a different folk or fairy tale in each episode.::Nick J. Phillips''  \n",
      "row: 363 col: 3 : 'movie' changed to 'tv series'  \n",
      "row: 268 col: 2 : 'Animation,Drama,Family' changed to 'Drama,Psychological'  \n",
      "row: 75 col: 2 : 'Action,Comedy,Ecchi,Fantasy,Harem,Magic,Romance' changed to 'Drama,Sports'  \n",
      "row: 302 col: 3 : 'movie' changed to 'movie'  \n",
      "row: 317 col: 7 : ''Black Cat DVD only episode.'' changed to ''Pikachu and his friends have gathered to listen to a song performed by Meloetta at the melody tree. Meloetta is soon interrupted by a Sandstorm attack which breaks the tree and causes the Melody Berries to scatter. Before the performance can continue the Pokémon must retrieve the lost berries.''  \n",
      "row: 368 col: 3 : 'tv series' changed to 'tv series'  \n",
      "row: 182 col: 2 : 'Hentai' changed to 'Drama,Psychological,Seinen,Thriller'  \n",
      "row: 300 col: 3 : 'movie' changed to 'movie'  \n",
      "row: 214 col: 3 : 'movie' changed to 'tv series'  \n",
      "row: 348 col: 7 : '\"There are now billions of card game players in the world, to an extent where card games have become a necessity, a part of our lives. The protagonist of this story, Aichi Sendo, is a timid boy in his third year of middle school. He had been living his life looking backward rather than forward, trying not to stand out. However, he had one thing that kept him going - the Blaster Blade, a card from a card game that was given to him when he was little. That card is the reason why he begins to engage in Cardfights, something that changes his life drastically. The name of the card game is Vanguard. The game takes place in a different planet called Cray. It is a place similar to our own planet, but unlike planet Earth, Gods and Demons, Dragons and other mythical creatures still roam the land. It is also a world where both Magic and Science have advanced hand in hand. Countries with advances in different fields and cultures rule over different parts of the planet Cray. And due to a never before seen play system, it becomes popular throughout the world. Aichi, immediately attracted by Vanguard, meets friends such as Misaki Togura and Kamui Katsuragi, along with other rivals. Through friendly rivalry with them, Aichi begins to enjoy a fulfilling life. Aichi, however, has a goal: to once again battle with a Vanguard Fighter by the name of Toshiki Kai. Toshiki Kai is an aloof and cold-hearted high schooler who has outstanding abilities in the world of Vanguard. He is also the reason why Aichi started playing the game. For him, Kai is the person who saved him from his boring life and introduced him to Vanguard. In order to get better at Vanguard, Aichi puts his soul into it every day. He wishes that someday, he'll be able to battle Kai and have him recognize his worth.::TheTVDB\"' changed to ''A wrongly convicted man must try to survive a public execution gauntlet staged as a game show.::Anonymous', 'In the year 2017, the world economy has collapsed. The great freedoms of the United States are no longer, as the once great nation has sealed off its borders and become a militarized police state, censoring all film, art, literature, and communications. Even so, a small resistance force led by two revolutionaries manages to fight the oppression. With full control over the media, the government attempts to quell the nation\\'s yearning for freedom by broadcasting a number of game shows on which convicted criminals fight for their lives. The most popular and sadistic of these programs is \"The Running Man,\" hosted by Damon Killian. When a peaceful protest of starving citizens gathers in Bakersfield, California, a police officer named Ben Richards is ordered to fire on the crowd, which he refuses to do. Subdued by the other officers, the attack is carried out, and Richards is framed for the murder of almost a hundred unarmed civilians. Following a daring jail break months later, Richards is captured once again and forced to appear on \"The Running Man\" with three other convicts. With their help, he fights his way through a cadre of sadistic gladiators hunting them down through the ruins of a Los Angeles earthquake, but not promising Killian that he\\'ll return to settle the score when the show\\'s host double-crosses him. In the meantime, the contestants must search through the ruins for the resistance in the hopes of finally broadcasting the truth about the government.::Curly Q. Link', 'A parody within an action thriller. Ben Richards is an innocent man who is sentenced to the Running Man game show, a futuristic audience participation capital punishment television show. While Ben is running from champions with chainsaws and sharpened hockey sticks, the host is busy with calls to the network about ratings.::John Vogel <jlvogel@comcast.net>', 'The year is 2017. The world economy has collapsed. The United States has sealed off its borders and has become a military controlled police state which controls TV, movies, art, books, communication and censorship. In the police state America has become, criminals have a choice. They can serve their sentences in prison or they can take part in \"The Running Man\" a government owned violent game-show where contestants running for freedom are pursued by \"Stalkers\" wrestler-like bounty hunters. \"The Running Man\" is the top rating show on network TV and Damon Killian, the creator and host is the most popular entertainer in the US. But one man has yet to play... Former L.A. police officer Ben Richards, framed for the massacre of innocent people, when disobeyed orders is recaptured, after escaping from prison. Ben is forced to appear on \"The Running Man\", joined by resistance fighters William Laughlin and Harold Weiss and Amber Mendez, (a network employee who Richards took hostage and she turned Richards into the authorities) are chased by The Stalkers, as they search for the secret base of the resistance, as they bid to broadcast the truth about the government and prove Ben\\'s innocence.::Daniel Williamson''  \n",
      "row: 33 col: 2 : 'Dementia,Music' changed to 'Mystery,Shounen'  \n",
      "row: 67 col: 7 : ''Chuuta Kokonose has been hearing voices in his head since childhood. One day, he gets taken and transported to a space police station, filled with mysterious creatures and given a test, to check his ability to become a member of eLDLIVE.'' changed to ''Mankind is threatened by a race of creatures called the Nightbreed, people who have, either willingly or through deception, succumbed to supernatural beings. And hunting them down is a man named Shido. A detective. A warrior. A vampire. And with the help of an urban spirit, his naive secretary, and a police agent assigned to special cases, Shido stands as a vanguard against the Nightbreed. But he has his own difficulties as well. Including his sire, the mysterious Cain, and his prophecies of the Golden Dawn...::Miriani''  \n",
      "row: 394 col: 7 : ''Young Atsuko Kagami comes into possession of a magical mirror that lets her transform into anything she wishes. Atsuko Kagami then attempts to save a company which is about to be sold by using her transformation abilities. She also falls in love as a 22-year-old college student.::anonymous'' changed to ''  \n",
      "row: 59 col: 3 : 'movie' changed to 'tv series'  \n",
      "row: 23 col: 7 : '\"When Natsumi's father dies she return to the forest which she had visited with him with his motorcycle. She meets and decides to stay with a family who also own a store nearby.::aghaemi\"' changed to ''  \n",
      "row: 130 col: 3 : 'tv series' changed to 'tv series'  \n",
      "row: 81 col: 3 : 'movie' changed to 'movie'  \n",
      "row: 119 col: 7 : '\"In order to wish for immortality and avenge his father, Garlic Jr. collects the dragon balls, kidnapping Goku's son Gohan in the process. Goku, Kami, Piccolo, and Krillin unite to rescue Gohan and save the world from being sucked into a dead zone.::page8701\"' changed to ''  \n",
      "row: 16 col: 3 : 'tv series' changed to 'movie'  \n",
      "row: 325 col: 7 : ''An orphan boy in search of his origin. A young princess held prisoner in deadly Dragon City. Jim and his friend Luke discovering mysterious lands on the quest of a lifetime.::Malao Film'' changed to '\"Teppei lost his parents in a traffic accident. His grandpa Isshin adopted him by force to succeed the head of Arima Group Corporation. At Shuuhou, a high school only for wealthy students, Teppei's new life as a celebrity starts.::anonymous\"'  \n",
      "row: 124 col: 3 : 'tv series' changed to 'tv series'  \n",
      "row: 118 col: 2 : 'Animation,Comedy,Drama' changed to 'Short,Sci-Fi'  \n",
      "row: 387 col: 7 : '\"Chocolate and Vanilla are two best friends since they were born, they live in a magical place not on earth. When Vanilla's mother, the queen, is about to give her throne to Vanilla, Vanilla and Chocolate are having a compatition- The one who will get more boys' in-loved hearts, Will be the next queen.::Neta V Bauberg\"' changed to ''  \n",
      "row: 395 col: 2 : 'Comedy,Fantasy,Kids' changed to 'Comedy,Sports'  \n",
      "row: 285 col: 2 : 'Animation,Comedy,Family,Fantasy' changed to 'Animation,Adventure,Family,Fantasy'  \n",
      "row: 314 col: 7 : ''Plot unknown.'' changed to ''  \n",
      "row: 43 col: 2 : 'Comedy' changed to ''  \n",
      "row: 304 col: 7 : ''Nozomu tries to hang himself, but is prevented from doing so by an overbearingly cheerful young girl named Kafuka. He tries to escape from her, but learns she is his student.::Anonymous'' changed to ''Seventeen-year-old girl out of Iwate in Northern japan is not just any high school girl coming to Tokyo for her summer break. She is an apprentice witch travelling to learn and improve her skills and magic. It was never going to be easy, however, and along the way there are problems, illness, labour, clashes and a boy.::aghaemi''  \n",
      "row: 66 col: 7 : ''The scientist cyborg girl Kuze Airi and her friend the busty half-dog girl Hizuki Ayana go to extremes with the power of science.'' changed to ''In Team Ranma v.s. The Legendary Phoenix, poetry sprouting high school swordsman Tatewaki \\'Blue Thunder\\' Kuno comes into possession of the egg of the legendary phoenix, said to grant its owner incredible powers. A reluctant shop keeper sells the egg to Kuno but in exchange, Kuno must just follow one rule: \"never, never, in any circumstance, put the darn thing on your head.\" It\\'s bad enough that boy-type Ranma accidentally puts the egg on Kuno\\'s head, but worse is, it has imprinted in it\\'s mind that Ranma is it\\'s mortal enemy. Worse than that, when the phoenix begins to grow, it attacks innocent people and then the whole town! Can Team Ranma (Ranma, Akane, Shampoo, Ukyo, and Ryoga) stop the gigantic phoenix before it wreaks havoc in town?::Madruk <ulysses@pworld.net.ph>''  \n",
      "row: 324 col: 3 : 'movie' changed to 'tv series'  \n",
      "row: 315 col: 2 : 'Kids,Music' changed to 'Hentai'  \n",
      "row: 179 col: 7 : ''A young woman who has been jilted by her fiancé wants desperately to lose her virginity. But the men she meets are all extremely unlikely candidates.::Jim Beaver <jumblejim@prodigy.net>'' changed to ''A burned-out New York police detective teams up with a college psychoanalyst to track down a vicious serial killer randomly stalking and killing various young women around the city.::Matt Patay', 'Killer who talks like a duck wanders around New York City killing women by various means including slicing an eyeball with a razorblade. Detective Jack Headly is hot on his trail.::Humberto Amador''  \n",
      "row: 226 col: 7 : '\"The start of Hanae Ashiya's high school career has not been easy-he has spent all of the first week in the infirmary, and his inexplicable condition is only getting worse. The cause of his torment is the mysterious fuzzy creature that has attached itself to him ever since he stumbled upon it the day before school began. As his health continues to decline and the creature grows in size, Hanae comes across a flyer advertising an exorcist who expels youkai. Desperate and with nothing left to lose, he calls the number and is led to the Mononokean, a tea room which suddenly appears next to the infirmary. A morose-sounding man, Haruitsuki Abeno, reluctantly helps Hanae but demands payment afterward. Much to Hanae's dismay, he cannot afford the fee and must become an employee at the Mononokean to work off his debt. And to make things worse, his new boss is actually one of his classmates. If Hanae ever hopes to settle his debt, he must work together with Abeno to guide a variety of dangerous, strange, and interesting youkai back to the Underworld.::https://myanimelist.net/anime/32696/Fukigen_na_Mononokean?q=The%20Morose%20Mononokean%20%20\"' changed to '\"Mavis reveals her incredible skill as a strategist as the final event of the Grand Magic Games begins. Meanwhile, Natsu's squad tries to rescue Lucy.\"'  \n",
      "row: 371 col: 7 : ''A group of friends were separated when one of them died in an accident. Later on she comes back as a ghost trying to get into heaven but to do that her friends must grant her a wish.', 'A group of friends were together forever until one of them died and they all went there separate ways. One day the leader of the group was able to see the girl that died and what has to do is grant her, her wish so she can rest in peace but this means that he must regroup all of his childhood firends'' changed to ''  \n",
      "row: 221 col: 2 : 'Action,Comedy,SuperPower' changed to 'Comedy,Sci-Fi,Shounen'  \n",
      "row: 37 col: 2 : 'Comedy,Magic' changed to 'Animation,Action,Adventure,Comedy'  \n",
      "row: 189 col: 2 : 'Drama,Family' changed to 'Adventure,Comedy,Fantasy'  \n",
      "row: 364 col: 7 : ''A wrongly convicted man must try to survive a public execution gauntlet staged as a game show.::Anonymous', 'In the year 2017, the world economy has collapsed. The great freedoms of the United States are no longer, as the once great nation has sealed off its borders and become a militarized police state, censoring all film, art, literature, and communications. Even so, a small resistance force led by two revolutionaries manages to fight the oppression. With full control over the media, the government attempts to quell the nation\\'s yearning for freedom by broadcasting a number of game shows on which convicted criminals fight for their lives. The most popular and sadistic of these programs is \"The Running Man,\" hosted by Damon Killian. When a peaceful protest of starving citizens gathers in Bakersfield, California, a police officer named Ben Richards is ordered to fire on the crowd, which he refuses to do. Subdued by the other officers, the attack is carried out, and Richards is framed for the murder of almost a hundred unarmed civilians. Following a daring jail break months later, Richards is captured once again and forced to appear on \"The Running Man\" with three other convicts. With their help, he fights his way through a cadre of sadistic gladiators hunting them down through the ruins of a Los Angeles earthquake, but not promising Killian that he\\'ll return to settle the score when the show\\'s host double-crosses him. In the meantime, the contestants must search through the ruins for the resistance in the hopes of finally broadcasting the truth about the government.::Curly Q. Link', 'A parody within an action thriller. Ben Richards is an innocent man who is sentenced to the Running Man game show, a futuristic audience participation capital punishment television show. While Ben is running from champions with chainsaws and sharpened hockey sticks, the host is busy with calls to the network about ratings.::John Vogel <jlvogel@comcast.net>', 'The year is 2017. The world economy has collapsed. The United States has sealed off its borders and has become a military controlled police state which controls TV, movies, art, books, communication and censorship. In the police state America has become, criminals have a choice. They can serve their sentences in prison or they can take part in \"The Running Man\" a government owned violent game-show where contestants running for freedom are pursued by \"Stalkers\" wrestler-like bounty hunters. \"The Running Man\" is the top rating show on network TV and Damon Killian, the creator and host is the most popular entertainer in the US. But one man has yet to play... Former L.A. police officer Ben Richards, framed for the massacre of innocent people, when disobeyed orders is recaptured, after escaping from prison. Ben is forced to appear on \"The Running Man\", joined by resistance fighters William Laughlin and Harold Weiss and Amber Mendez, (a network employee who Richards took hostage and she turned Richards into the authorities) are chased by The Stalkers, as they search for the secret base of the resistance, as they bid to broadcast the truth about the government and prove Ben\\'s innocence.::Daniel Williamson'' changed to ''  \n",
      "row: 169 col: 2 : 'Drama' changed to 'Comedy,Drama,Romance'  \n",
      "row: 183 col: 2 : 'Comedy' changed to 'Animation,Action,Comedy,Crime,Fantasy,Horror,Mystery'  \n",
      "row: 384 col: 2 : 'Comedy,School' changed to 'Animation'  \n",
      "row: 321 col: 7 : ''A minor god seeking to gain widespread worship teams up with a human girl he saved to gain fame, recognition and at least one shrine dedicated to him.::Anonymous'' changed to ''High school student Junichi Tachibana attempts to find love once again after having his heart broken last Christmas. This series follows his romantic endeavors in a sequence of six separate arcs, each involving a different heroine.''  \n",
      "row: 62 col: 3 : 'movie' changed to 'tv series'  \n",
      "row: 84 col: 2 : 'Short,Music,Sci-Fi' changed to 'Animation'  \n",
      "row: 307 col: 7 : ''Biographical account of singer and composer Cornelis Vreeswijk including his breakthrough and his marital problems.::Mattias Thuresson', \"Cornelis is the unique chronicle about one of Sweden's greatest music legends - Cornelis Vreeswijk. An honest and gripping account of an exceptionally talented, but self-destructive artist's intense life both on and behind the stage. A man who during his whole life was searching for love and confirmation.::SF International\", \"In 1964, Cornelis Vreeswijk, a 27 year old mental care student, attends a party where he performs a song he has written. One of the guests is the artist Fred Åkerström who brings Cornelis with him to a record company, Metronome. The company is immediately attracted to his songs and soon after Cornelis' first album is released. He becomes a national sensation, frequently on tour and recording new albums. But his successful career with staying away from home, excessive drinking and his stint in prison puts a strain on his marriage.::Mattias Thuresson\"' changed to ''  \n",
      "row: 388 col: 3 : 'tv series' changed to 'tv series'  \n",
      "(1600, 8)\n",
      "(400, 8)\n"
     ]
    }
   ],
   "source": [
    "# generate error in the training set\n",
    "new_dataset = error_generater(anime_test.values.tolist(), Random_Active_Domain(),50, ignored_columns = [0,1,4,5,6])\n",
    "Read_Write.write_csv_dataset(\"./{}.csv\".format(Random_Active_Domain().name), new_dataset)\n",
    "anime_test = pd.read_csv(\"./{}.csv\".format(Random_Active_Domain().name), \n",
    "                            names = ['anime_id', 'name','genre','type', 'episodes','rating', 'members', 'overview'])\n",
    "anime_test.to_csv(\"dirtyTrainDataset.csv\", index = False,\n",
    "                  columns = ['anime_id', 'name','genre','type', 'episodes','rating', 'members', 'overview'])\n",
    "print(anime_train.shape)\n",
    "print(anime_test.shape)"
   ]
  },
  {
   "cell_type": "markdown",
   "metadata": {},
   "source": [
    "## Transformation"
   ]
  },
  {
   "cell_type": "code",
   "execution_count": 165,
   "metadata": {},
   "outputs": [],
   "source": [
    "import nltk\n",
    "#nltk.download('punkt')\n",
    "#nltk.download('averaged_perceptron_tagger')\n",
    "def get_words(x):\n",
    "    bagofwords=[]\n",
    "    for i in x:\n",
    "        if i[1]=='NN':\n",
    "            bagofwords.append(i[0])\n",
    "        elif i[1]=='NNS':\n",
    "            bagofwords.append(i[0])\n",
    "        elif i[1]=='NNP':\n",
    "            bagofwords.append(i[0])\n",
    "        elif i[1]=='NNPS':\n",
    "            bagofwords.append(i[0])\n",
    "        elif i[1]=='JJ':\n",
    "            bagofwords.append(i[0])\n",
    "        elif i[1]=='JJR':\n",
    "            bagofwords.append(i[0])\n",
    "        elif i[1]=='JJS':\n",
    "            bagofwords.append(i[0])\n",
    "        elif i[1]=='RB':\n",
    "            bagofwords.append(i[0])\n",
    "        elif i[1]=='RBR':\n",
    "            bagofwords.append(i[0])\n",
    "        elif i[1]=='RBS':\n",
    "            bagofwords.append(i[0])\n",
    "    return bagofwords\n",
    "\n",
    "def clean_words(x):\n",
    "    b=nltk.pos_tag(nltk.word_tokenize(x))\n",
    "    result=get_words(b)\n",
    "    return result"
   ]
  },
  {
   "cell_type": "code",
   "execution_count": 167,
   "metadata": {},
   "outputs": [
    {
     "name": "stdout",
     "output_type": "stream",
     "text": [
      "(1600, 8)\n",
      "(400, 8)\n"
     ]
    }
   ],
   "source": [
    "def get_dummies(train_data_set, test_data_set):\n",
    "    train_dummies = train_data_set.genre.str.get_dummies(',')\n",
    "    test_dummies = test_data_set.genre.str.get_dummies(',')\n",
    "    \n",
    "    #print(\"Train Dummies\",train_dummies.shape)    \n",
    "    #print(\"Test Dummies\",test_dummies.shape)\n",
    "    \n",
    "    #### ALİGN\n",
    "    train_dummies, test_dummies = train_dummies.align(test_dummies, axis=1, join='left')\n",
    "    \n",
    "    train_dummies.fillna(0, inplace=True)\n",
    "    test_dummies.fillna(0, inplace=True)\n",
    "    \n",
    "    type_lb = LabelBinarizer()\n",
    "    fitted_type_lb = type_lb.fit(train_data_set.type.values)\n",
    "    X_train = type_lb.transform(train_data_set.type.values)\n",
    "    X_test  = type_lb.transform(test_data_set.type.values)\n",
    "    \n",
    "    \n",
    "    dfOneHot_train = pd.DataFrame(X_train, columns = [\"movie/TVseries\" for i in range(X_train.shape[1])])\n",
    "    dfOneHot_test  = pd.DataFrame(X_test,  columns = [\"movie/TVseries\" for i in range(X_test.shape[1])])\n",
    "    \n",
    "    print(\"Train Dummies 1\",train_data_set.shape)\n",
    "    print(\"Train OneHot 1\",dfOneHot_train.shape)\n",
    "    \n",
    "    # Reset index to enable concat\n",
    "    train_data_set.reset_index(inplace=True)\n",
    "    dfOneHot_train.reset_index(inplace=True)\n",
    "    train_dummies.reset_index(inplace=True)\n",
    "    \n",
    "    test_data_set.reset_index(inplace=True)\n",
    "    dfOneHot_test.reset_index(inplace=True)\n",
    "    test_dummies.reset_index(inplace=True)\n",
    "    \n",
    "    # Error is here\n",
    "    train_data_set = pd.concat([train_data_set, dfOneHot_train], axis=1, join=\"inner\")\n",
    "    train_data_set = pd.concat([train_data_set, train_dummies ], axis=1, join=\"inner\")\n",
    "    print(train_data_set.shape)\n",
    "\n",
    "    test_data_set = pd.concat([test_data_set, dfOneHot_test], axis=1)\n",
    "    test_data_set = pd.concat([test_data_set, test_dummies],  axis=1)\n",
    "\n",
    "    \n",
    "    #test_data_set['movie/TVseries'].fillna(0, inplace=True)\n",
    "    #train_data_set['movie/TVseries'].fillna(0, inplace=True)\n",
    "    \n",
    "    return ([train_data_set, test_data_set]\n",
    "           )\n",
    "\n",
    "def feature_transformation(train_data_set, test_data_set):\n",
    "    \n",
    "    dummieset = get_dummies(train_data_set, test_data_set)\n",
    "    train_data_set = dummieset[0]\n",
    "    test_data_set = dummieset[1]\n",
    "        \n",
    "    #Bag of Words\n",
    "    summary_doc_train = train_data_set['overview'].fillna(\"\").map(clean_words)\n",
    "    summary_doc_train =summary_doc_train.apply(','.join)\n",
    "    \n",
    "    summary_doc_test = test_data_set['overview'].fillna(\"\").map(clean_words)\n",
    "    summary_doc_test =summary_doc_test.apply(','.join)\n",
    " \n",
    "    vectorizer = TfidfVectorizer()\n",
    "    fitted_vectorizer = vectorizer.fit(summary_doc_train)\n",
    "    overview_feature_train = fitted_vectorizer.transform(summary_doc_train).toarray()\n",
    "    overview_feature_test = fitted_vectorizer.transform(summary_doc_test).toarray()\n",
    "\n",
    "    df_train = pd.DataFrame(overview_feature_train, columns = [\"word\"+ str(int(i)) for i in range(overview_feature_train.shape[1])])\n",
    "    train_data_set = pd.concat([train_data_set, df_train], axis=1)\n",
    "    \n",
    "    df_test = pd.DataFrame(overview_feature_test, columns = [\"word\"+ str(int(i)) for i in range(overview_feature_test.shape[1])])\n",
    "    test_data_set = pd.concat([test_data_set, df_test], axis=1)\n",
    "    \n",
    "    train_data_set = train_data_set.drop(columns=['anime_id', 'name', 'genre', 'overview', 'type'])\n",
    "    test_data_set = test_data_set.drop(columns=['anime_id', 'name', 'genre', 'overview', 'type'])\n",
    "    \n",
    "    #drop NaN values\n",
    "    train_data_set.dropna(inplace=True)\n",
    "    test_data_set.dropna(inplace=True)\n",
    "    \n",
    "    train_data_set.fillna(0, inplace=True)\n",
    "    test_data_set.fillna(0, inplace=True)\n",
    "    \n",
    "    return ([train_data_set, test_data_set])\n",
    "print(anime_train.shape)\n",
    "print(anime_test.shape)\n"
   ]
  },
  {
   "cell_type": "code",
   "execution_count": 168,
   "metadata": {},
   "outputs": [
    {
     "name": "stdout",
     "output_type": "stream",
     "text": [
      "Train Dummies 1 (1600, 8)\n",
      "Train OneHot 1 (1600, 1)\n",
      "(1600, 69)\n"
     ]
    }
   ],
   "source": [
    "from sklearn.feature_extraction.text import TfidfVectorizer\n",
    "\n",
    "'''\n",
    "anime_train = feature_transformation(anime_train)\n",
    "anime_test = feature_transformation(anime_test)\n",
    "'''\n",
    "transformed_features = feature_transformation(anime_train, anime_test)\n",
    "\n",
    "anime_train = transformed_features[0]\n",
    "anime_test = transformed_features[1]"
   ]
  },
  {
   "cell_type": "code",
   "execution_count": 169,
   "metadata": {},
   "outputs": [
    {
     "name": "stdout",
     "output_type": "stream",
     "text": [
      "(1545, 7109)\n",
      "(386, 7109)\n"
     ]
    }
   ],
   "source": [
    "#anime_train = anime_train.dropna()\n",
    "print(anime_train.shape)\n",
    "print(anime_test.shape)"
   ]
  },
  {
   "cell_type": "code",
   "execution_count": 170,
   "metadata": {},
   "outputs": [],
   "source": [
    "anime_y_train = anime_train['rating']\n",
    "anime_X_train = anime_train.drop(columns=['rating'])\n",
    "\n",
    "anime_y_test = anime_test['rating']\n",
    "anime_X_test = anime_test.drop(columns=['rating'])\n"
   ]
  },
  {
   "cell_type": "markdown",
   "metadata": {},
   "source": [
    "## Feature Selection"
   ]
  },
  {
   "cell_type": "code",
   "execution_count": 171,
   "metadata": {},
   "outputs": [
    {
     "name": "stderr",
     "output_type": "stream",
     "text": [
      "/Users/sezin/.local/share/virtualenvs/dsa-DC4ML-_HMLejDF/lib/python3.7/site-packages/sklearn/feature_selection/univariate_selection.py:299: RuntimeWarning: invalid value encountered in true_divide\n",
      "  corr /= X_norms\n",
      "/Users/sezin/.local/share/virtualenvs/dsa-DC4ML-_HMLejDF/lib/python3.7/site-packages/scipy/stats/_distn_infrastructure.py:877: RuntimeWarning: invalid value encountered in greater\n",
      "  return (self.a < x) & (x < self.b)\n",
      "/Users/sezin/.local/share/virtualenvs/dsa-DC4ML-_HMLejDF/lib/python3.7/site-packages/scipy/stats/_distn_infrastructure.py:877: RuntimeWarning: invalid value encountered in less\n",
      "  return (self.a < x) & (x < self.b)\n",
      "/Users/sezin/.local/share/virtualenvs/dsa-DC4ML-_HMLejDF/lib/python3.7/site-packages/scipy/stats/_distn_infrastructure.py:1831: RuntimeWarning: invalid value encountered in less_equal\n",
      "  cond2 = cond0 & (x <= self.a)\n"
     ]
    },
    {
     "name": "stdout",
     "output_type": "stream",
     "text": [
      "(1545, 7108)\n",
      "(386, 7108)\n",
      "(1545, 700)\n",
      "(386, 700)\n"
     ]
    },
    {
     "name": "stderr",
     "output_type": "stream",
     "text": [
      "/Users/sezin/.local/share/virtualenvs/dsa-DC4ML-_HMLejDF/lib/python3.7/site-packages/sklearn/utils/validation.py:595: DataConversionWarning: Data with input dtype object was converted to float64 by StandardScaler.\n",
      "  warnings.warn(msg, DataConversionWarning)\n",
      "/Users/sezin/.local/share/virtualenvs/dsa-DC4ML-_HMLejDF/lib/python3.7/site-packages/sklearn/utils/validation.py:595: DataConversionWarning: Data with input dtype object was converted to float64 by StandardScaler.\n",
      "  warnings.warn(msg, DataConversionWarning)\n"
     ]
    }
   ],
   "source": [
    "from sklearn.feature_selection import SelectKBest\n",
    "from sklearn.feature_selection import f_regression\n",
    "from sklearn.preprocessing import StandardScaler\n",
    "\n",
    "selector = SelectKBest(score_func=f_regression,k=700)#anime_X_test.shape[1]-1)\n",
    "features = selector.fit(anime_X_train, anime_y_train)\n",
    "\n",
    "# summarize scores\n",
    "np.set_printoptions(precision=3)\n",
    "#print(fit.scores_)\n",
    "\n",
    "print(anime_X_train.shape)\n",
    "print(anime_X_test.shape)\n",
    "anime_X_train = features.transform(anime_X_train)\n",
    "anime_X_test = features.transform(anime_X_test)\n",
    "print(anime_X_train.shape)\n",
    "print(anime_X_test.shape)\n",
    "\n",
    "scaler = StandardScaler() \n",
    "\n",
    "# Apply transform to both the training set and the test set.\n",
    "anime_X_train = scaler.fit_transform(anime_X_train)  \n",
    "anime_X_test = scaler.transform(anime_X_test) "
   ]
  },
  {
   "cell_type": "markdown",
   "metadata": {},
   "source": [
    "## Training - Testing - Evaluation"
   ]
  },
  {
   "cell_type": "code",
   "execution_count": 172,
   "metadata": {},
   "outputs": [],
   "source": [
    "def training(model, dataset, label):\n",
    "    clf = model\n",
    "    clf.fit(dataset, label)\n",
    "    return clf\n",
    "\n",
    "def testing_evaluation(model, testset):\n",
    "    # Make predictions using the testing set\n",
    "    anime_y_pred = model.predict(testset)\n",
    "\n",
    "    # The mean absolute error\n",
    "    print(\"Mean absolute error: %.2f\" % np.sqrt(mean_absolute_error(anime_y_test, anime_y_pred)))\n",
    "\n",
    "    # The mean squared error\n",
    "    print(\"Mean squared error: %.2f\" % np.sqrt(mean_squared_error(anime_y_test, anime_y_pred)))\n",
    "\n",
    "    # Explained variance score: 1 is perfect prediction\n",
    "    print('Variance score: %.2f' % r2_score(anime_y_test, anime_y_pred))"
   ]
  },
  {
   "cell_type": "markdown",
   "metadata": {},
   "source": [
    "### Linear Regression"
   ]
  },
  {
   "cell_type": "code",
   "execution_count": 173,
   "metadata": {},
   "outputs": [
    {
     "name": "stdout",
     "output_type": "stream",
     "text": [
      "Mean absolute error: 1350796.97\n",
      "Mean squared error: 11339482933762.25\n",
      "Variance score: -123562007890263429603131392.00\n"
     ]
    }
   ],
   "source": [
    "clf = training(model = linear_model.LinearRegression(), dataset = anime_X_train, label= anime_y_train)\n",
    "testing_evaluation(clf, anime_X_test)"
   ]
  },
  {
   "cell_type": "markdown",
   "metadata": {},
   "source": [
    "### Lesso Regression"
   ]
  },
  {
   "cell_type": "code",
   "execution_count": 174,
   "metadata": {},
   "outputs": [
    {
     "name": "stdout",
     "output_type": "stream",
     "text": [
      "Mean absolute error: 1.06\n",
      "Mean squared error: 1.42\n",
      "Variance score: -0.93\n"
     ]
    }
   ],
   "source": [
    "clf = training(model = linear_model.Lasso(alpha=0.1), dataset = anime_X_train, label= anime_y_train)\n",
    "testing_evaluation(clf, anime_X_test)"
   ]
  },
  {
   "cell_type": "markdown",
   "metadata": {},
   "source": [
    "### LassoCV"
   ]
  },
  {
   "cell_type": "code",
   "execution_count": 175,
   "metadata": {},
   "outputs": [
    {
     "data": {
      "text/plain": [
       "'\\n# Create a list of alphas to cross-validate against\\nalphas = np.logspace(-10, 1, 100)\\n\\n# Instantiate the linear model and visualizer\\nmodel = LassoCV(alphas=alphas, cv = 5)\\nvisualizer = AlphaSelection(model)\\n\\nvisualizer.fit(anime_X_train, anime_y_train)\\ng = visualizer.poof()\\n'"
      ]
     },
     "execution_count": 175,
     "metadata": {},
     "output_type": "execute_result"
    }
   ],
   "source": [
    "'''\n",
    "# Create a list of alphas to cross-validate against\n",
    "alphas = np.logspace(-10, 1, 100)\n",
    "\n",
    "# Instantiate the linear model and visualizer\n",
    "model = LassoCV(alphas=alphas, cv = 5)\n",
    "visualizer = AlphaSelection(model)\n",
    "\n",
    "visualizer.fit(anime_X_train, anime_y_train)\n",
    "g = visualizer.poof()\n",
    "'''\n"
   ]
  },
  {
   "cell_type": "markdown",
   "metadata": {},
   "source": [
    "### Cross Validation"
   ]
  },
  {
   "cell_type": "code",
   "execution_count": 176,
   "metadata": {},
   "outputs": [
    {
     "name": "stdout",
     "output_type": "stream",
     "text": [
      "Scores: [0.7   0.7   0.82  0.72  0.657]\n",
      "Mean: 0.7195722473393487\n",
      "Standard deviation: 0.054063252121026396\n"
     ]
    }
   ],
   "source": [
    "def display_scores(scores):\n",
    "    print(\"Scores:\", scores)\n",
    "    print(\"Mean:\", scores.mean())\n",
    "    print(\"Standard deviation:\", scores.std())\n",
    "    \n",
    "scores = cross_val_score(clf, anime_X_train, anime_y_train, scoring=\"neg_mean_squared_error\", cv=5) \n",
    "rmse_scores = np.sqrt(-scores)\n",
    "display_scores(rmse_scores)"
   ]
  },
  {
   "cell_type": "markdown",
   "metadata": {},
   "source": [
    "### Grid Search For Hyper Parameter Selection"
   ]
  },
  {
   "cell_type": "code",
   "execution_count": 177,
   "metadata": {},
   "outputs": [
    {
     "name": "stderr",
     "output_type": "stream",
     "text": [
      "/Users/sezin/.local/share/virtualenvs/dsa-DC4ML-_HMLejDF/lib/python3.7/site-packages/sklearn/linear_model/coordinate_descent.py:492: ConvergenceWarning: Objective did not converge. You might want to increase the number of iterations. Fitting data with very small alpha may cause precision problems.\n",
      "  ConvergenceWarning)\n",
      "/Users/sezin/.local/share/virtualenvs/dsa-DC4ML-_HMLejDF/lib/python3.7/site-packages/sklearn/linear_model/coordinate_descent.py:492: ConvergenceWarning: Objective did not converge. You might want to increase the number of iterations. Fitting data with very small alpha may cause precision problems.\n",
      "  ConvergenceWarning)\n",
      "/Users/sezin/.local/share/virtualenvs/dsa-DC4ML-_HMLejDF/lib/python3.7/site-packages/sklearn/linear_model/coordinate_descent.py:492: ConvergenceWarning: Objective did not converge. You might want to increase the number of iterations. Fitting data with very small alpha may cause precision problems.\n",
      "  ConvergenceWarning)\n",
      "/Users/sezin/.local/share/virtualenvs/dsa-DC4ML-_HMLejDF/lib/python3.7/site-packages/sklearn/linear_model/coordinate_descent.py:492: ConvergenceWarning: Objective did not converge. You might want to increase the number of iterations. Fitting data with very small alpha may cause precision problems.\n",
      "  ConvergenceWarning)\n",
      "/Users/sezin/.local/share/virtualenvs/dsa-DC4ML-_HMLejDF/lib/python3.7/site-packages/sklearn/linear_model/coordinate_descent.py:492: ConvergenceWarning: Objective did not converge. You might want to increase the number of iterations. Fitting data with very small alpha may cause precision problems.\n",
      "  ConvergenceWarning)\n"
     ]
    },
    {
     "name": "stdout",
     "output_type": "stream",
     "text": [
      "best parameters are:  {'alpha': 0.1}\n",
      "The mean squared Error is: 0.52\n"
     ]
    }
   ],
   "source": [
    "def checkHP(model, folds, dataset, label):\n",
    "    parameters = {\n",
    "                   \"alpha\": [0.0001, 0.001, 0.01, 0.1, 1, 10, 100],\n",
    "                  }\n",
    "\n",
    "    gd_sr = GridSearchCV(estimator=model,  \n",
    "                         param_grid=parameters,\n",
    "                         scoring=\"neg_mean_squared_error\",\n",
    "                         cv=folds)\n",
    "\n",
    "    gd_sr.fit(dataset, label)  \n",
    "    \n",
    "    best_parameters = gd_sr.best_params_  \n",
    "    print(\"best parameters are: \", best_parameters)\n",
    "\n",
    "    best_result = gd_sr.best_score_  \n",
    "    print(\"The mean squared Error is: %.2f\" % -best_result) \n",
    "    \n",
    "checkHP(clf, 5, anime_X_train, anime_y_train) "
   ]
  },
  {
   "cell_type": "markdown",
   "metadata": {},
   "source": [
    "### Re-Training"
   ]
  },
  {
   "cell_type": "code",
   "execution_count": 178,
   "metadata": {},
   "outputs": [
    {
     "name": "stdout",
     "output_type": "stream",
     "text": [
      "Mean absolute error: 1.06\n",
      "Mean squared error: 1.42\n",
      "Variance score: -0.93\n"
     ]
    }
   ],
   "source": [
    "clf = training(model = linear_model.Lasso(alpha=0.1), dataset = anime_X_train, label= anime_y_train)\n",
    "testing_evaluation(clf, anime_X_test)"
   ]
  },
  {
   "cell_type": "code",
   "execution_count": null,
   "metadata": {},
   "outputs": [],
   "source": []
  }
 ],
 "metadata": {
  "kernelspec": {
   "display_name": "dsa-DC4ML",
   "language": "python",
   "name": "dsa-dc4ml"
  },
  "language_info": {
   "codemirror_mode": {
    "name": "ipython",
    "version": 3
   },
   "file_extension": ".py",
   "mimetype": "text/x-python",
   "name": "python",
   "nbconvert_exporter": "python",
   "pygments_lexer": "ipython3",
   "version": "3.7.1"
  }
 },
 "nbformat": 4,
 "nbformat_minor": 2
}

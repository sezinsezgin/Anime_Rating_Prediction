{
 "cells": [
  {
   "cell_type": "markdown",
   "metadata": {},
   "source": [
    "### libraries"
   ]
  },
  {
   "cell_type": "code",
   "execution_count": 1,
   "metadata": {},
   "outputs": [],
   "source": [
    "import pandas as pd\n",
    "import csv"
   ]
  },
  {
   "cell_type": "markdown",
   "metadata": {},
   "source": [
    "### Anime Tupe Rules"
   ]
  },
  {
   "cell_type": "code",
   "execution_count": 49,
   "metadata": {},
   "outputs": [],
   "source": [
    "class AnimeRules:\n",
    "  def __init__(self, dirty_dataset, cleaned_dataset):\n",
    "    self.dirty_dataset = dirty_dataset\n",
    "    self.cleaned_dataset = cleaned_dataset\n",
    "    self.df_d = pd.read_csv(dirty_dataset)\n",
    "    \n",
    "  def movie_rule(self):\n",
    "        cnt = 0\n",
    "        #with open(self.cleaned_dataset, mode='w') as cleaned_data:\n",
    "            #cleaned_write = csv.writer(cleaned_data, delimiter=',', quotechar='\"', quoting=csv.QUOTE_MINIMAL)\n",
    "    \n",
    "        for index, row in self.df_d.iterrows():\n",
    "            if row['episods'] == 1 and \"movie\" not in row['type']:\n",
    "                    cnt+=1\n",
    "                    row.type = \"tv series\"\n",
    "                    #cleaned_write.writerow(row)\n",
    "                    row.T.to_csv(self.cleaned_dataset)\n",
    "            else:\n",
    "                    #cleaned_write.writerow(row)\n",
    "                    row.T.to_csv(self.cleaned_dataset)\n",
    "                            \n",
    "        detected_tuples_pcg = (cnt/int(self.df_d.shape[0]))*100\n",
    "        print(\"Number of Detected Tuples are {} which is {}% of the whole dataset \".format(cnt, detected_tuples_pcg))\n",
    "        #print(\"Error Repaird, please check {}\".format(self.cleaned_dataset))\n",
    "\n",
    "\n",
    "  def series_rule(self):\n",
    "        cnt = 0\n",
    "        #with open(self.cleaned_dataset, mode='w') as cleaned_data:\n",
    "            #cleaned_write = csv.writer(cleaned_data, delimiter=',', quotechar='\"', quoting=csv.QUOTE_MINIMAL)\n",
    "    \n",
    "        for index, row in self.df_d.iterrows():\n",
    "            if row['episods'] != 1 and \"movie\" in row['type']:\n",
    "                    cnt+=1\n",
    "                    row.type = \"movie\"\n",
    "                    #cleaned_write.writerow(row)\n",
    "                    row.T.to_csv(self.cleaned_dataset)\n",
    "            else:\n",
    "                    row.T.to_csv(self.cleaned_dataset)\n",
    "                    #cleaned_write.writerow(row)\n",
    "                            \n",
    "        detected_tuples_pcg = (cnt/int(self.df_d.shape[0]))*100\n",
    "        print(\"Number of Detected Tuples are {} which is {}% of the whole dataset \".format(cnt, detected_tuples_pcg))\n",
    "        #print(\"Error Repaird, please check {}\".format(self.cleaned_dataset))"
   ]
  },
  {
   "cell_type": "markdown",
   "metadata": {},
   "source": [
    "### Error Detection & Repair"
   ]
  },
  {
   "cell_type": "code",
   "execution_count": 50,
   "metadata": {},
   "outputs": [
    {
     "name": "stdout",
     "output_type": "stream",
     "text": [
      "Error detection of anime series\n",
      "Number of Detected Tuples are 418 which is 26.125% of the whole dataset \n",
      "Error detection of anime movies\n",
      "Number of Detected Tuples are 376 which is 23.5% of the whole dataset \n"
     ]
    }
   ],
   "source": [
    "dirty_anime_data = \"random_active_domain.csv\"\n",
    "cleaned_anime_data = \"CleanedData.csv\"\n",
    "\n",
    "FixData = AnimeRules(dirty_anime_data, cleaned_anime_data)\n",
    "\n",
    "print(\"Error detection of anime series\")\n",
    "FixData.series_rule()\n",
    "\n",
    "print(\"Error detection of anime movies\")\n",
    "FixData.movie_rule()"
   ]
  },
  {
   "cell_type": "code",
   "execution_count": null,
   "metadata": {},
   "outputs": [],
   "source": []
  }
 ],
 "metadata": {
  "kernelspec": {
   "display_name": "Python 3",
   "language": "python",
   "name": "python3"
  },
  "language_info": {
   "codemirror_mode": {
    "name": "ipython",
    "version": 3
   },
   "file_extension": ".py",
   "mimetype": "text/x-python",
   "name": "python",
   "nbconvert_exporter": "python",
   "pygments_lexer": "ipython3",
   "version": "3.6.0"
  }
 },
 "nbformat": 4,
 "nbformat_minor": 2
}

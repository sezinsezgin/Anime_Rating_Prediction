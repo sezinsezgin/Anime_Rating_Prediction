{
 "cells": [
  {
   "cell_type": "code",
   "execution_count": 4,
   "metadata": {},
   "outputs": [],
   "source": [
    "from autocorrect import spell\n",
    "import pandas as pd\n",
    "from pattern.en import suggest\n",
    "import re"
   ]
  },
  {
   "cell_type": "markdown",
   "metadata": {},
   "source": [
    "### Detecting"
   ]
  },
  {
   "cell_type": "code",
   "execution_count": 5,
   "metadata": {},
   "outputs": [],
   "source": [
    "def reduce_lengthening(text):\n",
    "    pattern = re.compile(r\"(.)\\1{2,}\")\n",
    "    return pattern.sub(r\"\\1\\1\", text)"
   ]
  },
  {
   "cell_type": "code",
   "execution_count": null,
   "metadata": {
    "scrolled": false
   },
   "outputs": [],
   "source": [
    "df = pd.read_csv(\"dirtyTrainDataset.csv\")\n",
    "\n",
    "row_list = []\n",
    "corrected_list = []\n",
    "corrected_row = \"\"\n",
    "dirty_row_cnt = 0\n",
    "dirty_cnt = 0\n",
    "for index, row in df.iterrows():\n",
    "    item = row['genre']\n",
    "    if(pd.isnull(item)):\n",
    "            item =\"\"\n",
    "    row_list = item.split(',')\n",
    "    corrected_row =\"\"\n",
    "    dirty_row_cnt = 0\n",
    "    for word in row_list:\n",
    "        word_wlf = reduce_lengthening(word)\n",
    "        correct_word = suggest(word_wlf)[0][0]\n",
    "        correlation = suggest(word_wlf)[0][1]\n",
    "        \n",
    "        if correlation != 1:\n",
    "            dirty_row_cnt += 1 \n",
    "    \n",
    "        if corrected_row != \"\":\n",
    "            corrected_row = corrected_row + \",\" + correct_word\n",
    "        else:  \n",
    "            corrected_row = correct_word\n",
    "    corrected_list.append(corrected_row)\n",
    "    \n",
    "    if dirty_row_cnt > 0:\n",
    "        dirty_cnt +=1         \n",
    "    \n",
    "Detected_Error =  (dirty_cnt/df.shape[0])\n",
    "Detected_Error_pcg =  (Detected_Error)*100\n",
    "print(\"Number of Detected Tuples are {} which is {}% of the whole dataset \".format(dirty_cnt, Detected_Error_pcg))\n",
    "\n"
   ]
  },
  {
   "cell_type": "markdown",
   "metadata": {},
   "source": [
    "### Repairing"
   ]
  },
  {
   "cell_type": "code",
   "execution_count": null,
   "metadata": {},
   "outputs": [],
   "source": [
    "df['genre'] = corrected_list\n",
    "\n",
    "df.to_csv(\"CleanedDataset.csv\", index = False)\n",
    "    "
   ]
  },
  {
   "cell_type": "code",
   "execution_count": null,
   "metadata": {},
   "outputs": [],
   "source": []
  }
 ],
 "metadata": {
  "kernelspec": {
   "display_name": "Python 3",
   "language": "python",
   "name": "python3"
  },
  "language_info": {
   "codemirror_mode": {
    "name": "ipython",
    "version": 3
   },
   "file_extension": ".py",
   "mimetype": "text/x-python",
   "name": "python",
   "nbconvert_exporter": "python",
   "pygments_lexer": "ipython3",
   "version": "3.7.1"
  }
 },
 "nbformat": 4,
 "nbformat_minor": 2
}

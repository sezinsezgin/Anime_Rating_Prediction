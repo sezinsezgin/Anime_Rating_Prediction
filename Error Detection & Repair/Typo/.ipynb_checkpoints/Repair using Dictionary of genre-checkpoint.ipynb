{
 "cells": [
  {
   "cell_type": "code",
   "execution_count": 1,
   "metadata": {},
   "outputs": [],
   "source": [
    "from autocorrect import spell\n",
    "import pandas as pd\n",
    "from pattern.en import suggest\n",
    "import re\n",
    "from difflib import get_close_matches\n",
    "from difflib import SequenceMatcher"
   ]
  },
  {
   "cell_type": "markdown",
   "metadata": {},
   "source": [
    "### Most Popular Movies Genre List  "
   ]
  },
  {
   "cell_type": "code",
   "execution_count": 2,
   "metadata": {},
   "outputs": [],
   "source": [
    "genre = {\"Action\", \"Adventure\", \"Comedy\", \"Crime\", \"Drama\", \"History\", \n",
    "          \"Animation\", \"Short\", \"Kids\", \"Sci-Fi\", \"Fantasy\", \"Sport\",\n",
    "         \"Music\", \"school\", \"Romance\", \"Game\", \"Mecha\", \"Military\",\n",
    "         \"space\", \"Magic\", \"Ecchi\", \"Family\", \"war\", \"Mystery\", \"Police\", \"Supernatural\",\n",
    "         \"news\", \"Parody\", \"SuperPower\", \"Shounen\",\"Vampire\", \"Horror\",\n",
    "         \"Parody\", \"Hentai\", \"SliceofLife\", \"Documentary\", \"biography\",\n",
    "         \"Psychological\",\"Seinen\",\"Thriller\", \"Historical\", \"Reality-TV\",\n",
    "         \"Hentai\", \"Talk-Show\", \"Harem\",\"Game-Show\"}"
   ]
  },
  {
   "cell_type": "code",
   "execution_count": 3,
   "metadata": {},
   "outputs": [],
   "source": [
    "def similar(a, b):\n",
    "    return SequenceMatcher(None, a, b).ratio() \n"
   ]
  },
  {
   "cell_type": "code",
   "execution_count": 4,
   "metadata": {
    "scrolled": false
   },
   "outputs": [
    {
     "name": "stdout",
     "output_type": "stream",
     "text": [
      "Number of Detected Tuples are 583 which is 36.4375% of the whole dataset \n"
     ]
    }
   ],
   "source": [
    "df = pd.read_csv(\"dirtyTrainDataset.csv\")\n",
    "\n",
    "row_list = []\n",
    "corrected_list = []\n",
    "corrected_row = \"\"\n",
    "dirty_row_cnt = 0\n",
    "dirty_cnt = 0\n",
    "max = 0\n",
    "correct_word = \"\"\n",
    "for index, row in df.iterrows():\n",
    "    item = row['genre']\n",
    "    if(pd.isnull(item)):\n",
    "            item =\"\"\n",
    "    row_list = item.split(',')\n",
    "    corrected_row =\"\"\n",
    "    dirty_row_cnt = 0\n",
    "    if row_list:\n",
    "        for word in row_list:\n",
    "            if word in genre:\n",
    "                correct_word = word\n",
    "            else:\n",
    "                dirty_row_cnt += 1 \n",
    "                for gword in genre:\n",
    "                    if (similar(word,gword) > max):\n",
    "                        max = similar(word,gword)\n",
    "                        correct_word = word    \n",
    "            if corrected_row is not \"\":\n",
    "                        corrected_row = corrected_row + \",\" + correct_word\n",
    "    \n",
    "            else:  \n",
    "                    corrected_row = correct_word\n",
    "        corrected_list.append(corrected_row)\n",
    "        \n",
    "        if dirty_row_cnt > 0:\n",
    "            dirty_cnt +=1  \n",
    "\n",
    "Detected_Error =  (dirty_cnt/df.shape[0])\n",
    "Detected_Error_pcg =  (Detected_Error)*100\n",
    "print(\"Number of Detected Tuples are {} which is {}% of the whole dataset \".format(dirty_cnt, Detected_Error_pcg))"
   ]
  },
  {
   "cell_type": "markdown",
   "metadata": {},
   "source": [
    "### Repairing"
   ]
  },
  {
   "cell_type": "code",
   "execution_count": 5,
   "metadata": {},
   "outputs": [],
   "source": [
    "df['genre'] = corrected_list\n",
    "\n",
    "df.to_csv(\"CleanedDataset.csv\", index = False)\n",
    "    "
   ]
  },
  {
   "cell_type": "code",
   "execution_count": null,
   "metadata": {},
   "outputs": [],
   "source": []
  }
 ],
 "metadata": {
  "kernelspec": {
   "display_name": "Python 3",
   "language": "python",
   "name": "python3"
  },
  "language_info": {
   "codemirror_mode": {
    "name": "ipython",
    "version": 3
   },
   "file_extension": ".py",
   "mimetype": "text/x-python",
   "name": "python",
   "nbconvert_exporter": "python",
   "pygments_lexer": "ipython3",
   "version": "3.7.1"
  }
 },
 "nbformat": 4,
 "nbformat_minor": 2
}

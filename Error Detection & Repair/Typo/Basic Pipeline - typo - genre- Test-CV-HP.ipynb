{
 "cells": [
  {
   "cell_type": "markdown",
   "metadata": {},
   "source": [
    "## Import Data"
   ]
  },
  {
   "cell_type": "code",
   "execution_count": 1,
   "metadata": {},
   "outputs": [
    {
     "name": "stderr",
     "output_type": "stream",
     "text": [
      "/Users/sezin/.local/share/virtualenvs/dsa-DC4ML-_HMLejDF/lib/python3.7/site-packages/chainer-6.0.0a1-py3.7.egg/chainer/_environment_check.py:41: UserWarning: Accelerate has been detected as a NumPy backend library.\n",
      "vecLib, which is a part of Accelerate, is known not to work correctly with Chainer.\n",
      "We recommend using other BLAS libraries such as OpenBLAS.\n",
      "For details of the issue, please see\n",
      "https://docs.chainer.org/en/stable/tips.html#mnist-example-does-not-converge-in-cpu-mode-on-mac-os-x.\n",
      "\n",
      "Also note that Chainer does not officially support Mac OS X.\n",
      "Please use it at your own risk.\n",
      "\n",
      "  ''')  # NOQA\n"
     ]
    }
   ],
   "source": [
    "import numpy as np\n",
    "import imdb \n",
    "import pandas as pd\n",
    "#from error_generator import Explicit_Missing_Value\n",
    "#from error_generator import Implicit_Missing_Value\n",
    "#from error_generator import White_Noise\n",
    "#from error_generator import Gaussian_Noise\n",
    "from error_generator import Random_Active_Domain\n",
    "from error_generator import Similar_Based_Active_Domain\n",
    "from error_generator import Typo_Keyboard\n",
    "from error_generator import Typo_Butterfingers\n",
    "from error_generator import Word2vec_Nearest_Neighbor\n",
    "from error_generator import Value_Selector\n",
    "from error_generator import List_selected\n",
    "from error_generator import Read_Write\n",
    "from error_generator import Error_Generator\n",
    "from sklearn import preprocessing\n",
    "from sklearn.model_selection import train_test_split\n",
    "from sklearn.preprocessing import LabelBinarizer\n",
    "from sklearn.linear_model import LassoCV\n",
    "from yellowbrick.regressor import AlphaSelection\n",
    "from sklearn.model_selection import GridSearchCV\n",
    "from sklearn.model_selection import cross_val_score\n",
    "from sklearn import linear_model\n",
    "from sklearn.metrics import mean_squared_error, r2_score, mean_absolute_error\n",
    "\n",
    "anime_data = pd.read_csv(\"../../new_anime_data1.csv\", index_col=0)\n",
    "\n",
    "anime_data['episodes'] = anime_data['episodes'].replace('Unknown', np.nan)\n"
   ]
  },
  {
   "cell_type": "markdown",
   "metadata": {},
   "source": [
    "## Cleaning"
   ]
  },
  {
   "cell_type": "code",
   "execution_count": 2,
   "metadata": {},
   "outputs": [],
   "source": [
    "l1 = []\n",
    "l2 = []\n",
    "l3 = []\n",
    "\n",
    "\n",
    "anime_data['genre'].fillna('',  inplace=True)\n",
    "anime_data['overview'].fillna('',  inplace=True)\n",
    "anime_data['type'].fillna('',  inplace=True)\n",
    "for index, row in anime_data.iterrows():\n",
    "    item = row['genre']\n",
    "    if(pd.isnull(item)):\n",
    "            item =\"\"\n",
    "    else:\n",
    "        if isinstance(item, (list, tuple)):\n",
    "            item = ','.join(item)\n",
    "        else:\n",
    "            item = item.replace(\" \",\"\")\n",
    "            item = item.replace(\"[\",\"\")\n",
    "            item = item.replace(\"]\",\"\")\n",
    "            item = item.replace(\"'\",\"\")\n",
    "    l1.append(item) \n",
    "      \n",
    "\n",
    "for index, row in anime_data.iterrows():\n",
    "    item = row['overview']\n",
    "    if(pd.isnull(row['overview'])):\n",
    "            item = \"\"\n",
    "    else:\n",
    "       # for item in anime_data['overview']:\n",
    "            if isinstance(item, (list, tuple)):\n",
    "                item = ','.join(item)\n",
    "            else:\n",
    "                item = item.replace(\"[\",\"\")\n",
    "                item = item.replace(\"]\",\"\")\n",
    "    l2.append(item) \n",
    "\n",
    "for index, row in anime_data.iterrows():\n",
    "    item = row['type']\n",
    "    if(pd.isnull(row['type'])):\n",
    "        item = np.nan\n",
    "    else:    \n",
    "        if \"movie\" in item:\n",
    "            item = \"movie\"\n",
    "        else:\n",
    "            item = \"tv series\"\n",
    "    l3.append(item)\n",
    "\n",
    "    \n",
    "    \n",
    "anime_data['genre'] = l1   \n",
    "anime_data['overview'] = l2\n",
    "anime_data['type'] = l3\n",
    "\n",
    "#drop dublicate\n",
    "anime_data.drop_duplicates(inplace = True)\n",
    "\n"
   ]
  },
  {
   "cell_type": "markdown",
   "metadata": {},
   "source": [
    "## Sampling"
   ]
  },
  {
   "cell_type": "code",
   "execution_count": 3,
   "metadata": {},
   "outputs": [],
   "source": [
    "anime_train, anime_test = train_test_split(anime_data, test_size=0.2)\n",
    "anime_test.to_csv(\"testDataset.csv\", index = False,\n",
    "                  columns = ['anime_id', 'name','genre','type', 'episodes','rating', 'members', 'overview'])"
   ]
  },
  {
   "cell_type": "markdown",
   "metadata": {},
   "source": [
    "## Generating Errors"
   ]
  },
  {
   "cell_type": "code",
   "execution_count": 4,
   "metadata": {},
   "outputs": [],
   "source": [
    "def error_generater(dataset, method, n, ignored_columns):\n",
    "\n",
    "    myselector=List_selected()\n",
    "\n",
    "    mygen=Error_Generator()\n",
    "\n",
    "    new_dataset=mygen.error_generator(method_gen=method,selector=myselector,percentage=n,dataset=dataset,mute_column = ignored_columns)\n",
    "    \n",
    "    return new_dataset"
   ]
  },
  {
   "cell_type": "code",
   "execution_count": 5,
   "metadata": {},
   "outputs": [
    {
     "name": "stdout",
     "output_type": "stream",
     "text": [
      "---------Change according to Typo_Keyboard method ---------------\n",
      "\n",
      "row: 203 col: 2 : 'Animation,Short,Action,Adventure,Fantasy' changed to 'SnniimmaarupjoorrQvttiipjAAvvttrrGqbttaa'  \n",
      "row: 349 col: 2 : 'Hentai' changed to 'Gyaa'  \n",
      "row: 109 col: 2 : 'Short,Drama,Horror,Mystery,Thriller' changed to 'Wrrgfkaalrr,,MMussreet,,Rbeiirr'  \n",
      "row: 302 col: 2 : 'Animation' changed to 'Smksttiim'  \n",
      "row: 202 col: 2 : 'Horror,Sci-Fi' changed to 'rrrrt,,Wii--Cii'  \n",
      "row: 264 col: 2 : 'Comedy,Harem,Music,Romance,Shoujo' changed to 'VoonyyHHseeNjwuccEoosnnee,,juuui'  \n",
      "row: 253 col: 2 : 'Comedy,Romance,School' changed to 'VxuRRnaannccrZyo'  \n",
      "row: 107 col: 2 : 'Kids' changed to 'iiddss'  \n",
      "row: 261 col: 2 : 'Action,Adventure,Fantasy,Shounen' changed to 'iioonn,,AAsvvnnrwCqnnttaagiinnrnn'  \n",
      "row: 168 col: 2 : 'Animation,Action,Fantasy,Romance' changed to 'nnokaayiibSccglbaannss,,RRoommqnnccd'  \n",
      "row: 271 col: 2 : 'Fantasy,Kids,Magic' changed to 'DaattwtJii,,MMsfii'  \n",
      "row: 51 col: 2 : 'Drama,School' changed to 'DDsmm,,SSbooo'  \n",
      "row: 83 col: 2 : 'Action,Drama,Mecha,Military,Sci-Fi' changed to 'AAfijSfmmMMaa,,iigccuii'  \n",
      "row: 35 col: 2 : 'Comedy,School,SliceofLife' changed to 'XleeeSSfoopk,,SSllgLLuff'  \n",
      "row: 71 col: 2 : 'Action,Ecchi,Fantasy' changed to 'AAvguibEEcchhu,,qssh'  \n",
      "row: 330 col: 2 : 'Game,Psychological,Seinen,Thriller' changed to 'q,,PPxioooggccqllZiimeej,,TTtllllrr'  \n",
      "row: 258 col: 2 : 'Mystery' changed to 'twttyy'  \n",
      "row: 73 col: 2 : 'School,Shounen' changed to 'ccbillboonneej'  \n",
      "row: 377 col: 2 : 'Animation,Adventure,Comedy,Family,Fantasy,Sci-Fi' changed to 'SnnypnnSgeemjrreeCCoommxt,,Dskllyy,,aannqa,,WvoFF'  \n",
      "row: 187 col: 2 : 'Comedy,Sports' changed to 'mmyyZooe'  \n",
      "row: 90 col: 2 : 'Animation,Action,Drama,Romance,Sci-Fi' changed to 'SbaaiiooAAgpnn,,tsn,,RRinscc,,D--FFk'  \n",
      "row: 300 col: 2 : 'Comedy' changed to 'Vlkeexh'  \n",
      "row: 31 col: 2 : 'Action,Adventure,Mystery,Sci-Fi' changed to 'Siipb,,Sddvvjyf,,MMssde,,xii--FF'  \n",
      "row: 360 col: 2 : 'Animation' changed to 'AAnniimmttiim'  \n",
      "row: 140 col: 2 : 'Hentai' changed to 'Beenngo'  \n",
      "row: 262 col: 2 : 'Action,Psychological,Shounen,Supernatural,Thriller' changed to 'AAgooOztccpggll,,SShhpjbdm,,odnnaaruufaallTTeoo'  \n",
      "row: 179 col: 2 : 'Animation,Action,Drama' changed to 'Qiikrob,,Sxgb,,tnq'  \n",
      "row: 173 col: 2 : 'Animation,Short' changed to 'nnnsoomWtt'  \n",
      "row: 182 col: 2 : 'Hentai' changed to 'Ydnnaao'  \n",
      "row: 339 col: 2 : 'Short,Drama,Thriller' changed to 'Zoofrrrkaa,,hhtiiollre'  \n",
      "row: 127 col: 2 : 'Comedy,Ecchi,Kids,School,Shounen,SliceofLife' changed to 'Vineeeyy,,EEccusscchhpoollpmee,,ZlliixeeoocLLiiffd'  \n",
      "row: 291 col: 2 : 'Action,Drama,Sci-Fi,Space' changed to 'SccttooomDDqvuDii,,Wppaaccr'  \n",
      "row: 229 col: 2 : 'Animation,Family,Fantasy' changed to 'nniimmsulb,,mmoyyFFttsau'  \n",
      "row: 327 col: 2 : 'Comedy,Music,SliceofLife' changed to 'VoommweuKaiicc,,AiieeooLLiidee'  \n",
      "row: 41 col: 2 : 'Adventure,Kids' changed to 'AAnngf,,Mkfa'  \n",
      "row: 39 col: 2 : 'Animation,Action,Adventure,Sci-Fi,Thriller' changed to 'Qbmmqyiinn,,AAccttp,,AAxbeettuueSSii--,,Yeiillllee'  \n",
      "row: 277 col: 2 : 'Drama' changed to 'Xtmm'  \n",
      "row: 115 col: 2 : 'Fantasy' changed to 'FFmtt'  \n",
      "row: 334 col: 2 : 'Animation,Adventure,Crime,Mystery' changed to 'AAbiikiinnQddeettfdfkNyyyyy'  \n",
      "row: 379 col: 2 : 'Animation,Drama,Family' changed to 'Qiimmgpnn,,FeaammqFFkiill'  \n",
      "row: 67 col: 2 : 'Short,Drama,Sci-Fi' changed to 'oorrXts,,ccoRii'  \n",
      "row: 108 col: 2 : 'Hentai' changed to 'HHwnntt'  \n",
      "row: 361 col: 2 : 'Action,Adventure,Comedy,Fantasy,Shounen,SuperPower' changed to 'AAccttp,,AAeemfeekeyy,,DaannttshypuunnZeefwweerr'  \n",
      "row: 275 col: 2 : 'Short,Family,Animation,Fantasy' changed to 'Ahhley,,FFsmmii,,synn,,aajgqz'  \n",
      "row: 112 col: 2 : 'Comedy,Drama' changed to 'CCooku,,Sfsk'  \n",
      "row: 245 col: 2 : 'Action,Comedy,Fantasy,Magic,Music,Shoujo' changed to 'Qccttuinn,,isyyFFbyaasshquf,,MMuuss,,Zji'  \n",
      "row: 373 col: 2 : 'Drama' changed to 'es'  \n",
      "row: 292 col: 2 : 'Comedy,Drama' changed to 'oommeefyySrrsn'  \n",
      "row: 147 col: 2 : 'Animation,Action,Adventure,Family,Fantasy,Thriller' changed to 'AAnnunlnnkpnn,,AAfgnnuueeFFaakkyy,,FFqjr,,tiilleet'  \n",
      "row: 62 col: 2 : 'Historical' changed to 'HHgptkk'  \n",
      "row: 20 col: 2 : 'Animation,Short' changed to 'AAmmmskZhhy'  \n",
      "row: 84 col: 2 : 'Action,Mecha,Military,Police,Sci-Fi' changed to 'AAvyuoonnwccMMllsrruPPlliicc,,SSii--FF'  \n",
      "row: 303 col: 2 : 'Animation,Action,Adventure,Drama' changed to 'QsiibttiioonnQfceejrreeDDfqmms'  \n",
      "row: 392 col: 2 : 'Comedy,Ecchi,Harem,Romance' changed to 'Vph,,cchh,,HHaaeen,,mmsbfee'  \n",
      "row: 124 col: 2 : 'Fantasy,Kids' changed to 'Dqnnudd'  \n",
      "row: 154 col: 2 : 'Comedy,Horror' changed to 'oonhoorrtoo'  \n",
      "row: 332 col: 2 : 'Music' changed to 'Kyssiicc'  \n",
      "row: 58 col: 2 : 'Action' changed to 'ttiioo'  \n",
      "row: 50 col: 2 : 'Animation,Action,Adventure,Comedy,Drama,Fantasy,History,War' changed to 'AAjmmsiii,,SxttiioonnAAvveettiweeyyDDrrq,,qmz,,Battoo,,f'  \n",
      "row: 16 col: 2 : 'Comedy,Kids' changed to 'Fx,,Iiiddd'  \n",
      "row: 283 col: 2 : 'Hentai' changed to 'eenns'  \n",
      "row: 365 col: 2 : 'Hentai,Sci-Fi' changed to 'HHnnttii,,SScc--FFii'  \n",
      "row: 362 col: 2 : 'Adventure,Comedy,Josei' changed to 'AAddcrbgeeCCooee,,JJii'  \n",
      "row: 139 col: 2 : 'Drama,Kids' changed to 'faammsJf'  \n",
      "row: 312 col: 2 : 'Animation,Action,Sci-Fi' changed to 'aag,,AAttoocck--o'  \n",
      "row: 191 col: 2 : 'Music' changed to 'jaiix'  \n",
      "row: 214 col: 2 : 'Documentary,Mystery,News,Sci-Fi' changed to 'ccuukrnnqeyy,,NhttfyyNNz,,SSccii--Do'  \n",
      "row: 11 col: 2 : 'Drama' changed to 'taas'  \n",
      "row: 306 col: 2 : 'Comedy,School,Shounen' changed to 'CCpmmwyy,,cclll,,buubeeb'  \n",
      "row: 201 col: 2 : 'Drama,Historical,SliceofLife' changed to 'rraaaa,,JiissyrriiccqllAllrcLLffd'  \n",
      "row: 105 col: 2 : 'Animation,Short' changed to 'QiinaaiiooSSitt'  \n",
      "row: 128 col: 2 : 'Comedy,School,Sports' changed to 'CCookeefyy,,jpSSooogw'  \n",
      "row: 313 col: 2 : 'Animation' changed to 'AAnnnaariioonn'  \n",
      "row: 106 col: 2 : 'Action,Fantasy,Shounen,SuperPower,Supernatural,Vampire' changed to 'AAriiinn,,aayyhhpuunnrboeetOeerrSSeeesrjrrqmmoii'  \n",
      "row: 281 col: 2 : 'Animation' changed to 'nniiaattoob'  \n",
      "row: 100 col: 2 : 'Drama,Musical' changed to 'DDquussccs'  \n",
      "row: 91 col: 2 : 'Kids' changed to 'KKiiw'  \n",
      "row: 237 col: 2 : 'Action,Comedy,Historical,Mecha,Parody,Samurai,Sci-Fi,Shounen' changed to 'oiFoommwddyy,,HHiittlooMMeefhhqPPqeoofhmmrrii,,AiiRSShhluuwj'  \n",
      "row: 230 col: 2 : 'Action,Adventure,Game,Mecha,Sci-Fi,Shounen' changed to 'oo,,grgjfeeHkw,,eexyaa,,f--GiiZhhluurnn'  \n",
      "row: 148 col: 2 : 'Mystery,Shounen' changed to 'Nttfyy,,Ajnn'  \n",
      "row: 92 col: 2 : 'Cars,Drama,Seinen' changed to 'Fqrrd,,Ffqeeiimnn'  \n",
      "row: 119 col: 2 : 'Drama,Music' changed to 'Xrraamm,,MMssux'  \n",
      "row: 211 col: 2 : 'Animation,Comedy' changed to 'Qbiimmaaii,,neeft'  \n",
      "row: 324 col: 2 : 'Adventure,Kids' changed to 'Qdbyfss'  \n",
      "row: 116 col: 2 : 'Animation,Short' changed to 'Smaa,,hhir'  \n",
      "row: 318 col: 2 : 'Historical' changed to 'Biissttq'  \n",
      "row: 44 col: 2 : 'Comedy,Music' changed to 'CCmmtMMwiiv'  \n",
      "row: 164 col: 2 : 'Animation,Comedy' changed to 'AAiimmaattiioonn,,ndddyy'  \n",
      "row: 221 col: 2 : 'Drama,Horror,Mystery' changed to 'DDfaakHHoorrirr,,MMhssyeee'  \n",
      "row: 387 col: 2 : 'Game,Shounen' changed to 'Tndjoouubrb'  \n",
      "row: 259 col: 2 : 'Animation,Short' changed to 'nnkmmsgiii,,lrr'  \n",
      "row: 14 col: 2 : 'Animation,Action,Adventure,Comedy,Drama,Fantasy' changed to 'AAnniisttuoobSyiinn,,AAebttuuee,,nrddyy,,DD,,ttqyy'  \n",
      "row: 55 col: 2 : 'Reality-TV' changed to 'RRqllh--G'  \n",
      "row: 189 col: 2 : 'Animation,Short,Drama,Music,Romance' changed to 'Qmiimmaagiioo,,hheFfsmmq,,yssuccjccee'  \n",
      "row: 378 col: 2 : 'Drama' changed to 'taanaa'  \n",
      "row: 23 col: 2 : 'Comedy' changed to 'ideyy'  \n",
      "row: 99 col: 2 : 'Comedy' changed to 'ookrddyy'  \n",
      "row: 388 col: 2 : 'Adventure,Comedy,Mystery,Police,Shounen' changed to 'Qrjgiw,,Fmmd,,MMtsseerroolliivw,,SShhr'  \n",
      "row: 359 col: 2 : 'Documentary' changed to 'Spxjmmbyrryy'  \n",
      "row: 210 col: 2 : 'Animation' changed to 'Qnnummaayb'  \n",
      "row: 213 col: 2 : 'Adventure,Comedy,Fantasy' changed to 'SfeerineeddyyCaannaass'  \n",
      "row: 193 col: 2 : 'Action,Fantasy,Seinen,Supernatural' changed to 'yoonn,,DqttzyykSSionnttjaall'  \n",
      "row: 197 col: 2 : 'Action,Mecha,Military,Sci-Fi' changed to 'AAvum,,eexhhsiilliiytyy,,ii--ii'  \n",
      "row: 169 col: 2 : 'Animation,Comedy' changed to 'Snniinsttnnoowddh'  \n",
      "row: 69 col: 2 : 'Documentary,Short' changed to 'oouukeennttaa,,Wyrr'  \n",
      "row: 76 col: 2 : 'Animation,Adventure,Fantasy' changed to 'Sjkmmaagoobddcgrreenntts'  \n",
      "row: 236 col: 2 : 'Animation,Action,Comedy,Drama,Romance,Thriller' changed to 'AAmmsttiiljxynn,,CCkeesyy,,DDfTkmccrTTtiilleee'  \n",
      "row: 171 col: 2 : 'Animation,Action,Comedy,Crime,Mystery' changed to 'AAkql,,iioo,,CCooneexXoneeMMyyssdf'  \n",
      "row: 5 col: 2 : 'Animation,Comedy,Romance,Sci-Fi' changed to 'SjiiqttiilnnCCoofu,,Tmmscceecckii'  \n",
      "row: 198 col: 2 : 'Hentai' changed to 'Ynnraa'  \n",
      "row: 319 col: 2 : 'Animation,Action,Adventure,Fantasy,Sci-Fi,Thriller' changed to 'kk,,QcciinnAAvveennttieeeaanngaad,,SSo--ii,,Yrriiee'  \n",
      "row: 353 col: 2 : 'Animation,Comedy,Fantasy,Romance' changed to 'Suttob,,VooeeddRjttt,,RRaaccee'  \n",
      "row: 242 col: 2 : 'Animation,Comedy,Romance' changed to 'SmommqttkoobCCmmdddyyookjee'  \n",
      "row: 142 col: 2 : 'Animation,Family' changed to 'gkoob,,Gsiiyy'  \n",
      "row: 52 col: 2 : 'Documentary' changed to 'ooccymmwmqrr'  \n",
      "row: 346 col: 2 : 'Animation' changed to 'jknaa'  \n",
      "row: 196 col: 2 : 'Animation,Family,Adventure,Comedy,Drama,Musical,Fantasy' changed to 'AAiimmaagpnn,,snuyyddbeemguueeleeddyy,,eksMMuuiicck,,qrq'  \n",
      "row: 276 col: 2 : 'Animation,Adventure,Fantasy,Sci-Fi' changed to 'AAiikooonnAAwnnguurrd,,FFaabttsuu--D'  \n",
      "row: 372 col: 2 : 'Comedy' changed to 'ooeeeh'  \n",
      "row: 336 col: 2 : 'Drama' changed to 'fsaa'  \n",
      "row: 310 col: 2 : 'Adventure,Comedy,Fantasy,Kids' changed to 'ddvveejtd,,Vlkeefyy,,nnttaaz,,KKusss'  \n",
      "row: 216 col: 2 : 'Animation,Action,Comedy,Fantasy,Sci-Fi' changed to 'nnummttbAAttooj,,CCmmwuFFaattwtAfDu'  \n",
      "row: 176 col: 2 : 'Action,Adventure,Demons,Game,Shounen' changed to 'Qccgul,,Sbttuuer,,eekooss,,GGqnyjb'  \n",
      "row: 263 col: 2 : 'News' changed to 'NNwwss'  \n",
      "row: 185 col: 2 : 'Animation,Action,Adventure,Comedy,Drama,Fantasy,Romance' changed to 'QnnknnSroobAAegeegyrr,,CClkw,,Frrq,,FFsnnttuooaannv'  \n",
      "row: 251 col: 2 : 'Animation,Comedy' changed to 'iimmyoonnCCinwh'  \n",
      "row: 385 col: 2 : 'Comedy,Magic,Parody' changed to 'CCooneeyy,,MMqoccOqeooxt'  \n",
      "row: 30 col: 2 : 'Comedy,Sci-Fi' changed to 'Xmmeeddyy,,oDo'  \n",
      "row: 270 col: 2 : 'Animation,Short,Adventure,Comedy,Family' changed to 'Qmmmsru,,Dhhoo,,AAddeebjreef,,Cmmoyy'  \n",
      "row: 199 col: 2 : 'Animation,Action,Comedy,Drama,Fantasy,Romance,Thriller' changed to 'AAnnqttooo,,SttoomookeeeskqFFaabttaasstiksnnccw,,yrrllkee'  \n",
      "row: 131 col: 2 : 'Hentai' changed to 'HHdmtt'  \n",
      "row: 317 col: 2 : 'Horror' changed to 'lrr'  \n",
      "row: 252 col: 2 : 'Animation,Action,Adventure,Family,Fantasy,Sci-Fi,Thriller' changed to 'jmmaagolm,,ttiibAAxeeyrree,,qmmuo,,FFqbaadtSSfii--k,,TTklllle'  \n",
      "row: 1 col: 2 : 'Adventure,Comedy,Fantasy,Shounen' changed to 'AAvveennuurree,,ooryy,,FFaannttsst,,ljjnn'  \n",
      "row: 93 col: 2 : 'Drama,School' changed to 'DDrraammsSSccooo'  \n",
      "row: 46 col: 2 : 'Fantasy,Kids' changed to 'Caannttaasskfss'  \n",
      "row: 228 col: 2 : 'Short,Animation,Sci-Fi' changed to 'SSgettAAnnnaayoonnSSu--Gii'  \n",
      "row: 244 col: 2 : 'Animation' changed to 'Sjukyiioom'  \n",
      "row: 89 col: 2 : 'Animation,Comedy,Drama,Fantasy,Romance' changed to 'AAsiiVookrh,,faaFFaanngqssRRimmqnnr'  \n",
      "row: 195 col: 2 : 'Animation' changed to 'nqrnn'  \n",
      "row: 136 col: 2 : 'Comedy,Kids,Music' changed to 'CCpw,,Muw,,Kuussk'  \n",
      "row: 118 col: 2 : 'Comedy,SliceofLife' changed to 'oonsu,,cceeooLLoc'  \n",
      "row: 232 col: 2 : 'Animation' changed to 'AAnniimmttm'  \n",
      "row: 149 col: 2 : 'Animation,Short,Adventure,Fantasy' changed to 'qiipnnAhhoorrySdddnnyrr,,qbgsyy'  \n",
      "row: 396 col: 2 : 'Action,Adventure,Fantasy,Mecha' changed to 'giioob,,ddjjrrdFFsqssrcchh'  \n",
      "row: 123 col: 2 : 'Animation,Action,Adventure,Comedy,Fantasy' changed to 'AAnniiaaiQvttiiijAAddgrbrf,,ookeeehsjrqss'  \n",
      "row: 64 col: 2 : 'Adventure,Drama,Sci-Fi' changed to 'Sdddnntttee,,DDqmmSSccou'  \n",
      "row: 159 col: 2 : 'Animation,Comedy,Fantasy' changed to 'QsiioonnCCmmrddtqy'  \n",
      "row: 375 col: 2 : 'Animation' changed to 'nnmmyupnn'  \n",
      "row: 241 col: 2 : 'Hentai' changed to 'Bdjrii'  \n",
      "row: 129 col: 2 : 'Action,Adventure,Mystery,Police' changed to 'AAvgkinnQsryrr,,yywttryyOoolloxr'  \n",
      "row: 97 col: 2 : 'Animation,Short,Fantasy' changed to 'QiiqttiinnSShhoorryqjrssh'  \n",
      "row: 181 col: 2 : 'Animation,Family,Drama' changed to 'SbiiaaiipFFkkuDDq'  \n",
      "row: 57 col: 2 : 'Magic' changed to 'MMqggu'  \n",
      "row: 301 col: 2 : 'Action,Comedy,Historical,Parody,Samurai,Sci-Fi,Shounen' changed to 'voonnXieeddtHHiiyoorrk,,OqeaauukD--Dgi'  \n",
      "row: 364 col: 2 : 'Drama' changed to 'Srraamm'  \n",
      "row: 337 col: 2 : 'Animation,Adventure,Drama,Horror,Romance,Sci-Fi' changed to 'nnuklnn,,AAfvvnnruuee,,EaakHHtrroorr,,EmmaamccrAvu--Cii'  \n",
      "row: 79 col: 2 : 'Kids' changed to 'iie'  \n",
      "row: 56 col: 2 : 'Comedy,Kids' changed to 'Flneedd,,KKiiss'  \n",
      "row: 170 col: 2 : 'Magic,Parody' changed to 'Nqhiix,,PPqoo'  \n",
      "row: 88 col: 2 : 'Action,Adventure,Comedy,Fantasy,Kids' changed to 'QvgkoonnSddeebyrrdFoonGqnnttt,,Lk'  \n",
      "row: 348 col: 2 : 'Hentai' changed to 'Bmttaa'  \n",
      "row: 341 col: 2 : 'Animation,Short,Action,Fantasy' changed to 'AAmottkjSSifrttiinnsqssyy'  \n",
      "row: 323 col: 2 : 'Animation,Adventure' changed to 'AAuksttiipm,,vveennttyrr'  \n",
      "row: 157 col: 2 : 'Animation' changed to 'AAoaaiij'  \n",
      "row: 7 col: 2 : 'Comedy,Ecchi,Romance,Shounen,Supernatural,Vampire' changed to 'CCkyyDccyiiTmmq,,jydj,,SSoeeyuuaallBaakorrd'  \n",
      "row: 40 col: 2 : 'Comedy,Romance,School,Shoujo' changed to 'lmmdf,,oofd,,Agooijji'  \n",
      "row: 26 col: 2 : 'Animation' changed to 'Qnnongo'  \n",
      "row: 294 col: 2 : 'Short,Fantasy' changed to 'Ahhooeyaattsst'  \n",
      "row: 61 col: 2 : 'Animation,Adventure,Comedy,Romance' changed to 'SkmmypSddgwnnuurreeinddh,,lkbr'  \n",
      "row: 311 col: 2 : 'Hentai' changed to 'wnnaao'  \n",
      "row: 6 col: 2 : 'Animation,Action,Adventure,Comedy,Fantasy' changed to 'AAaagoljttiilnn,,Sevvguurrw,,oot,,s'  \n",
      "row: 376 col: 2 : 'Hentai' changed to 'HHeeii'  \n",
      "row: 386 col: 2 : 'Action,Fantasy,Mecha,Sci-Fi' changed to 'Qccoonn,,FFaabraah,,eehhZccii--'  \n",
      "row: 161 col: 2 : 'Music' changed to 'Nuuwu'  \n",
      "row: 113 col: 2 : 'Adventure,Drama,Fantasy,Horror,Shounen,Supernatural,Vampire' changed to 'Qxgeejuurraammq,,qzt,,HHlerrleSShhuujdmAdmaauufaaVVqkiitw'  \n",
      "row: 162 col: 2 : 'Drama' changed to 'DDrraan'  \n",
      "row: 27 col: 2 : 'Animation' changed to 'Sosgoo'  \n",
      "row: 397 col: 2 : 'Animation,Action,Adventure,Comedy,Fantasy' changed to 'Qnnuaayiioob,,Sccyoonn,,ddgfw,,eyyCqbsdh'  \n",
      "row: 331 col: 2 : 'Historical' changed to 'HHiiwrrxaao'  \n",
      "row: 238 col: 2 : 'Animation,Adventure' changed to 'buttpj,,Svveebeee'  \n",
      "row: 146 col: 2 : 'Drama,Kids' changed to 'aaudd'  \n",
      "row: 2 col: 2 : 'Historical,Kids' changed to 'GssrprrllKKdd'  \n",
      "row: 82 col: 2 : 'Adventure,Mecha,Sci-Fi,Shounen' changed to 'Qxryuurrd,,Kcccc--kSShhooeenn'  \n",
      "row: 340 col: 2 : 'Horror,Thriller' changed to 'HHoorrfYhht'  \n",
      "row: 256 col: 2 : 'Animation,Short' changed to 'AAmmqyoomir'  \n",
      "row: 34 col: 2 : 'Fantasy,Kids,Magic,Romance,Shoujo,SuperPower' changed to 'FFsnnaayy,,oswMMaaggiifpmmaannwSSjjjuuoeeOieerr'  \n",
      "row: 383 col: 2 : 'Horror,Thriller' changed to 'BprrprrYullf'  \n",
      "row: 104 col: 2 : 'Comedy,Sci-Fi' changed to 'Vmmrsyy,,Wccu--Dk'  \n",
      "row: 290 col: 2 : 'Kids,Music' changed to 'KKiifss,,MMuuwii'  \n",
      "row: 347 col: 2 : 'Hentai' changed to 'HHdgk'  \n",
      "row: 215 col: 2 : 'Hentai' changed to 'jgso'  \n",
      "row: 307 col: 2 : 'Animation,Action,Comedy,Fantasy,Mystery' changed to 'jiikyiinn,,AAccttuoonnVoondehFFaassyyMMuwydfu'  \n",
      "row: 398 col: 2 : 'Adventure,Comedy,Kids' changed to 'SjttuurreeVikdfyy,,Lkdd'  \n",
      "row: 224 col: 2 : 'Comedy,Kids,Shoujo' changed to 'XookrshKKox,,Zhhuujjoo'  \n",
      "row: 121 col: 2 : 'Animation,Adventure,Family,Fantasy' changed to 'nnknaattiioo,,AAfbdttifwDaanu,,Daaaat'  \n",
      "row: 239 col: 2 : 'Kids' changed to 'iiss'  \n",
      "row: 10 col: 2 : 'Animation,Adventure,Family,Sci-Fi' changed to 'sooonn,,SswiteeFFaammyy,,SSvii--D'  \n",
      "row: 70 col: 2 : 'Music' changed to 'MMuusskx'  \n",
      "row: 18 col: 2 : 'Comedy,Drama,SliceofLife,Supernatural' changed to 'Foommeesyy,,DDaanSSkrffKiidDjoeeennqyuuaa'  \n"
     ]
    }
   ],
   "source": [
    "# generate error in the test set\n",
    "new_dataset = error_generater(anime_test.values.tolist(), Typo_Keyboard(),50, ignored_columns = [0,1,3,4,5,6,7])\n",
    "Read_Write.write_csv_dataset(\"./{}.csv\".format(Typo_Keyboard().name), new_dataset)\n",
    "anime_test = pd.read_csv(\"./{}.csv\".format(Typo_Keyboard().name), \n",
    "                            names = ['anime_id', 'name','genre','type', 'episodes','rating', 'members', 'overview'])\n",
    "anime_test.to_csv(\"dirtyTestDataset.csv\", index = False,\n",
    "                  columns = ['anime_id', 'name','genre','type', 'episodes','rating', 'members', 'overview'])"
   ]
  },
  {
   "cell_type": "markdown",
   "metadata": {},
   "source": [
    "## Transformation"
   ]
  },
  {
   "cell_type": "code",
   "execution_count": 6,
   "metadata": {},
   "outputs": [],
   "source": [
    "import nltk\n",
    "#nltk.download('punkt')\n",
    "#nltk.download('averaged_perceptron_tagger')\n",
    "def get_words(x):\n",
    "    bagofwords=[]\n",
    "    for i in x:\n",
    "        if i[1]=='NN':\n",
    "            bagofwords.append(i[0])\n",
    "        elif i[1]=='NNS':\n",
    "            bagofwords.append(i[0])\n",
    "        elif i[1]=='NNP':\n",
    "            bagofwords.append(i[0])\n",
    "        elif i[1]=='NNPS':\n",
    "            bagofwords.append(i[0])\n",
    "        elif i[1]=='JJ':\n",
    "            bagofwords.append(i[0])\n",
    "        elif i[1]=='JJR':\n",
    "            bagofwords.append(i[0])\n",
    "        elif i[1]=='JJS':\n",
    "            bagofwords.append(i[0])\n",
    "        elif i[1]=='RB':\n",
    "            bagofwords.append(i[0])\n",
    "        elif i[1]=='RBR':\n",
    "            bagofwords.append(i[0])\n",
    "        elif i[1]=='RBS':\n",
    "            bagofwords.append(i[0])\n",
    "    return bagofwords\n",
    "\n",
    "def clean_words(x):\n",
    "    b=nltk.pos_tag(nltk.word_tokenize(x))\n",
    "    result=get_words(b)\n",
    "    return result"
   ]
  },
  {
   "cell_type": "code",
   "execution_count": 7,
   "metadata": {},
   "outputs": [],
   "source": [
    "def get_dummies(train_data_set, test_data_set):\n",
    "    train_dummies = train_data_set.genre.str.get_dummies(',')\n",
    "    test_dummies = test_data_set.genre.str.get_dummies(',')\n",
    "    \n",
    "    #print(\"Train Dummies\",train_dummies.shape)    \n",
    "    #print(\"Test Dummies\",test_dummies.shape)\n",
    "    \n",
    "    #### ALİGN\n",
    "    train_dummies, test_dummies = train_dummies.align(test_dummies, axis=1, join='left')\n",
    "    \n",
    "    test_dummies.fillna(0, inplace=True)\n",
    "    \n",
    "    type_lb = LabelBinarizer()\n",
    "    fitted_type_lb = type_lb.fit(train_data_set.type.values)\n",
    "    X_train = type_lb.transform(train_data_set.type.values)\n",
    "    X_test  = type_lb.transform(test_data_set.type.values)\n",
    "    \n",
    "    dfOneHot_train = pd.DataFrame(X_train, columns = [\"movie/TVseries\" for i in range(X_train.shape[1])])\n",
    "    dfOneHot_test  = pd.DataFrame(X_test,  columns = [\"movie/TVseries\" for i in range(X_test.shape[1])])\n",
    "    \n",
    "    \n",
    "    train_data_set = pd.concat([train_data_set, dfOneHot_train], axis=1, join=\"inner\")\n",
    "    train_data_set = pd.concat([train_data_set, train_dummies ], axis=1, join=\"inner\")\n",
    "\n",
    "    test_data_set = pd.concat([test_data_set, dfOneHot_test], axis=1)\n",
    "    test_data_set = pd.concat([test_data_set, test_dummies],  axis=1)\n",
    "    \n",
    "    test_data_set['movie/TVseries'].fillna(0, inplace=True)\n",
    "    train_data_set['movie/TVseries'].fillna(0, inplace=True)\n",
    "\n",
    "    return ([train_data_set, test_data_set])\n",
    "\n",
    "def feature_transformation(train_data_set, test_data_set):\n",
    "    \n",
    "    dummieset = get_dummies(train_data_set, test_data_set)\n",
    "    train_data_set = dummieset[0]\n",
    "    test_data_set = dummieset[1]\n",
    "        \n",
    "    #Bag of Words\n",
    "    summary_doc_train = train_data_set['overview'].fillna(\"\").map(clean_words)\n",
    "    summary_doc_train =summary_doc_train.apply(','.join)\n",
    "    \n",
    "    summary_doc_test = test_data_set['overview'].fillna(\"\").map(clean_words)\n",
    "    summary_doc_test =summary_doc_test.apply(','.join)\n",
    " \n",
    "    vectorizer = TfidfVectorizer()\n",
    "    fitted_vectorizer = vectorizer.fit(summary_doc_train)\n",
    "    overview_feature_train = fitted_vectorizer.transform(summary_doc_train).toarray()\n",
    "    overview_feature_test = fitted_vectorizer.transform(summary_doc_test).toarray()\n",
    "\n",
    "    df_train = pd.DataFrame(overview_feature_train, columns = [\"word\"+ str(int(i)) for i in range(overview_feature_train.shape[1])])\n",
    "    train_data_set = pd.concat([train_data_set, df_train], axis=1)\n",
    "    \n",
    "    df_test = pd.DataFrame(overview_feature_test, columns = [\"word\"+ str(int(i)) for i in range(overview_feature_test.shape[1])])\n",
    "    test_data_set = pd.concat([test_data_set, df_test], axis=1)\n",
    "    \n",
    "    train_data_set = train_data_set.drop(columns=['anime_id', 'name', 'genre', 'overview', 'type'])\n",
    "    test_data_set = test_data_set.drop(columns=['anime_id', 'name', 'genre', 'overview', 'type'])\n",
    "    \n",
    "    #drop NaN values\n",
    "    train_data_set.dropna(inplace=True)\n",
    "    test_data_set.dropna(inplace=True)\n",
    "    \n",
    "    train_data_set.fillna(0, inplace=True)\n",
    "    test_data_set.fillna(0, inplace=True)\n",
    "    \n",
    "    return ([train_data_set, test_data_set])\n"
   ]
  },
  {
   "cell_type": "code",
   "execution_count": 8,
   "metadata": {
    "scrolled": false
   },
   "outputs": [],
   "source": [
    "from sklearn.feature_extraction.text import TfidfVectorizer\n",
    "\n",
    "'''\n",
    "anime_train = feature_transformation(anime_train)\n",
    "anime_test = feature_transformation(anime_test)\n",
    "'''\n",
    "transformed_features = feature_transformation(anime_train, anime_test)\n",
    "\n",
    "anime_train = transformed_features[0]\n",
    "anime_test = transformed_features[1]"
   ]
  },
  {
   "cell_type": "code",
   "execution_count": 9,
   "metadata": {},
   "outputs": [
    {
     "name": "stdout",
     "output_type": "stream",
     "text": [
      "(30, 2368)\n",
      "(383, 2368)\n"
     ]
    }
   ],
   "source": [
    "#anime_train = anime_train.dropna()\n",
    "print(anime_train.shape)\n",
    "print(anime_test.shape)"
   ]
  },
  {
   "cell_type": "code",
   "execution_count": 10,
   "metadata": {},
   "outputs": [],
   "source": [
    "anime_y_train = anime_train['rating']\n",
    "anime_X_train = anime_train.drop(columns=['rating'])\n",
    "\n",
    "anime_y_test = anime_test['rating']\n",
    "anime_X_test = anime_test.drop(columns=['rating'])\n"
   ]
  },
  {
   "cell_type": "markdown",
   "metadata": {},
   "source": [
    "## Feature Selection"
   ]
  },
  {
   "cell_type": "code",
   "execution_count": 11,
   "metadata": {},
   "outputs": [
    {
     "name": "stdout",
     "output_type": "stream",
     "text": [
      "(30, 2367)\n",
      "(383, 2367)\n",
      "(30, 700)\n",
      "(383, 700)\n"
     ]
    },
    {
     "name": "stderr",
     "output_type": "stream",
     "text": [
      "/Users/sezin/.local/share/virtualenvs/dsa-DC4ML-_HMLejDF/lib/python3.7/site-packages/sklearn/feature_selection/univariate_selection.py:299: RuntimeWarning: invalid value encountered in true_divide\n",
      "  corr /= X_norms\n",
      "/Users/sezin/.local/share/virtualenvs/dsa-DC4ML-_HMLejDF/lib/python3.7/site-packages/scipy/stats/_distn_infrastructure.py:879: RuntimeWarning: invalid value encountered in greater\n",
      "  return (self.a < x) & (x < self.b)\n",
      "/Users/sezin/.local/share/virtualenvs/dsa-DC4ML-_HMLejDF/lib/python3.7/site-packages/scipy/stats/_distn_infrastructure.py:879: RuntimeWarning: invalid value encountered in less\n",
      "  return (self.a < x) & (x < self.b)\n",
      "/Users/sezin/.local/share/virtualenvs/dsa-DC4ML-_HMLejDF/lib/python3.7/site-packages/scipy/stats/_distn_infrastructure.py:1821: RuntimeWarning: invalid value encountered in less_equal\n",
      "  cond2 = cond0 & (x <= self.a)\n",
      "/Users/sezin/.local/share/virtualenvs/dsa-DC4ML-_HMLejDF/lib/python3.7/site-packages/sklearn/utils/validation.py:590: DataConversionWarning: Data with input dtype object was converted to float64 by StandardScaler.\n",
      "  warnings.warn(msg, DataConversionWarning)\n",
      "/Users/sezin/.local/share/virtualenvs/dsa-DC4ML-_HMLejDF/lib/python3.7/site-packages/sklearn/utils/validation.py:590: DataConversionWarning: Data with input dtype object was converted to float64 by StandardScaler.\n",
      "  warnings.warn(msg, DataConversionWarning)\n"
     ]
    }
   ],
   "source": [
    "from sklearn.feature_selection import SelectKBest\n",
    "from sklearn.feature_selection import f_regression\n",
    "from sklearn.preprocessing import StandardScaler\n",
    "\n",
    "selector = SelectKBest(score_func=f_regression,k=700)#anime_X_test.shape[1]-1)\n",
    "features = selector.fit(anime_X_train, anime_y_train)\n",
    "\n",
    "# summarize scores\n",
    "np.set_printoptions(precision=3)\n",
    "#print(fit.scores_)\n",
    "\n",
    "print(anime_X_train.shape)\n",
    "print(anime_X_test.shape)\n",
    "anime_X_train = features.transform(anime_X_train)\n",
    "anime_X_test = features.transform(anime_X_test)\n",
    "print(anime_X_train.shape)\n",
    "print(anime_X_test.shape)\n",
    "\n",
    "scaler = StandardScaler() \n",
    "\n",
    "# Apply transform to both the training set and the test set.\n",
    "anime_X_train = scaler.fit_transform(anime_X_train)  \n",
    "anime_X_test = scaler.transform(anime_X_test) "
   ]
  },
  {
   "cell_type": "markdown",
   "metadata": {},
   "source": [
    "## Training - Testing - Evaluation"
   ]
  },
  {
   "cell_type": "code",
   "execution_count": 12,
   "metadata": {},
   "outputs": [],
   "source": [
    "def training(model, dataset, label):\n",
    "    clf = model\n",
    "    clf.fit(dataset, label)\n",
    "    return clf\n",
    "\n",
    "def testing_evaluation(model, testset):\n",
    "    # Make predictions using the testing set\n",
    "    anime_y_pred = model.predict(testset)\n",
    "\n",
    "    # The mean absolute error\n",
    "    print(\"Mean absolute error: %.2f\" % np.sqrt(mean_absolute_error(anime_y_test, anime_y_pred)))\n",
    "\n",
    "    # The mean squared error\n",
    "    print(\"Mean squared error: %.2f\" % np.sqrt(mean_squared_error(anime_y_test, anime_y_pred)))\n",
    "\n",
    "    # Explained variance score: 1 is perfect prediction\n",
    "    print('Variance score: %.2f' % r2_score(anime_y_test, anime_y_pred))"
   ]
  },
  {
   "cell_type": "markdown",
   "metadata": {},
   "source": [
    "### Linear Regression"
   ]
  },
  {
   "cell_type": "code",
   "execution_count": 13,
   "metadata": {},
   "outputs": [
    {
     "name": "stdout",
     "output_type": "stream",
     "text": [
      "Mean absolute error: 1.43\n",
      "Mean squared error: 2.34\n",
      "Variance score: -4.67\n"
     ]
    },
    {
     "name": "stderr",
     "output_type": "stream",
     "text": [
      "/Users/sezin/.local/share/virtualenvs/dsa-DC4ML-_HMLejDF/lib/python3.7/site-packages/sklearn/linear_model/base.py:485: RuntimeWarning: internal gelsd driver lwork query error, required iwork dimension not returned. This is likely the result of LAPACK bug 0038, fixed in LAPACK 3.2.2 (released July 21, 2010). Falling back to 'gelss' driver.\n",
      "  linalg.lstsq(X, y)\n"
     ]
    }
   ],
   "source": [
    "clf = training(model = linear_model.LinearRegression(), dataset = anime_X_train, label= anime_y_train)\n",
    "testing_evaluation(clf, anime_X_test)"
   ]
  },
  {
   "cell_type": "markdown",
   "metadata": {},
   "source": [
    "### Lesso Regression"
   ]
  },
  {
   "cell_type": "code",
   "execution_count": 14,
   "metadata": {},
   "outputs": [
    {
     "name": "stdout",
     "output_type": "stream",
     "text": [
      "Mean absolute error: 1.41\n",
      "Mean squared error: 2.22\n",
      "Variance score: -4.11\n"
     ]
    }
   ],
   "source": [
    "clf = training(model = linear_model.Lasso(alpha=0.1), dataset = anime_X_train, label= anime_y_train)\n",
    "testing_evaluation(clf, anime_X_test)"
   ]
  },
  {
   "cell_type": "markdown",
   "metadata": {},
   "source": [
    "### LassoCV"
   ]
  },
  {
   "cell_type": "code",
   "execution_count": 15,
   "metadata": {},
   "outputs": [
    {
     "data": {
      "text/plain": [
       "'\\n# Create a list of alphas to cross-validate against\\nalphas = np.logspace(-10, 1, 100)\\n\\n# Instantiate the linear model and visualizer\\nmodel = LassoCV(alphas=alphas, cv = 5)\\nvisualizer = AlphaSelection(model)\\n\\nvisualizer.fit(anime_X_train, anime_y_train)\\ng = visualizer.poof()\\n'"
      ]
     },
     "execution_count": 15,
     "metadata": {},
     "output_type": "execute_result"
    }
   ],
   "source": [
    "'''\n",
    "# Create a list of alphas to cross-validate against\n",
    "alphas = np.logspace(-10, 1, 100)\n",
    "\n",
    "# Instantiate the linear model and visualizer\n",
    "model = LassoCV(alphas=alphas, cv = 5)\n",
    "visualizer = AlphaSelection(model)\n",
    "\n",
    "visualizer.fit(anime_X_train, anime_y_train)\n",
    "g = visualizer.poof()\n",
    "'''\n"
   ]
  },
  {
   "cell_type": "markdown",
   "metadata": {},
   "source": [
    "### Cross Validation"
   ]
  },
  {
   "cell_type": "code",
   "execution_count": 16,
   "metadata": {},
   "outputs": [
    {
     "name": "stdout",
     "output_type": "stream",
     "text": [
      "Scores: [0.32  0.098 0.058 0.141 0.201]\n",
      "Mean: 0.16349928903553135\n",
      "Standard deviation: 0.09128261873447271\n"
     ]
    }
   ],
   "source": [
    "def display_scores(scores):\n",
    "    print(\"Scores:\", scores)\n",
    "    print(\"Mean:\", scores.mean())\n",
    "    print(\"Standard deviation:\", scores.std())\n",
    "    \n",
    "scores = cross_val_score(clf, anime_X_train, anime_y_train, scoring=\"neg_mean_squared_error\", cv=5) \n",
    "rmse_scores = np.sqrt(-scores)\n",
    "display_scores(rmse_scores)"
   ]
  },
  {
   "cell_type": "markdown",
   "metadata": {},
   "source": [
    "### Grid Search For Hyper Parameter Selection"
   ]
  },
  {
   "cell_type": "code",
   "execution_count": 17,
   "metadata": {},
   "outputs": [
    {
     "name": "stderr",
     "output_type": "stream",
     "text": [
      "/Users/sezin/.local/share/virtualenvs/dsa-DC4ML-_HMLejDF/lib/python3.7/site-packages/sklearn/linear_model/coordinate_descent.py:491: ConvergenceWarning: Objective did not converge. You might want to increase the number of iterations. Fitting data with very small alpha may cause precision problems.\n",
      "  ConvergenceWarning)\n",
      "/Users/sezin/.local/share/virtualenvs/dsa-DC4ML-_HMLejDF/lib/python3.7/site-packages/sklearn/linear_model/coordinate_descent.py:491: ConvergenceWarning: Objective did not converge. You might want to increase the number of iterations. Fitting data with very small alpha may cause precision problems.\n",
      "  ConvergenceWarning)\n",
      "/Users/sezin/.local/share/virtualenvs/dsa-DC4ML-_HMLejDF/lib/python3.7/site-packages/sklearn/linear_model/coordinate_descent.py:491: ConvergenceWarning: Objective did not converge. You might want to increase the number of iterations. Fitting data with very small alpha may cause precision problems.\n",
      "  ConvergenceWarning)\n",
      "/Users/sezin/.local/share/virtualenvs/dsa-DC4ML-_HMLejDF/lib/python3.7/site-packages/sklearn/linear_model/coordinate_descent.py:491: ConvergenceWarning: Objective did not converge. You might want to increase the number of iterations. Fitting data with very small alpha may cause precision problems.\n",
      "  ConvergenceWarning)\n",
      "/Users/sezin/.local/share/virtualenvs/dsa-DC4ML-_HMLejDF/lib/python3.7/site-packages/sklearn/linear_model/coordinate_descent.py:491: ConvergenceWarning: Objective did not converge. You might want to increase the number of iterations. Fitting data with very small alpha may cause precision problems.\n",
      "  ConvergenceWarning)\n",
      "/Users/sezin/.local/share/virtualenvs/dsa-DC4ML-_HMLejDF/lib/python3.7/site-packages/sklearn/linear_model/coordinate_descent.py:491: ConvergenceWarning: Objective did not converge. You might want to increase the number of iterations. Fitting data with very small alpha may cause precision problems.\n",
      "  ConvergenceWarning)\n"
     ]
    },
    {
     "name": "stdout",
     "output_type": "stream",
     "text": [
      "best parameters are:  {'alpha': 0.001}\n",
      "The mean squared Error is: 0.03\n"
     ]
    }
   ],
   "source": [
    "def checkHP(model, folds, dataset, label):\n",
    "    parameters = {\n",
    "                   \"alpha\": [0.0001, 0.001, 0.01, 0.1, 1, 10, 100],\n",
    "                  }\n",
    "\n",
    "    gd_sr = GridSearchCV(estimator=model,  \n",
    "                         param_grid=parameters,\n",
    "                         scoring=\"neg_mean_squared_error\",\n",
    "                         cv=folds)\n",
    "\n",
    "    gd_sr.fit(dataset, label)  \n",
    "    \n",
    "    best_parameters = gd_sr.best_params_  \n",
    "    print(\"best parameters are: \", best_parameters)\n",
    "\n",
    "    best_result = gd_sr.best_score_  \n",
    "    print(\"The mean squared Error is: %.2f\" % -best_result) \n",
    "    \n",
    "checkHP(clf, 5, anime_X_train, anime_y_train) "
   ]
  },
  {
   "cell_type": "markdown",
   "metadata": {},
   "source": [
    "### Re-Training"
   ]
  },
  {
   "cell_type": "code",
   "execution_count": 18,
   "metadata": {},
   "outputs": [
    {
     "name": "stdout",
     "output_type": "stream",
     "text": [
      "Mean absolute error: 1.41\n",
      "Mean squared error: 2.22\n",
      "Variance score: -4.11\n"
     ]
    }
   ],
   "source": [
    "clf = training(model = linear_model.Lasso(alpha=0.1), dataset = anime_X_train, label= anime_y_train)\n",
    "testing_evaluation(clf, anime_X_test)"
   ]
  },
  {
   "cell_type": "code",
   "execution_count": null,
   "metadata": {},
   "outputs": [],
   "source": []
  }
 ],
 "metadata": {
  "kernelspec": {
   "display_name": "dsa-DC4ML",
   "language": "python",
   "name": "dsa-dc4ml"
  },
  "language_info": {
   "codemirror_mode": {
    "name": "ipython",
    "version": 3
   },
   "file_extension": ".py",
   "mimetype": "text/x-python",
   "name": "python",
   "nbconvert_exporter": "python",
   "pygments_lexer": "ipython3",
   "version": "3.7.1"
  }
 },
 "nbformat": 4,
 "nbformat_minor": 2
}
